
  {
   "cell_type": "markdown",
   "metadata": {},
   "source": [
    "#### Airbnb New User Bookings"
   ]
  },
  {
   "cell_type": "markdown",
   "metadata": {},
   "source": [
    "You can get the detailed information and download the data from the following link:<br/>\n",
    "https://www.kaggle.com/c/airbnb-recruiting-new-user-bookings/data\n",
    "\n",
  
   ]
  },
  {
   "cell_type": "markdown",
   "metadata": {},
   "source": [
    "## Data Sets"
   ]
  },
  {
   "cell_type": "code",
   "execution_count": 1,
   "metadata": {
    "collapsed": true
   },
   "outputs": [],
   "source": [
    "## Type your answers here ##\n",
    "import pandas as pd\n",
    "import numpy as np\n",
    "import matplotlib.pyplot as plt\n",
    "% matplotlib inline\n"
   ]
  },
  {
   "cell_type": "code",
   "execution_count": 2,
   "metadata": {},
   "outputs": [],
   "source": [
    "## main data, which we will use \n",
    "test = pd.read_csv(\"AirbnbData/test_users.csv\")\n",
    "train = pd.read_csv('AirbnbData/train_users_2.csv')\n",
    "\n",
    "## other data\n",
    "age_gender = pd.read_csv('AirbnbData/age_gender_bkts.csv')\n",
    "countries = pd.read_csv('AirbnbData/countries.csv')"
   ]
  },
  {
   "cell_type": "code",
   "execution_count": 3,
   "metadata": {},
   "outputs": [],
   "source": [
    "labels = train['country_destination'].values"
   ]
  },
  {
   "cell_type": "code",
   "execution_count": 4,
   "metadata": {},
   "outputs": [
    {
     "data": {
      "text/html": [
       "<div>\n",
       "<table border=\"1\" class=\"dataframe\">\n",
       "  <thead>\n",
       "    <tr style=\"text-align: right;\">\n",
       "      <th></th>\n",
       "      <th>country_destination</th>\n",
       "      <th>lat_destination</th>\n",
       "      <th>lng_destination</th>\n",
       "      <th>distance_km</th>\n",
       "      <th>destination_km2</th>\n",
       "      <th>destination_language</th>\n",
       "      <th>language_levenshtein_distance</th>\n",
       "    </tr>\n",
       "  </thead>\n",
       "  <tbody>\n",
       "    <tr>\n",
       "      <th>0</th>\n",
       "      <td>AU</td>\n",
       "      <td>-26.853388</td>\n",
       "      <td>133.275160</td>\n",
       "      <td>15297.7440</td>\n",
       "      <td>7741220.0</td>\n",
       "      <td>eng</td>\n",
       "      <td>0.00</td>\n",
       "    </tr>\n",
       "    <tr>\n",
       "      <th>1</th>\n",
       "      <td>CA</td>\n",
       "      <td>62.393303</td>\n",
       "      <td>-96.818146</td>\n",
       "      <td>2828.1333</td>\n",
       "      <td>9984670.0</td>\n",
       "      <td>eng</td>\n",
       "      <td>0.00</td>\n",
       "    </tr>\n",
       "    <tr>\n",
       "      <th>2</th>\n",
       "      <td>DE</td>\n",
       "      <td>51.165707</td>\n",
       "      <td>10.452764</td>\n",
       "      <td>7879.5680</td>\n",
       "      <td>357022.0</td>\n",
       "      <td>deu</td>\n",
       "      <td>72.61</td>\n",
       "    </tr>\n",
       "    <tr>\n",
       "      <th>3</th>\n",
       "      <td>ES</td>\n",
       "      <td>39.896027</td>\n",
       "      <td>-2.487694</td>\n",
       "      <td>7730.7240</td>\n",
       "      <td>505370.0</td>\n",
       "      <td>spa</td>\n",
       "      <td>92.25</td>\n",
       "    </tr>\n",
       "    <tr>\n",
       "      <th>4</th>\n",
       "      <td>FR</td>\n",
       "      <td>46.232193</td>\n",
       "      <td>2.209667</td>\n",
       "      <td>7682.9450</td>\n",
       "      <td>643801.0</td>\n",
       "      <td>fra</td>\n",
       "      <td>92.06</td>\n",
       "    </tr>\n",
       "  </tbody>\n",
       "</table>\n",
       "</div>"
      ],
      "text/plain": [
       "  country_destination  lat_destination  lng_destination  distance_km  \\\n",
       "0                  AU       -26.853388       133.275160   15297.7440   \n",
       "1                  CA        62.393303       -96.818146    2828.1333   \n",
       "2                  DE        51.165707        10.452764    7879.5680   \n",
       "3                  ES        39.896027        -2.487694    7730.7240   \n",
       "4                  FR        46.232193         2.209667    7682.9450   \n",
       "\n",
       "   destination_km2 destination_language   language_levenshtein_distance  \n",
       "0        7741220.0                   eng                           0.00  \n",
       "1        9984670.0                   eng                           0.00  \n",
       "2         357022.0                   deu                          72.61  \n",
       "3         505370.0                   spa                          92.25  \n",
       "4         643801.0                   fra                          92.06  "
      ]
     },
     "execution_count": 4,
     "metadata": {},
     "output_type": "execute_result"
    }
   ],
   "source": [
    "countries.head()"
   ]
  },
  {
   "cell_type": "code",
   "execution_count": 5,
   "metadata": {},
   "outputs": [
    {
     "data": {
      "text/html": [
       "<div>\n",
       "<table border=\"1\" class=\"dataframe\">\n",
       "  <thead>\n",
       "    <tr style=\"text-align: right;\">\n",
       "      <th></th>\n",
       "      <th>age_bucket</th>\n",
       "      <th>country_destination</th>\n",
       "      <th>gender</th>\n",
       "      <th>population_in_thousands</th>\n",
       "      <th>year</th>\n",
       "    </tr>\n",
       "  </thead>\n",
       "  <tbody>\n",
       "    <tr>\n",
       "      <th>0</th>\n",
       "      <td>100+</td>\n",
       "      <td>AU</td>\n",
       "      <td>male</td>\n",
       "      <td>1.0</td>\n",
       "      <td>2015.0</td>\n",
       "    </tr>\n",
       "    <tr>\n",
       "      <th>1</th>\n",
       "      <td>95-99</td>\n",
       "      <td>AU</td>\n",
       "      <td>male</td>\n",
       "      <td>9.0</td>\n",
       "      <td>2015.0</td>\n",
       "    </tr>\n",
       "    <tr>\n",
       "      <th>2</th>\n",
       "      <td>90-94</td>\n",
       "      <td>AU</td>\n",
       "      <td>male</td>\n",
       "      <td>47.0</td>\n",
       "      <td>2015.0</td>\n",
       "    </tr>\n",
       "    <tr>\n",
       "      <th>3</th>\n",
       "      <td>85-89</td>\n",
       "      <td>AU</td>\n",
       "      <td>male</td>\n",
       "      <td>118.0</td>\n",
       "      <td>2015.0</td>\n",
       "    </tr>\n",
       "    <tr>\n",
       "      <th>4</th>\n",
       "      <td>80-84</td>\n",
       "      <td>AU</td>\n",
       "      <td>male</td>\n",
       "      <td>199.0</td>\n",
       "      <td>2015.0</td>\n",
       "    </tr>\n",
       "  </tbody>\n",
       "</table>\n",
       "</div>"
      ],
      "text/plain": [
       "  age_bucket country_destination gender  population_in_thousands    year\n",
       "0       100+                  AU   male                      1.0  2015.0\n",
       "1      95-99                  AU   male                      9.0  2015.0\n",
       "2      90-94                  AU   male                     47.0  2015.0\n",
       "3      85-89                  AU   male                    118.0  2015.0\n",
       "4      80-84                  AU   male                    199.0  2015.0"
      ]
     },
     "execution_count": 5,
     "metadata": {},
     "output_type": "execute_result"
    }
   ],
   "source": [
    "age_gender.head()"
   ]
  },
  {
   "cell_type": "code",
   "execution_count": 6,
   "metadata": {},
   "outputs": [
    {
     "data": {
      "text/html": [
       "<div>\n",
       "<table border=\"1\" class=\"dataframe\">\n",
       "  <thead>\n",
       "    <tr style=\"text-align: right;\">\n",
       "      <th></th>\n",
       "      <th>id</th>\n",
       "      <th>date_account_created</th>\n",
       "      <th>timestamp_first_active</th>\n",
       "      <th>date_first_booking</th>\n",
       "      <th>gender</th>\n",
       "      <th>age</th>\n",
       "      <th>signup_method</th>\n",
       "      <th>signup_flow</th>\n",
       "      <th>language</th>\n",
       "      <th>affiliate_channel</th>\n",
       "      <th>affiliate_provider</th>\n",
       "      <th>first_affiliate_tracked</th>\n",
       "      <th>signup_app</th>\n",
       "      <th>first_device_type</th>\n",
       "      <th>first_browser</th>\n",
       "      <th>country_destination</th>\n",
       "    </tr>\n",
       "  </thead>\n",
       "  <tbody>\n",
       "    <tr>\n",
       "      <th>0</th>\n",
       "      <td>gxn3p5htnn</td>\n",
       "      <td>2010-06-28</td>\n",
       "      <td>20090319043255</td>\n",
       "      <td>NaN</td>\n",
       "      <td>-unknown-</td>\n",
       "      <td>NaN</td>\n",
       "      <td>facebook</td>\n",
       "      <td>0</td>\n",
       "      <td>en</td>\n",
       "      <td>direct</td>\n",
       "      <td>direct</td>\n",
       "      <td>untracked</td>\n",
       "      <td>Web</td>\n",
       "      <td>Mac Desktop</td>\n",
       "      <td>Chrome</td>\n",
       "      <td>NDF</td>\n",
       "    </tr>\n",
       "    <tr>\n",
       "      <th>1</th>\n",
       "      <td>820tgsjxq7</td>\n",
       "      <td>2011-05-25</td>\n",
       "      <td>20090523174809</td>\n",
       "      <td>NaN</td>\n",
       "      <td>MALE</td>\n",
       "      <td>38.0</td>\n",
       "      <td>facebook</td>\n",
       "      <td>0</td>\n",
       "      <td>en</td>\n",
       "      <td>seo</td>\n",
       "      <td>google</td>\n",
       "      <td>untracked</td>\n",
       "      <td>Web</td>\n",
       "      <td>Mac Desktop</td>\n",
       "      <td>Chrome</td>\n",
       "      <td>NDF</td>\n",
       "    </tr>\n",
       "    <tr>\n",
       "      <th>2</th>\n",
       "      <td>4ft3gnwmtx</td>\n",
       "      <td>2010-09-28</td>\n",
       "      <td>20090609231247</td>\n",
       "      <td>2010-08-02</td>\n",
       "      <td>FEMALE</td>\n",
       "      <td>56.0</td>\n",
       "      <td>basic</td>\n",
       "      <td>3</td>\n",
       "      <td>en</td>\n",
       "      <td>direct</td>\n",
       "      <td>direct</td>\n",
       "      <td>untracked</td>\n",
       "      <td>Web</td>\n",
       "      <td>Windows Desktop</td>\n",
       "      <td>IE</td>\n",
       "      <td>US</td>\n",
       "    </tr>\n",
       "    <tr>\n",
       "      <th>3</th>\n",
       "      <td>bjjt8pjhuk</td>\n",
       "      <td>2011-12-05</td>\n",
       "      <td>20091031060129</td>\n",
       "      <td>2012-09-08</td>\n",
       "      <td>FEMALE</td>\n",
       "      <td>42.0</td>\n",
       "      <td>facebook</td>\n",
       "      <td>0</td>\n",
       "      <td>en</td>\n",
       "      <td>direct</td>\n",
       "      <td>direct</td>\n",
       "      <td>untracked</td>\n",
       "      <td>Web</td>\n",
       "      <td>Mac Desktop</td>\n",
       "      <td>Firefox</td>\n",
       "      <td>other</td>\n",
       "    </tr>\n",
       "    <tr>\n",
       "      <th>4</th>\n",
       "      <td>87mebub9p4</td>\n",
       "      <td>2010-09-14</td>\n",
       "      <td>20091208061105</td>\n",
       "      <td>2010-02-18</td>\n",
       "      <td>-unknown-</td>\n",
       "      <td>41.0</td>\n",
       "      <td>basic</td>\n",
       "      <td>0</td>\n",
       "      <td>en</td>\n",
       "      <td>direct</td>\n",
       "      <td>direct</td>\n",
       "      <td>untracked</td>\n",
       "      <td>Web</td>\n",
       "      <td>Mac Desktop</td>\n",
       "      <td>Chrome</td>\n",
       "      <td>US</td>\n",
       "    </tr>\n",
       "  </tbody>\n",
       "</table>\n",
       "</div>"
      ],
      "text/plain": [
       "           id date_account_created  timestamp_first_active date_first_booking  \\\n",
       "0  gxn3p5htnn           2010-06-28          20090319043255                NaN   \n",
       "1  820tgsjxq7           2011-05-25          20090523174809                NaN   \n",
       "2  4ft3gnwmtx           2010-09-28          20090609231247         2010-08-02   \n",
       "3  bjjt8pjhuk           2011-12-05          20091031060129         2012-09-08   \n",
       "4  87mebub9p4           2010-09-14          20091208061105         2010-02-18   \n",
       "\n",
       "      gender   age signup_method  signup_flow language affiliate_channel  \\\n",
       "0  -unknown-   NaN      facebook            0       en            direct   \n",
       "1       MALE  38.0      facebook            0       en               seo   \n",
       "2     FEMALE  56.0         basic            3       en            direct   \n",
       "3     FEMALE  42.0      facebook            0       en            direct   \n",
       "4  -unknown-  41.0         basic            0       en            direct   \n",
       "\n",
       "  affiliate_provider first_affiliate_tracked signup_app first_device_type  \\\n",
       "0             direct               untracked        Web       Mac Desktop   \n",
       "1             google               untracked        Web       Mac Desktop   \n",
       "2             direct               untracked        Web   Windows Desktop   \n",
       "3             direct               untracked        Web       Mac Desktop   \n",
       "4             direct               untracked        Web       Mac Desktop   \n",
       "\n",
       "  first_browser country_destination  \n",
       "0        Chrome                 NDF  \n",
       "1        Chrome                 NDF  \n",
       "2            IE                  US  \n",
       "3       Firefox               other  \n",
       "4        Chrome                  US  "
      ]
     },
     "execution_count": 6,
     "metadata": {},
     "output_type": "execute_result"
    }
   ],
   "source": [
    "train.head()"
   ]
  },
  {
   "cell_type": "code",
   "execution_count": 7,
   "metadata": {},
   "outputs": [
    {
     "data": {
      "text/plain": [
       "((213451, 16),\n",
       " Index([u'id', u'date_account_created', u'timestamp_first_active',\n",
       "        u'date_first_booking', u'gender', u'age', u'signup_method',\n",
       "        u'signup_flow', u'language', u'affiliate_channel',\n",
       "        u'affiliate_provider', u'first_affiliate_tracked', u'signup_app',\n",
       "        u'first_device_type', u'first_browser', u'country_destination'],\n",
       "       dtype='object'))"
      ]
     },
     "execution_count": 7,
     "metadata": {},
     "output_type": "execute_result"
    }
   ],
   "source": [
    "train.shape, train.columns"
   ]
  },
  {
   "cell_type": "code",
   "execution_count": 8,
   "metadata": {},
   "outputs": [
    {
     "data": {
      "text/plain": [
       "((62096, 15), Index([u'id', u'date_account_created', u'timestamp_first_active',\n",
       "        u'date_first_booking', u'gender', u'age', u'signup_method',\n",
       "        u'signup_flow', u'language', u'affiliate_channel',\n",
       "        u'affiliate_provider', u'first_affiliate_tracked', u'signup_app',\n",
       "        u'first_device_type', u'first_browser'],\n",
       "       dtype='object'))"
      ]
     },
     "execution_count": 8,
     "metadata": {},
     "output_type": "execute_result"
    }
   ],
   "source": [
    "test.shape, test.columns"
   ]
  },
  {
   "cell_type": "code",
   "execution_count": 9,
   "metadata": {},
   "outputs": [
    {
     "data": {
      "text/plain": [
       "Index([u'country_destination'], dtype='object')"
      ]
     },
     "execution_count": 9,
     "metadata": {},
     "output_type": "execute_result"
    }
   ],
   "source": [
    "## see if there is any different variables of the test and train\n",
    "train.columns.difference(test.columns) # we can drop this"
   ]
  },
  {
   "cell_type": "markdown",
   "metadata": {},
   "source": [
    "### To the data cleaning part, I took advice on the techniques that 2nd place winner, Keiichi Kuroyanagi and David Gasquez's User Data Exploration, and also the homework answers.\n",
    "\n",
    "Here is my plan of data processing\n",
    "\n",
    "1. Merge the train and test datasets, deal with missing data, convert the datetime data\n",
    "3. Identify the numerical variables and categorical variable\n",
    "4. Encoded the categorical features using one-hot encoding\n",
    "\n",
    "Merge other datasets: country, age_bucket"
   ]
  },
  {
   "cell_type": "markdown",
   "metadata": {},
   "source": [
    "### 1. Merge the datasets, train and test datasets. "
   ]
  },
  {
   "cell_type": "code",
   "execution_count": 10,
   "metadata": {},
   "outputs": [
    {
     "name": "stdout",
     "output_type": "stream",
     "text": [
      "The test data consists of 62096 records and the train data consists of 213451 records, total 275547 records\n"
     ]
    }
   ],
   "source": [
    "train_test_all = pd.concat([train, test], axis = 0)\n",
    "train_test_all.shape\n",
    "\n",
    "print (\"The test data consists of {} records and the train data consists of {} records, total {} records\"\n",
    "       .format(test.shape[0], train.shape[0], train_test_all.shape[0]))"
   ]
  },
  {
   "cell_type": "code",
   "execution_count": 11,
   "metadata": {},
   "outputs": [],
   "source": [
    "# drop the country_destination columns because of the discrepency\n",
    "train_test_all.drop(\"country_destination\", axis = 1, inplace= True)"
   ]
  },
  {
   "cell_type": "code",
   "execution_count": 12,
   "metadata": {},
   "outputs": [
    {
     "data": {
      "text/html": [
       "<div>\n",
       "<table border=\"1\" class=\"dataframe\">\n",
       "  <thead>\n",
       "    <tr style=\"text-align: right;\">\n",
       "      <th></th>\n",
       "      <th>affiliate_channel</th>\n",
       "      <th>affiliate_provider</th>\n",
       "      <th>age</th>\n",
       "      <th>date_account_created</th>\n",
       "      <th>date_first_booking</th>\n",
       "      <th>first_affiliate_tracked</th>\n",
       "      <th>first_browser</th>\n",
       "      <th>first_device_type</th>\n",
       "      <th>gender</th>\n",
       "      <th>id</th>\n",
       "      <th>language</th>\n",
       "      <th>signup_app</th>\n",
       "      <th>signup_flow</th>\n",
       "      <th>signup_method</th>\n",
       "      <th>timestamp_first_active</th>\n",
       "    </tr>\n",
       "  </thead>\n",
       "  <tbody>\n",
       "    <tr>\n",
       "      <th>0</th>\n",
       "      <td>direct</td>\n",
       "      <td>direct</td>\n",
       "      <td>NaN</td>\n",
       "      <td>2010-06-28</td>\n",
       "      <td>NaN</td>\n",
       "      <td>untracked</td>\n",
       "      <td>Chrome</td>\n",
       "      <td>Mac Desktop</td>\n",
       "      <td>-unknown-</td>\n",
       "      <td>gxn3p5htnn</td>\n",
       "      <td>en</td>\n",
       "      <td>Web</td>\n",
       "      <td>0</td>\n",
       "      <td>facebook</td>\n",
       "      <td>20090319043255</td>\n",
       "    </tr>\n",
       "    <tr>\n",
       "      <th>1</th>\n",
       "      <td>seo</td>\n",
       "      <td>google</td>\n",
       "      <td>38.0</td>\n",
       "      <td>2011-05-25</td>\n",
       "      <td>NaN</td>\n",
       "      <td>untracked</td>\n",
       "      <td>Chrome</td>\n",
       "      <td>Mac Desktop</td>\n",
       "      <td>MALE</td>\n",
       "      <td>820tgsjxq7</td>\n",
       "      <td>en</td>\n",
       "      <td>Web</td>\n",
       "      <td>0</td>\n",
       "      <td>facebook</td>\n",
       "      <td>20090523174809</td>\n",
       "    </tr>\n",
       "    <tr>\n",
       "      <th>2</th>\n",
       "      <td>direct</td>\n",
       "      <td>direct</td>\n",
       "      <td>56.0</td>\n",
       "      <td>2010-09-28</td>\n",
       "      <td>2010-08-02</td>\n",
       "      <td>untracked</td>\n",
       "      <td>IE</td>\n",
       "      <td>Windows Desktop</td>\n",
       "      <td>FEMALE</td>\n",
       "      <td>4ft3gnwmtx</td>\n",
       "      <td>en</td>\n",
       "      <td>Web</td>\n",
       "      <td>3</td>\n",
       "      <td>basic</td>\n",
       "      <td>20090609231247</td>\n",
       "    </tr>\n",
       "    <tr>\n",
       "      <th>3</th>\n",
       "      <td>direct</td>\n",
       "      <td>direct</td>\n",
       "      <td>42.0</td>\n",
       "      <td>2011-12-05</td>\n",
       "      <td>2012-09-08</td>\n",
       "      <td>untracked</td>\n",
       "      <td>Firefox</td>\n",
       "      <td>Mac Desktop</td>\n",
       "      <td>FEMALE</td>\n",
       "      <td>bjjt8pjhuk</td>\n",
       "      <td>en</td>\n",
       "      <td>Web</td>\n",
       "      <td>0</td>\n",
       "      <td>facebook</td>\n",
       "      <td>20091031060129</td>\n",
       "    </tr>\n",
       "    <tr>\n",
       "      <th>4</th>\n",
       "      <td>direct</td>\n",
       "      <td>direct</td>\n",
       "      <td>41.0</td>\n",
       "      <td>2010-09-14</td>\n",
       "      <td>2010-02-18</td>\n",
       "      <td>untracked</td>\n",
       "      <td>Chrome</td>\n",
       "      <td>Mac Desktop</td>\n",
       "      <td>-unknown-</td>\n",
       "      <td>87mebub9p4</td>\n",
       "      <td>en</td>\n",
       "      <td>Web</td>\n",
       "      <td>0</td>\n",
       "      <td>basic</td>\n",
       "      <td>20091208061105</td>\n",
       "    </tr>\n",
       "  </tbody>\n",
       "</table>\n",
       "</div>"
      ],
      "text/plain": [
       "  affiliate_channel affiliate_provider   age date_account_created  \\\n",
       "0            direct             direct   NaN           2010-06-28   \n",
       "1               seo             google  38.0           2011-05-25   \n",
       "2            direct             direct  56.0           2010-09-28   \n",
       "3            direct             direct  42.0           2011-12-05   \n",
       "4            direct             direct  41.0           2010-09-14   \n",
       "\n",
       "  date_first_booking first_affiliate_tracked first_browser first_device_type  \\\n",
       "0                NaN               untracked        Chrome       Mac Desktop   \n",
       "1                NaN               untracked        Chrome       Mac Desktop   \n",
       "2         2010-08-02               untracked            IE   Windows Desktop   \n",
       "3         2012-09-08               untracked       Firefox       Mac Desktop   \n",
       "4         2010-02-18               untracked        Chrome       Mac Desktop   \n",
       "\n",
       "      gender          id language signup_app  signup_flow signup_method  \\\n",
       "0  -unknown-  gxn3p5htnn       en        Web            0      facebook   \n",
       "1       MALE  820tgsjxq7       en        Web            0      facebook   \n",
       "2     FEMALE  4ft3gnwmtx       en        Web            3         basic   \n",
       "3     FEMALE  bjjt8pjhuk       en        Web            0      facebook   \n",
       "4  -unknown-  87mebub9p4       en        Web            0         basic   \n",
       "\n",
       "   timestamp_first_active  \n",
       "0          20090319043255  \n",
       "1          20090523174809  \n",
       "2          20090609231247  \n",
       "3          20091031060129  \n",
       "4          20091208061105  "
      ]
     },
     "execution_count": 12,
     "metadata": {},
     "output_type": "execute_result"
    }
   ],
   "source": [
    "train_test_all.head()\n"
   ]
  },
  {
   "cell_type": "markdown",
   "metadata": {},
   "source": [
    "### Deal with Missing Data: NaN values\n",
    "we would like to see which columns are having a lot of NaN values"
   ]
  },
  {
   "cell_type": "code",
   "execution_count": 13,
   "metadata": {},
   "outputs": [
    {
     "data": {
      "text/plain": [
       "affiliate_channel               0\n",
       "affiliate_provider              0\n",
       "age                        116866\n",
       "date_account_created            0\n",
       "date_first_booking         186639\n",
       "first_affiliate_tracked      6085\n",
       "first_browser                   0\n",
       "first_device_type               0\n",
       "gender                          0\n",
       "id                              0\n",
       "language                        0\n",
       "signup_app                      0\n",
       "signup_flow                     0\n",
       "signup_method                   0\n",
       "timestamp_first_active          0\n",
       "dtype: int64"
      ]
     },
     "execution_count": 13,
     "metadata": {},
     "output_type": "execute_result"
    }
   ],
   "source": [
    "train_test_all.isnull().sum()"
   ]
  },
  {
   "cell_type": "markdown",
   "metadata": {},
   "source": [
    "## Now we see that $age$, $date$ $first$  $booking$, and $first$ $affiliate$ $tracked$ has a lot of values of NaN. However, we also see that a lot of $gender$ data are missing from the table."
   ]
  },
  {
   "cell_type": "markdown",
   "metadata": {},
   "source": [
    "### Gender: \"Unkown\" Values"
   ]
  },
  {
   "cell_type": "code",
   "execution_count": 14,
   "metadata": {},
   "outputs": [
    {
     "data": {
      "text/plain": [
       "-unknown-    129480\n",
       "FEMALE        77524\n",
       "MALE          68209\n",
       "OTHER           334\n",
       "Name: gender, dtype: int64"
      ]
     },
     "execution_count": 14,
     "metadata": {},
     "output_type": "execute_result"
    }
   ],
   "source": [
    "train_test_all.gender.value_counts()"
   ]
  },
  {
   "cell_type": "code",
   "execution_count": 15,
   "metadata": {},
   "outputs": [],
   "source": [
    "train_test_all.gender.replace(\"-unknown-\",np.nan, inplace = True)"
   ]
  },
  {
   "cell_type": "code",
   "execution_count": 16,
   "metadata": {},
   "outputs": [
    {
     "data": {
      "text/plain": [
       "affiliate_channel               0\n",
       "affiliate_provider              0\n",
       "age                        116866\n",
       "date_account_created            0\n",
       "date_first_booking         186639\n",
       "first_affiliate_tracked      6085\n",
       "first_browser                   0\n",
       "first_device_type               0\n",
       "gender                     129480\n",
       "id                              0\n",
       "language                        0\n",
       "signup_app                      0\n",
       "signup_flow                     0\n",
       "signup_method                   0\n",
       "timestamp_first_active          0\n",
       "dtype: int64"
      ]
     },
     "execution_count": 16,
     "metadata": {},
     "output_type": "execute_result"
    }
   ],
   "source": [
    "# rerun the null calculation after gender replacement\n",
    "train_test_all.isnull().sum()"
   ]
  },
  {
   "cell_type": "markdown",
   "metadata": {},
   "source": [
    "### Age: outliers"
   ]
  },
  {
   "cell_type": "code",
   "execution_count": 17,
   "metadata": {},
   "outputs": [
    {
     "data": {
      "text/plain": [
       "<matplotlib.axes._subplots.AxesSubplot at 0x110ef5450>"
      ]
     },
     "execution_count": 17,
     "metadata": {},
     "output_type": "execute_result"
    },
    {
     "data": {
      "image/png": "iVBORw0KGgoAAAANSUhEUgAAAZsAAAD8CAYAAAChHgmuAAAABHNCSVQICAgIfAhkiAAAAAlwSFlz\nAAALEgAACxIB0t1+/AAAHAFJREFUeJzt3X+UX3V95/Hny0QRfwQTkqY5SehEiXYDqxXGmF2rq5uV\nxF+EdoEdjy5pm0O2C+vqtntsoj3FoyfnQGulZbfQoqQk1AIRf5BdZTVAq2fPnhAGRUMCaUYBSQwk\nJinRKsHAa//4fga++TIz+U5mPt9vOnk9zrlnPt/3vZ973987c77vufd+vvfKNhERETW9qNsJRETE\nxJdiExER1aXYREREdSk2ERFRXYpNRERUl2ITERHVpdhERER1KTYREVFdik1ERFQ3udsJnCimT5/u\nnp6ebqcREfHPyn333fdj2zOOtVyKTdHT00N/f3+304iI+GdF0qPtLJfTaBERUV2KTUREVFet2Eha\nK2mvpAda4h+S9JCkbZL+uCm+WtKApB2SljTFz5W0tcy7RpJK/BRJt5b4PZJ6mvosl7SzTMtrvceI\niGhPzSObG4GlzQFJ7wCWAW+wfRbw6RJfAPQBZ5U+10qaVLpdB1wKzC/T4DpXAAdtnwlcDVxV1jUN\nuAJ4M7AQuELS1DpvMSIi2lGt2Nj+FnCgJfyfgSttHy7L7C3xZcAttg/bfhgYABZKmgVMsb3ZjQfv\nrAcuaOqzrrRvAxaXo54lwCbbB2wfBDbRUvQiIqKzOn3N5rXAW8tpr29KelOJzwYea1puV4nNLu3W\n+FF9bB8BngROH2FdERHRJZ0e+jwZmAYsAt4EbJD06g7n8BxJK4GVAGeccUa30oiImPA6fWSzC/iS\nG7YAzwLTgd3A3Kbl5pTY7tJujdPcR9Jk4DRg/wjregHb19vutd07Y8Yxv5MUERHHqdPF5ivAOwAk\nvRZ4CfBjYCPQV0aYzaMxEGCL7T3AIUmLyvWYS4Dby7o2AoMjzS4E7i7Xdb4OnCdpahkYcF6JRURE\nl1Q7jSbpZuDtwHRJu2iMEFsLrC3DoZ8GlpcCsU3SBmA7cAS43PYzZVWX0RjZdipwR5kAbgBukjRA\nYyBCH4DtA5I+Bdxblvuk7daBCuOuZ9VXa29iSI9c+Z6ubDciYjSqFRvb7x9m1geHWX4NsGaIeD9w\n9hDxp4CLhlnXWhqFLSIiTgC5g0BERFSXYhMREdWl2ERERHUpNhERUV2KTUREVJdiExER1aXYRERE\ndSk2ERFRXYpNRERUl2ITERHVpdhERER1KTYREVFdik1ERFSXYhMREdWl2ERERHUpNhERUV2KTURE\nVFet2EhaK2lveQR067zfl2RJ05tiqyUNSNohaUlT/FxJW8u8aySpxE+RdGuJ3yOpp6nPckk7y7S8\n1nuMiIj21DyyuRFY2hqUNBc4D/hhU2wB0AecVfpcK2lSmX0dcCkwv0yD61wBHLR9JnA1cFVZ1zTg\nCuDNwELgCklTx/m9RUTEKFQrNra/BRwYYtbVwEcBN8WWAbfYPmz7YWAAWChpFjDF9mbbBtYDFzT1\nWVfatwGLy1HPEmCT7QO2DwKbGKLoRURE53T0mo2kZcBu299tmTUbeKzp9a4Sm13arfGj+tg+AjwJ\nnD7CuiIioksmd2pDkl4GfIzGKbQTgqSVwEqAM844o8vZRERMXJ08snkNMA/4rqRHgDnAtyX9MrAb\nmNu07JwS213arXGa+0iaDJwG7B9hXS9g+3rbvbZ7Z8yYMaY3FxERw+tYsbG91fYv2e6x3UPj9NY5\nth8HNgJ9ZYTZPBoDAbbY3gMckrSoXI+5BLi9rHIjMDjS7ELg7nJd5+vAeZKmloEB55VYRER0SbXT\naJJuBt4OTJe0C7jC9g1DLWt7m6QNwHbgCHC57WfK7MtojGw7FbijTAA3ADdJGqAxEKGvrOuApE8B\n95blPml7qIEKERHRIdWKje33H2N+T8vrNcCaIZbrB84eIv4UcNEw614LrB1FuhERUVHuIBAREdWl\n2ERERHUpNhERUV2KTUREVJdiExER1aXYREREdSk2ERFRXYpNRERUl2ITERHVpdhERER1KTYREVFd\nik1ERFSXYhMREdWl2ERERHUpNhERUV2KTUREVJdiExER1aXYREREddWKjaS1kvZKeqAp9ieSHpL0\nPUlflvSqpnmrJQ1I2iFpSVP8XElby7xrJKnET5F0a4nfI6mnqc9ySTvLtLzWe4yIiPbUPLK5EVja\nEtsEnG379cA/AKsBJC0A+oCzSp9rJU0qfa4DLgXml2lwnSuAg7bPBK4GrirrmgZcAbwZWAhcIWlq\nhfcXERFtqlZsbH8LONAS+4btI+XlZmBOaS8DbrF92PbDwACwUNIsYIrtzbYNrAcuaOqzrrRvAxaX\no54lwCbbB2wfpFHgWoteRER0UDev2fwOcEdpzwYea5q3q8Rml3Zr/Kg+pYA9CZw+wrpeQNJKSf2S\n+vft2zemNxMREcPrSrGR9HHgCPD5bmx/kO3rbffa7p0xY0Y3U4mImNA6Xmwk/RbwXuAD5dQYwG5g\nbtNic0psN8+famuOH9VH0mTgNGD/COuKiIgu6WixkbQU+Chwvu2fNc3aCPSVEWbzaAwE2GJ7D3BI\n0qJyPeYS4PamPoMjzS4E7i7F6+vAeZKmloEB55VYRER0yeRaK5Z0M/B2YLqkXTRGiK0GTgE2lRHM\nm23/ru1tkjYA22mcXrvc9jNlVZfRGNl2Ko1rPIPXeW4AbpI0QGMgQh+A7QOSPgXcW5b7pO2jBipE\nRERnVSs2tt8/RPiGEZZfA6wZIt4PnD1E/CngomHWtRZY23ayERFRVe4gEBER1aXYREREdSk2ERFR\nXYpNRERUl2ITERHVpdhERER1KTYREVFdik1ERFSXYhMREdWl2ERERHUpNhERUV2KTUREVJdiExER\n1aXYREREdSk2ERFRXYpNRERUl2ITERHVVSs2ktZK2ivpgabYNEmbJO0sP6c2zVstaUDSDklLmuLn\nStpa5l2j8jxpSadIurXE75HU09RnednGTknLa73HiIhoT80jmxuBpS2xVcBdtucDd5XXSFoA9AFn\nlT7XSppU+lwHXArML9PgOlcAB22fCVwNXFXWNQ24AngzsBC4ormoRURE57VVbCT9y9Gu2Pa3gAMt\n4WXAutJeB1zQFL/F9mHbDwMDwEJJs4AptjfbNrC+pc/gum4DFpejniXAJtsHbB8ENvHCohcRER3U\n7pHNtZK2SLpM0mlj2N5M23tK+3FgZmnPBh5rWm5Xic0u7db4UX1sHwGeBE4fYV0REdElbRUb228F\nPgDMBe6T9LeS3jmWDZcjFY9lHWMlaaWkfkn9+/bt62YqERETWtvXbGzvBP4Q+APg3wDXSHpI0m+O\nYntPlFNjlJ97S3w3jUI2aE6J7S7t1vhRfSRNBk4D9o+wrqHe0/W2e233zpgxYxRvIyIiRqPdazav\nl3Q18CDwb4H32f4XpX31KLa3ERgcHbYcuL0p3ldGmM2jMRBgSznldkjSonI95pKWPoPruhC4uxwt\nfR04T9LUMjDgvBKLiIgumdzmcv8D+BzwMds/Hwza/pGkPxyqg6SbgbcD0yXtojFC7Epgg6QVwKPA\nxWU92yRtALYDR4DLbT9TVnUZjZFtpwJ3lAngBuAmSQM0BiL0lXUdkPQp4N6y3Cdttw5UiIiIDlLj\nYOAYC0mvAH4+WAAkvQh4qe2fVc6vY3p7e93f33/c/XtWfXUcs2nfI1e+pyvbjYgAkHSf7d5jLdfu\nNZs7aRxZDHpZiUVERBxTu8XmpbZ/OviitF9WJ6WIiJho2i02/yTpnMEXks4Ffj7C8hEREc9pd4DA\nR4AvSPoRIOCXgf9QLauIiJhQ2io2tu+V9KvA60poh+1f1EsrIiImknaPbADeBPSUPudIwvb6KllF\nRMSE0laxkXQT8BrgfmDw+y+DN8aMiIgYUbtHNr3AArfzpZyIiIgW7Y5Ge4DGoICIiIhRa/fIZjqw\nXdIW4PBg0Pb5VbKKiIgJpd1i84maSURExMTW7tDnb0r6FWC+7TslvQyYdKx+ERER0P4jBi6l8ejl\nvyqh2cBXaiUVERETS7sDBC4H3gIcgucepPZLtZKKiIiJpd1ic9j204MvypMxMww6IiLa0m6x+aak\njwGnSnon8AXgf9VLKyIiJpJ2i80qYB+wFfhPwNeAIZ/QGRER0aqtYmP7WduftX2R7QtL+7hPo0la\nLWm7pAck3SzppZKmSdokaWf5ObVl+QFJOyQtaYqfK2lrmXeNJJX4KZJuLfF7JPUcb64RETF27Y5G\ne1jSD1qn49lg+eBfCZxr+2waQ6j7aBw93WV7PnBXeY2kBWX+WcBS4FpJg8OurwMuBeaXaWmJrwAO\n2j4TuBq46nhyjYiI8dHuabReGnd9fhPwVuAa4G+Oc5uHgF/QuP4zmcYTP38ELAPWlWXWAReU9jLg\nFtuHbT8MDAALJc0CptjeXI6y1rf0GVzXbcDiwaOeiIjovHZPo+1vmnbb/jPgPcezQdsHgE8DPwT2\nAE/a/gYw0/aestjjwMzSng081rSKXSU2u7Rb40f1sX0EeBI4/XjyjYiIsWv3EQPnNL18EY0jndE8\nC6d5Xa8B/hswD/hHGk8A/WDzMrYtqfrQakkraZzS44wzzqi9uYiIk1a7BeNPm9pHgEeAi49zm73A\n/7O9D0DSl4B/DTwhaZbtPeUU2d6y/G5gblP/OSW2u7Rb4819dpVTdacB+1sTsX09cD1Ab29vvjcU\nEVFJu6fR3tE0vdP2pbZ3HOc2dwCLJL2sXEdZDDwIbASWl2WWA7eX9kagr4wwm0djIMCWcsrtkKRF\nZT2XtPQZXNeFwN15Fk9ERPe0exrt90aab/sz7W7Q9v2S1gP9wLPAd2gcXbwC2CBpBfAo5cjJ9jZJ\nG4DtNI6qLrc9+LTQy4AbgVOBO8oEcANwk6QB4ACN0WwREdElo3lS55toHDEAvA/YAuw8no3avooX\nDkc+TOMoZ6jl1wBrhoj3A2cPEX8KuOh4couIiPHXbrGZA5xj+ycAkj4BfNX2B0fsFRERQfvfs5kJ\nPN30+mmeH5ocERExonaPbNYDWyR9uby+gOe/NBkRETGidp/UuUbSHTTuHgDw27a/Uy+tiIiYSNo9\njQaN28ocsv3nNL6/Mq9SThERMcG0eyPOK4A/AFaX0Is5/nujRUTESabdI5vfAM4H/gnA9o+AV9ZK\nKiIiJpZ2i83T5Rv4BpD08nopRUTERNNusdkg6a+AV0m6FLgT+Gy9tCIiYiJpdzTapyW9k8azaF4H\n/JHtTVUzi4iICeOYxaY8FfNO2+8AUmAiImLUjnkardz08llJp3Ugn4iImIDavYPAT4GtkjZRRqQB\n2P6vVbKKiIgJpd1i86UyRUREjNqIxUbSGbZ/aDv3QYuIiON2rGs2XxlsSPpi5VwiImKCOlaxUVP7\n1TUTiYiIietYxcbDtMdE0qsk3SbpIUkPSvpXkqZJ2iRpZ/k5tWn51ZIGJO2QtKQpfq6krWXeNZJU\n4qdIurXE75HUM165R0TE6B2r2LxB0iFJPwFeX9qHJP1E0qExbPfPgf9j+1eBNwAPAquAu2zPB+4q\nr5G0AOgDzgKWAteW7/4AXAdcCswv09ISXwEctH0mcDUvfAR1RER00IjFxvYk21Nsv9L25NIefD3l\neDZYvq/zNuCGso2nbf8jsIznH8i2jsYD2ijxW2wftv0wMAAslDQLmGJ7c7lv2/qWPoPrug1YPHjU\nExERnTea59mMl3nAPuCvJX1H0ufKjT1n2t5Tlnmc5x87PRt4rKn/rhKbXdqt8aP62D4CPAmcXuG9\nREREG7pRbCYD5wDX2X4jjS+JrmpeoPkO0zVJWimpX1L/vn37am8uIuKk1Y1iswvYZfue8vo2GsXn\niXJqjPJzb5m/G5jb1H9Oie0u7db4UX0kTQZOA/a3JmL7etu9tntnzJgxDm8tIiKG0vFiY/tx4DFJ\nryuhxcB2YCOwvMSWA7eX9kagr4wwm0djIMCWcsrtkKRF5XrMJS19Btd1IXB3OVqKiIguaPd2NePt\nQ8DnJb0E+AHw2zQK3wZJK4BHgYsBbG+TtIFGQToCXF5uDgpwGXAjcCpwR5mgMfjgJkkDwAEao9ki\nIqJLulJsbN8P9A4xa/Ewy68B1gwR7wfOHiL+FHDRGNOMiIhx0o1rNhERcZJJsYmIiOpSbCIioroU\nm4iIqC7FJiIiqkuxiYiI6lJsIiKiuhSbiIioLsUmIiKqS7GJiIjqUmwiIqK6FJuIiKguxSYiIqpL\nsYmIiOpSbCIioroUm4iIqC7FJiIiqkuxiYiI6rpWbCRNkvQdSf+7vJ4maZOkneXn1KZlV0sakLRD\n0pKm+LmStpZ510hSiZ8i6dYSv0dST6ffX0REPK+bRzYfBh5ser0KuMv2fOCu8hpJC4A+4CxgKXCt\npEmlz3XApcD8Mi0t8RXAQdtnAlcDV9V9KxERMZKuFBtJc4D3AJ9rCi8D1pX2OuCCpvgttg/bfhgY\nABZKmgVMsb3ZtoH1LX0G13UbsHjwqCciIjqvW0c2fwZ8FHi2KTbT9p7SfhyYWdqzgcealttVYrNL\nuzV+VB/bR4AngdNbk5C0UlK/pP59+/aN6Q1FRMTwOl5sJL0X2Gv7vuGWKUcqrp2L7ett99runTFj\nRu3NRUSctCZ3YZtvAc6X9G7gpcAUSX8DPCFplu095RTZ3rL8bmBuU/85Jba7tFvjzX12SZoMnAbs\nr/WGIiJiZB0/srG92vYc2z00LvzfbfuDwEZgeVlsOXB7aW8E+soIs3k0BgJsKafcDklaVK7HXNLS\nZ3BdF5ZtVD9SioiIoXXjyGY4VwIbJK0AHgUuBrC9TdIGYDtwBLjc9jOlz2XAjcCpwB1lArgBuEnS\nAHCARlGLiIgu6Wqxsf33wN+X9n5g8TDLrQHWDBHvB84eIv4UcNE4phoREWOQOwhERER1KTYREVFd\nik1ERFSXYhMREdWl2ERERHUpNhERUV2KTUREVJdiExER1aXYREREdSk2ERFRXYpNRERUl2ITERHV\npdhERER1KTYREVFdik1ERFSXYhMREdWl2ERERHUdLzaS5kr6O0nbJW2T9OESnyZpk6Sd5efUpj6r\nJQ1I2iFpSVP8XElby7xrJKnET5F0a4nfI6mn0+8zIiKe140jmyPA79teACwCLpe0AFgF3GV7PnBX\neU2Z1wecBSwFrpU0qazrOuBSYH6Zlpb4CuCg7TOBq4GrOvHGIiJiaB0vNrb32P52af8EeBCYDSwD\n1pXF1gEXlPYy4Bbbh20/DAwACyXNAqbY3mzbwPqWPoPrug1YPHjUExERndfVazbl9NYbgXuAmbb3\nlFmPAzNLezbwWFO3XSU2u7Rb40f1sX0EeBI4fdzfQEREtKVrxUbSK4AvAh+xfah5XjlScQdyWCmp\nX1L/vn37am8uIuKk1ZViI+nFNArN521/qYSfKKfGKD/3lvhuYG5T9zkltru0W+NH9ZE0GTgN2N+a\nh+3rbffa7p0xY8Z4vLWIiBhCN0ajCbgBeND2Z5pmbQSWl/Zy4PameF8ZYTaPxkCALeWU2yFJi8o6\nL2npM7iuC4G7y9FSRER0weQubPMtwH8Etkq6v8Q+BlwJbJC0AngUuBjA9jZJG4DtNEayXW77mdLv\nMuBG4FTgjjJBo5jdJGkAOEBjNFtERHRJx4uN7f8LDDcybPEwfdYAa4aI9wNnDxF/CrhoDGlGRMQ4\nyh0EIiKiuhSbiIioLsUmIiKqS7GJiIjqUmwiIqK6FJuIiKguxSYiIqpLsYmIiOpSbCIioroUm4iI\nqC7FJiIiqkuxiYiI6lJsIiKiuhSbiIioLsUmIiKqS7GJiIjqUmwiIqK6CV1sJC2VtEPSgKRV3c4n\nIuJkNWGLjaRJwF8A7wIWAO+XtKC7WUVEnJwmbLEBFgIDtn9g+2ngFmBZl3OKiDgpTe52AhXNBh5r\ner0LeHOXcomIOKaeVV/tynYfufI91bcxkYvNMUlaCawsL38qaccYVjcd+PHYsxodXTXi7K7k1Ibk\nNTrJq30nYk5wgud1jM+RY/mVdhaayMVmNzC36fWcEnuO7euB68djY5L6bfeOx7rGy4mYEySv0Upe\n7TsRc4LkBRP7ms29wHxJ8yS9BOgDNnY5p4iIk9KEPbKxfUTSfwG+DkwC1tre1uW0IiJOShO22ADY\n/hrwtQ5tblxOx42zEzEnSF6jlbzadyLmBMkL2e7UtiIi4iQ1ka/ZRETECSLFZoy6eUscSXMl/Z2k\n7ZK2SfpwiX9C0m5J95fp3U19Vpdcd0haUimvRyRtLdvuL7FpkjZJ2ll+Tu1wTq9r2h/3Szok6SPd\n2FeS1kraK+mBptio94+kc8t+HpB0jSRVyOtPJD0k6XuSvizpVSXeI+nnTfvtLzuc16h/b+OZ1zA5\n3dqUzyOS7i/xTu6r4T4Tuv73he1MxznRGHjwfeDVwEuA7wILOrj9WcA5pf1K4B9o3JrnE8B/H2L5\nBSXHU4B5JfdJFfJ6BJjeEvtjYFVprwKu6mROQ/zeHqfx/YCO7yvgbcA5wANj2T/AFmARIOAO4F0V\n8joPmFzaVzXl1dO8XMt6OpHXqH9v45nXUDm1zP9T4I+6sK+G+0zo+t9XjmzGpqu3xLG9x/a3S/sn\nwIM07pwwnGXALbYP234YGKDxHjphGbCutNcBF3Qxp8XA920/OsIy1fKy/S3gwBDba3v/SJoFTLG9\n2Y1PhvVNfcYtL9vfsH2kvNxM4/tqw+pUXiPoyP4aKadyBHAxcPNI66i0r4b7TOj631eKzdgMdUuc\nkT7sq5HUA7wRuKeEPlROfaxtOmTuVL4G7pR0nxp3aQCYaXtPaT8OzOxwTs36OPqDoJv7atBo98/s\n0u5UfgC/Q+M/3EHzymmhb0p6a4l1Mq/R/N46mddbgSds72yKdXxftXwmdP3vK8VmApD0CuCLwEds\nHwKuo3Fq79eAPTQO6Tvp123/Go07bl8u6W3NM8t/Sl0ZBqnGF3zPB75QQt3eVy/Qzf0zHEkfB44A\nny+hPcAZ5ff8e8DfSprSwZROuN9bk/dz9D8zHd9XQ3wmPKdbf18pNmNzzFvi1CbpxTT+qD5v+0sA\ntp+w/YztZ4HP8vzpn47ka3t3+bkX+HLZ/hPl0Hzw9MHeTubU5F3At20/UXLs6r5qMtr9s5ujT2lV\ny0/SbwHvBT5QPqgop132l/Z9NM71v7ZTeR3H760jeUmaDPwmcGtTrh3dV0N9JnAC/H2l2IxNV2+J\nU84N3wA8aPszTfFZTYv9BjA4YmYj0CfpFEnzgPk0LgKOZ04vl/TKwTaNC8wPlG0vL4stB27vVE4t\njvqvs5v7qsWo9k85JXJI0qLyd3BJU59xI2kp8FHgfNs/a4rPUOOZUUh6dcnrBx3Ma1S/t07lBfw7\n4CHbz52C6uS+Gu4zgRPh72ssowsyGeDdNEZ8fB/4eIe3/es0Doe/B9xfpncDNwFbS3wjMKupz8dL\nrjsY4+iSYXJ6NY3RLd8Ftg3uE+B04C5gJ3AnMK1TOTVt5+XAfuC0pljH9xWNYrcH+AWNc+Erjmf/\nAL00PmS/D/xPype0xzmvARrn9Af/vv6yLPvvy+/3fuDbwPs6nNeof2/jmddQOZX4jcDvtizbyX01\n3GdC1/++cgeBiIioLqfRIiKiuhSbiIioLsUmIiKqS7GJiIjqUmwiIqK6FJuIiKguxSYiIqpLsYmI\niOr+P68Fw0sQBGNHAAAAAElFTkSuQmCC\n",
      "text/plain": [
       "<matplotlib.figure.Figure at 0x110e54b50>"
      ]
     },
     "metadata": {},
     "output_type": "display_data"
    }
   ],
   "source": [
    "# quick look\n",
    "train_test_all.age.plot.hist()"
   ]
  },
  {
   "cell_type": "code",
   "execution_count": 18,
   "metadata": {},
   "outputs": [
    {
     "data": {
      "text/plain": [
       "count    158681.000000\n",
       "mean         47.145310\n",
       "std         142.629468\n",
       "min           1.000000\n",
       "25%          28.000000\n",
       "50%          33.000000\n",
       "75%          42.000000\n",
       "max        2014.000000\n",
       "Name: age, dtype: float64"
      ]
     },
     "execution_count": 18,
     "metadata": {},
     "output_type": "execute_result"
    }
   ],
   "source": [
    "train_test_all.age.describe()"
   ]
  },
  {
   "cell_type": "markdown",
   "metadata": {},
   "source": [
    "### Wow, we see that there are ages above 2000 years old and equal to 1 years old, must be input error!"
   ]
  },
  {
   "cell_type": "code",
   "execution_count": 19,
   "metadata": {},
   "outputs": [],
   "source": [
    "## I will decide to make the maxiumn age of Airbnb user 100 year-old, and minimal 16 year-old\n",
    "train_test_all[train_test_all.age < 100].age.describe()\n",
    "train_test_all.age.where(train_test_all.age < 100, inplace = True)\n",
    "train_test_all.age.where(train_test_all.age > 16, inplace = True)"
   ]
  },
  {
   "cell_type": "code",
   "execution_count": 20,
   "metadata": {},
   "outputs": [
    {
     "data": {
      "text/plain": [
       "count    155853.000000\n",
       "mean         36.048559\n",
       "std          11.626280\n",
       "min          17.000000\n",
       "25%          28.000000\n",
       "50%          33.000000\n",
       "75%          42.000000\n",
       "max          99.000000\n",
       "Name: age, dtype: float64"
      ]
     },
     "execution_count": 20,
     "metadata": {},
     "output_type": "execute_result"
    }
   ],
   "source": [
    "train_test_all.age.describe() # this seems normal to me now"
   ]
  },
  {
   "cell_type": "code",
   "execution_count": 21,
   "metadata": {},
   "outputs": [
    {
     "data": {
      "text/plain": [
       "<matplotlib.text.Text at 0x1140dd790>"
      ]
     },
     "execution_count": 21,
     "metadata": {},
     "output_type": "execute_result"
    },
    {
     "data": {
      "image/png": "iVBORw0KGgoAAAANSUhEUgAAAZUAAAEICAYAAACXo2mmAAAABHNCSVQICAgIfAhkiAAAAAlwSFlz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\nYmZmhXFSMTOzwjipmJlZYf4/DPQC3Vs7meEAAAAASUVORK5CYII=\n",
      "text/plain": [
       "<matplotlib.figure.Figure at 0x110e54110>"
      ]
     },
     "metadata": {},
     "output_type": "display_data"
    }
   ],
   "source": [
    "# quick look with age again\n",
    "train_test_all.age.plot.hist()\n",
    "plt.title(\"Age distribution of Airbnb Users\")"
   ]
  },
  {
   "cell_type": "markdown",
   "metadata": {},
   "source": [
    "### Convert the datetime data"
   ]
  },
  {
   "cell_type": "code",
   "execution_count": 22,
   "metadata": {
    "scrolled": true
   },
   "outputs": [
    {
     "name": "stdout",
     "output_type": "stream",
     "text": [
      "<class 'pandas.core.frame.DataFrame'>\n",
      "Int64Index: 275547 entries, 0 to 62095\n",
      "Data columns (total 15 columns):\n",
      "affiliate_channel          275547 non-null object\n",
      "affiliate_provider         275547 non-null object\n",
      "age                        155853 non-null float64\n",
      "date_account_created       275547 non-null object\n",
      "date_first_booking         88908 non-null object\n",
      "first_affiliate_tracked    269462 non-null object\n",
      "first_browser              275547 non-null object\n",
      "first_device_type          275547 non-null object\n",
      "gender                     146067 non-null object\n",
      "id                         275547 non-null object\n",
      "language                   275547 non-null object\n",
      "signup_app                 275547 non-null object\n",
      "signup_flow                275547 non-null int64\n",
      "signup_method              275547 non-null object\n",
      "timestamp_first_active     275547 non-null int64\n",
      "dtypes: float64(1), int64(2), object(12)\n",
      "memory usage: 33.6+ MB\n"
     ]
    }
   ],
   "source": [
    "train_test_all.info() "
   ]
  },
  {
   "cell_type": "markdown",
   "metadata": {},
   "source": [
    "#### The columns that represents time should be converted into datetime"
   ]
  },
  {
   "cell_type": "code",
   "execution_count": 23,
   "metadata": {},
   "outputs": [],
   "source": [
    "train_test_all.date_account_created = pd.to_datetime(train_test_all.date_account_created)\n",
    "train_test_all.date_first_booking = pd.to_datetime(train_test_all.date_first_booking)\n",
    "# change the timestampe of first active into year_day\n",
    "train_test_all.timestamp_first_active = train_test_all.timestamp_first_active//1000000 # get rid of minutes and seconds\n",
    "train_test_all.timestamp_first_active = pd.to_datetime(train_test_all.timestamp_first_active, format = '%Y%m%d')"
   ]
  },
  {
   "cell_type": "code",
   "execution_count": 24,
   "metadata": {},
   "outputs": [
    {
     "data": {
      "text/html": [
       "<div>\n",
       "<table border=\"1\" class=\"dataframe\">\n",
       "  <thead>\n",
       "    <tr style=\"text-align: right;\">\n",
       "      <th></th>\n",
       "      <th>affiliate_channel</th>\n",
       "      <th>affiliate_provider</th>\n",
       "      <th>age</th>\n",
       "      <th>date_account_created</th>\n",
       "      <th>date_first_booking</th>\n",
       "      <th>first_affiliate_tracked</th>\n",
       "      <th>first_browser</th>\n",
       "      <th>first_device_type</th>\n",
       "      <th>gender</th>\n",
       "      <th>id</th>\n",
       "      <th>language</th>\n",
       "      <th>signup_app</th>\n",
       "      <th>signup_flow</th>\n",
       "      <th>signup_method</th>\n",
       "      <th>timestamp_first_active</th>\n",
       "    </tr>\n",
       "  </thead>\n",
       "  <tbody>\n",
       "    <tr>\n",
       "      <th>0</th>\n",
       "      <td>direct</td>\n",
       "      <td>direct</td>\n",
       "      <td>NaN</td>\n",
       "      <td>2010-06-28</td>\n",
       "      <td>NaT</td>\n",
       "      <td>untracked</td>\n",
       "      <td>Chrome</td>\n",
       "      <td>Mac Desktop</td>\n",
       "      <td>NaN</td>\n",
       "      <td>gxn3p5htnn</td>\n",
       "      <td>en</td>\n",
       "      <td>Web</td>\n",
       "      <td>0</td>\n",
       "      <td>facebook</td>\n",
       "      <td>2009-03-19</td>\n",
       "    </tr>\n",
       "    <tr>\n",
       "      <th>1</th>\n",
       "      <td>seo</td>\n",
       "      <td>google</td>\n",
       "      <td>38.0</td>\n",
       "      <td>2011-05-25</td>\n",
       "      <td>NaT</td>\n",
       "      <td>untracked</td>\n",
       "      <td>Chrome</td>\n",
       "      <td>Mac Desktop</td>\n",
       "      <td>MALE</td>\n",
       "      <td>820tgsjxq7</td>\n",
       "      <td>en</td>\n",
       "      <td>Web</td>\n",
       "      <td>0</td>\n",
       "      <td>facebook</td>\n",
       "      <td>2009-05-23</td>\n",
       "    </tr>\n",
       "    <tr>\n",
       "      <th>2</th>\n",
       "      <td>direct</td>\n",
       "      <td>direct</td>\n",
       "      <td>56.0</td>\n",
       "      <td>2010-09-28</td>\n",
       "      <td>2010-08-02</td>\n",
       "      <td>untracked</td>\n",
       "      <td>IE</td>\n",
       "      <td>Windows Desktop</td>\n",
       "      <td>FEMALE</td>\n",
       "      <td>4ft3gnwmtx</td>\n",
       "      <td>en</td>\n",
       "      <td>Web</td>\n",
       "      <td>3</td>\n",
       "      <td>basic</td>\n",
       "      <td>2009-06-09</td>\n",
       "    </tr>\n",
       "    <tr>\n",
       "      <th>3</th>\n",
       "      <td>direct</td>\n",
       "      <td>direct</td>\n",
       "      <td>42.0</td>\n",
       "      <td>2011-12-05</td>\n",
       "      <td>2012-09-08</td>\n",
       "      <td>untracked</td>\n",
       "      <td>Firefox</td>\n",
       "      <td>Mac Desktop</td>\n",
       "      <td>FEMALE</td>\n",
       "      <td>bjjt8pjhuk</td>\n",
       "      <td>en</td>\n",
       "      <td>Web</td>\n",
       "      <td>0</td>\n",
       "      <td>facebook</td>\n",
       "      <td>2009-10-31</td>\n",
       "    </tr>\n",
       "    <tr>\n",
       "      <th>4</th>\n",
       "      <td>direct</td>\n",
       "      <td>direct</td>\n",
       "      <td>41.0</td>\n",
       "      <td>2010-09-14</td>\n",
       "      <td>2010-02-18</td>\n",
       "      <td>untracked</td>\n",
       "      <td>Chrome</td>\n",
       "      <td>Mac Desktop</td>\n",
       "      <td>NaN</td>\n",
       "      <td>87mebub9p4</td>\n",
       "      <td>en</td>\n",
       "      <td>Web</td>\n",
       "      <td>0</td>\n",
       "      <td>basic</td>\n",
       "      <td>2009-12-08</td>\n",
       "    </tr>\n",
       "  </tbody>\n",
       "</table>\n",
       "</div>"
      ],
      "text/plain": [
       "  affiliate_channel affiliate_provider   age date_account_created  \\\n",
       "0            direct             direct   NaN           2010-06-28   \n",
       "1               seo             google  38.0           2011-05-25   \n",
       "2            direct             direct  56.0           2010-09-28   \n",
       "3            direct             direct  42.0           2011-12-05   \n",
       "4            direct             direct  41.0           2010-09-14   \n",
       "\n",
       "  date_first_booking first_affiliate_tracked first_browser first_device_type  \\\n",
       "0                NaT               untracked        Chrome       Mac Desktop   \n",
       "1                NaT               untracked        Chrome       Mac Desktop   \n",
       "2         2010-08-02               untracked            IE   Windows Desktop   \n",
       "3         2012-09-08               untracked       Firefox       Mac Desktop   \n",
       "4         2010-02-18               untracked        Chrome       Mac Desktop   \n",
       "\n",
       "   gender          id language signup_app  signup_flow signup_method  \\\n",
       "0     NaN  gxn3p5htnn       en        Web            0      facebook   \n",
       "1    MALE  820tgsjxq7       en        Web            0      facebook   \n",
       "2  FEMALE  4ft3gnwmtx       en        Web            3         basic   \n",
       "3  FEMALE  bjjt8pjhuk       en        Web            0      facebook   \n",
       "4     NaN  87mebub9p4       en        Web            0         basic   \n",
       "\n",
       "  timestamp_first_active  \n",
       "0             2009-03-19  \n",
       "1             2009-05-23  \n",
       "2             2009-06-09  \n",
       "3             2009-10-31  \n",
       "4             2009-12-08  "
      ]
     },
     "execution_count": 24,
     "metadata": {},
     "output_type": "execute_result"
    }
   ],
   "source": [
    "train_test_all.head()"
   ]
  },
  {
   "cell_type": "markdown",
   "metadata": {},
   "source": [
    "### 2. Identify the numerical variables and categorical variables"
   ]
  },
  {
   "cell_type": "code",
   "execution_count": 25,
   "metadata": {},
   "outputs": [],
   "source": [
    "con = []\n",
    "cat = []\n",
    "for i in range(len(train_test_all.columns)):\n",
    "    if len(train_test_all.iloc[:,i].unique()) > 100: # numeric if the content of variable varies more than 100 kinds\n",
    "        con.append(train_test_all.columns[i])\n",
    "    else: cat.append(train_test_all.columns[i])\n",
    "        \n",
    "    "
   ]
  },
  {
   "cell_type": "code",
   "execution_count": 26,
   "metadata": {},
   "outputs": [
    {
     "name": "stdout",
     "output_type": "stream",
     "text": [
      "The numerical variables are: \n",
      "['date_account_created', 'date_first_booking', 'id', 'timestamp_first_active']\n",
      "\n",
      "\n",
      "The categorical variables are: \n",
      "['affiliate_channel', 'affiliate_provider', 'age', 'first_affiliate_tracked', 'first_browser', 'first_device_type', 'gender', 'language', 'signup_app', 'signup_flow', 'signup_method']\n"
     ]
    }
   ],
   "source": [
    "print \"The numerical variables are: \\n{}\\n\\n\".format(con) # continuous \n",
    "print \"The categorical variables are: \\n{}\".format(cat) # categorical"
   ]
  },
  {
   "cell_type": "code",
   "execution_count": 27,
   "metadata": {},
   "outputs": [
    {
     "data": {
      "image/png": "iVBORw0KGgoAAAANSUhEUgAABskAAAr1CAYAAAC2u0TeAAAABHNCSVQICAgIfAhkiAAAAAlwSFlz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\nHIdkkiRJkiRJkiRJOuL8N6A8ixZPov78AAAAAElFTkSuQmCC\n",
      "text/plain": [
       "<matplotlib.figure.Figure at 0x1133fa5d0>"
      ]
     },
     "metadata": {},
     "output_type": "display_data"
    }
   ],
   "source": [
    "fig = plt.figure(figsize=(30,50))\n",
    "for i in range(len(cat)):   \n",
    "    ax = fig.add_subplot(6, 2, i+1)\n",
    "    ax = train_test_all[cat[i]].value_counts().plot.bar()\n",
    "    ax.set_title(cat[i], fontsize=20)"
   ]
  },
  {
   "cell_type": "markdown",
   "metadata": {},
   "source": [
    "## Encoded the categorical features using one-hot encoding"
   ]
  },
  {
   "cell_type": "code",
   "execution_count": 28,
   "metadata": {},
   "outputs": [],
   "source": [
    "for i in cat:\n",
    "    train_test_all[i] = train_test_all[i].astype(\"category\")"
   ]
  },
  {
   "cell_type": "code",
   "execution_count": 29,
   "metadata": {},
   "outputs": [],
   "source": [
    "train_test_all = pd.get_dummies(train_test_all, columns=cat)"
   ]
  },
  {
   "cell_type": "code",
   "execution_count": 30,
   "metadata": {},
   "outputs": [],
   "source": [
    "train_test_tem = train_test_all.copy()"
   ]
  },
  {
   "cell_type": "markdown",
   "metadata": {},
   "source": [
    "## Datetime, Seasonal Trend Exploration\n",
    "\n",
    "1. Find out the seasons of date first booking\n",
    "2. The time difference of data_first_book with date_account_created\n"
   ]
  },
  {
   "cell_type": "markdown",
   "metadata": {},
   "source": [
    "### date_account_created"
   ]
  },
  {
   "cell_type": "code",
   "execution_count": 31,
   "metadata": {},
   "outputs": [],
   "source": [
    "# get the month , weekday\n",
    "train_test_all[\"date_account_created_month\"] = train_test_all.date_account_created.dt.month\n",
    "train_test_all[\"date_account_created_week\"] = train_test_all.date_account_created.dt.weekday_name"
   ]
  },
  {
   "cell_type": "markdown",
   "metadata": {},
   "source": [
    "### date_first_book"
   ]
  },
  {
   "cell_type": "code",
   "execution_count": 32,
   "metadata": {
    "collapsed": true
   },
   "outputs": [],
   "source": [
    "train_test_all[\"date_first_booking_month\"] = train_test_all.date_first_booking.dt.month\n",
    "train_test_all[\"date_first_booking_week\"] = train_test_all.date_first_booking.dt.weekday_name"
   ]
  },
  {
   "cell_type": "code",
   "execution_count": 51,
   "metadata": {},
   "outputs": [
    {
     "data": {
      "text/plain": [
       "<matplotlib.legend.Legend at 0x12313fd10>"
      ]
     },
     "execution_count": 51,
     "metadata": {},
     "output_type": "execute_result"
    },
    {
     "data": {
      "image/png": "iVBORw0KGgoAAAANSUhEUgAAAmYAAAH9CAYAAACwZbCXAAAABHNCSVQICAgIfAhkiAAAAAlwSFlz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\nkKIgAAAAAElFTkSuQmCC\n",
      "text/plain": [
       "<matplotlib.figure.Figure at 0x12695ebd0>"
      ]
     },
     "metadata": {},
     "output_type": "display_data"
    }
   ],
   "source": [
    "f, ax = plt.subplots(figsize=(10,8))\n",
    "ax = train_test_all.date_account_created.groupby(train_test_all[\"date_account_created_month\"]).count().plot.bar(ax =ax, position=0)\n",
    "ax = train_test_all.date_first_booking.groupby(train_test_all[\"date_first_booking_month\"]).count().plot.bar(ax=ax, alpha = 0.8, color = \"r\")\n",
    "plt.title(\"Account activity aggregated by month\")\n",
    "plt.legend()"
   ]
  },
  {
   "cell_type": "code",
   "execution_count": 52,
   "metadata": {},
   "outputs": [
    {
     "data": {
      "text/plain": [
       "<matplotlib.legend.Legend at 0x123496290>"
      ]
     },
     "execution_count": 52,
     "metadata": {},
     "output_type": "execute_result"
    },
    {
     "data": {
      "image/png": "iVBORw0KGgoAAAANSUhEUgAAAmYAAAIhCAYAAADkcXZeAAAABHNCSVQICAgIfAhkiAAAAAlwSFlz\nAAALEgAACxIB0t1+/AAAIABJREFUeJzs3Xm8lWW9///XJ5xwQBzQTCs4pR4HBhUFTTympZzskBNp\naQ6ZVprZ6VTH0n7SSUzTc+rY5FdT0aTU8ESaZg6F8wQKDqmpiYmhIk6YpCif3x/3vWmBe8Nm7w3r\nWvh6Ph7rse91T+uz7n1veK/ruu57RWYiSZKk5ntHswuQJElSxWAmSZJUCIOZJElSIQxmkiRJhTCY\nSZIkFcJgJkmSVAiDmaRui4jfRsShnVhvREQ8vDxqejuJiDERcVEHy3aNiBnLu6auioiMiPd3ct1J\nEfGZZV2TtDwZzKSlVP9n8EJErNrsWjoSEf3r/+BWWgb7fksIyMx/zcwLlrRtZt6UmZs37Gt6RHyo\np2tsNR4HSW0MZtJSiIj+wDBgFjCqqcVouVkWAVeS2mMwk5bOIcB1wIXAQl13EdE7Iv47Ip6IiJci\n4uaI6F0v2zkibo2IFyPiyYg4rJ6/dkRcGBGz6u1OjIh31MsWaplatBWsbrn7dkTcEhFzIuKaiFi/\nXv3G+ueLEfFKROy46BuJiB0i4ra6ppkR8cOIWKVh+VYRcW1EPB8Rz0TENyJiJPAN4IB6v9MaavlM\nRKxa72/rhv30i4i5EbFBY7daRPwMeA9wRb2vr0XElRFx7CJ13hsR+7T3y4iIX0bE0/XxvjEitmpY\ntl5EXBERL0fEXRFxckTc3LB8j4h4uN72xxFxQ1u3WEQcVh/X70XEbGBMPf/TEfFg3WL6u4h4byf3\n976I+H1EzI6I5yJifET07eg41POHN5wz0yJi14bXGlDvf05EXAu0/d47VP/+nqtb5w6q521f/257\nNay3b9vvdZHtB9S1tJ2f50TEsw3LfxYRX6qn146Ic+vz6qn62De+RofHcZHX3Dmqv5dd6+cfjoiH\n6mP8QyAa1l3cMf5qRFy2yL7PjIj/XdJxk5a7zPThw0cnH8CjwKeAzYB5wIYNy34ETAI2BnoBOwGr\nAu8F5gCfAFYG1gOG1NtcCPwaWAvoD/wJOKJeNga4qGH//YEEVqqfTwIeq2vpXT8/tb11O3gv2wHD\ngZXq9R8EvlQvWwuYCfwHsFr9fFh7dTXU8pl6+jxgbMOyY4Cr6+ldgRkNy6YDH2p4/nHgjobng4HZ\nwCodvIdP17WtCnwfmNqw7OL6sTqwJfAkcHO9bH3gZWDf+v0fV/8+297DYcAbwLH18t7Ax+rf/xb1\nvBOBWzu5v/cDH67r7EcVnL+/mOOwcf2+P0L1AfrD9fN+9fLbgP+p97cL1fl1UQfHaNf6vbSt/y/A\n34DN6+V/BP61Yf1fAf/Rwb7+AmxXTz8M/BnYomHZNg37+H/AGsAGwJ3AZ+tlHR7HennWx2tk/Tvb\noeEYzwH2p/o7+vf6fS3xGAMb1e+5b/18JeDZtvfiw0dJj6YX4MNHqzyAnYG/A2vXz6cB/15PvwOY\nCwxuZ7uvA79qZ34v4HVgy4Z5nwUm1dNjWHIwO7Fh+dH8IwAttG4n39+X2uqkCpH3dLDeQnU11NL2\nH+SHgMcalt0CHFJP78rig9lqwAvApvXzM4Afd7L+vvV7Xrs+tvOow0e9/GT+EcwOAW5rWBZ1CGgM\nZn9ZZP+/pQ7NDb/zV6mC92L3106tezce33aOw38CP1tkm99RtdK+hyqQrNGw7OeL/k4alu3azvqX\nAt+sp48HxtfT69bvaaMO9vUz4MvAO6mC2XeBzwEDgBfrY7Ih8BrQu2G7TwB/WNJxrJ8n1d/ME8DW\nDesdAty+yDGesRTH+GrgyHr6o8Afl+bv34eP5fWwK1PqvEOBazLzpfr5pfyjO3N9qlDxWDvbvbuD\n+etTffJ/omHeE1StJZ31dMP0q8Cand0wIjaLiN/UXYEvA6fwjy6xjmrujD8Aq0fEsKjG5A2hakFZ\nosz8O9VxPbjuMvsEVRhor/5eEXFqRDxW1z+9XrQ+VYvJSlThqE3j9Lsan2dmUv0nTwfrQxXA/rfu\nznsReJ4qHGy8pP1FxIYRcXHdrfcycBGL7358LzC67bXq19uZquXnXcALmfm3hvWfaG8nDdpb/131\n9EXAv0XEGlQtljdl5swO9nMDVdDbhapFahJVC9y/1NvNr2tfGZjZUPv/o2o5a3tvHR3HNl8CLs3M\n+xvmtXeMFzzvxDG+ADi4nj6YDs4rqdkMZlInRDVW7OPAbnWQeRr4CjA4IgYDz1G1pr2vnc2f7GD+\nc1StOo3ja94DPFVP/42qG67NO5ei5OzEOj8BHqJqnepDNXasbczOk8A/dWXfmfkmVbj6RP34TWbO\nWYp9XQAcBOwOvJqZt3Ww7SepusU+RNVK1r+eH1QXZ7wBbNKw/rsbpmc2LouIWGTd9mp7kqo7rm/D\no3dm3tqJ/Z1S729gfawPpmF8VAev9bNFXmuNzDy1fq116iDV5j0sXnvr/xUgM2cAt1N1w36KxQeW\nG4ARVOHsBuBm4ANUweyGhtpfA9ZvqL1PZm7VsLyj49hmNLB3RBzXMG8mDb/D+hg3/k6XdIwnAoOi\nGv/4UWD8Yt6n1DQGM6lz9gbepBqrNKR+bAHcRNVNN59qbNX/RMS76tacHaO6pcZ44EMR8fGIWCmq\nQelDGgLM2IhYqx4A/WWqT/oAU4FdIuI9EbE2VfdOZ80C5tNxuIJqbNbLwCsR8c/A5xuW/QbYKCK+\nFNWA/rUiYli97Bmgf9sg8A78HDiAKmD9fDHrPbNojfV/0An8N4sPCWtRBYDZVAH2lIZ9vAn8HzAm\nIlav398hDdteCQyMiL2jupjiGJYcfM8Cvh71BQb1APfRndzfWsArwEsRsTHw1UX2vehxaGvF2rM+\nl1aL6sKJTTLzCWAy8K2IWCUidgb+bQm107D+CKpg8suGZRcCXwMGUh23dmXmI1Rd9gcDN2Tmy3Xt\n+1EHs7q17RrgvyOiT0S8ox6Y/y/1bhZ3HNv8lSqYHxcRbefllcBW9cUJKwFfZCmOcWbOBS6jOh/v\nzMy/LO5gSc1iMJM651Dg/Mz8S2Y+3fYAfggcVP9H8RXgPuAuqu6Z04B31P8BfIRqIP3zVIFrcL3f\nY6laxv5M1frwc6qAR2ZeC1wC3AtMoQpLnZKZrwJjgVvqLqPh7az2FapWpznAOfVrtW0/h2og9b9R\ndZc+AnywXtz2H/rsiLi7g9e/o35f76IaU9SR7wAn1jV+pWH+hVQhod2bpjas8wRVC+MfqVp9Gn2B\nqiXtaaqA9wuqIEdmPkfVKvNdqmC3JVXYea2jF8vMX1H9Ti+uu8ruB/61k/v7FrAt8BJVwFg0/Cx0\nHDLzSarWwG9QhewnqYJG27/Zn6S6bcvzwEn1sVicp6nG7v2V6oPC5zLzoYbl/0fVcvur+txZnBuA\n2XWNbc8DaDwXDgFWofq9vABMoOqGXexxbFT/3ewOHB8Rn2k4xqdSHeNNqcYvtlnSMYaqNXYgdmOq\nYFF100tSOSLiU1TdXTv34D5PA96ZmYe2s+wdVGPCDsrMP/TAa/Xo/paHiHiUKrBd1+xalpWIeDfV\nRQvvrFv7pOLYYiapKBGxOlVX4Nnd3M8/R8SgqOwAHEHDRQh1N2Hfuru5bXzdoq1uS/N6Pbq/5Ski\n9q0nf9/UQpahOiz/B3CxoUwl827WkooREXtSdUFdx+LHpnXGWlTdl++iGgf131T3jGuzY/0abV1u\ne9fjkLqqp/e3XETEJKqu10/VYyVXOPWFD89QdX2PbHI50mLZlSlJklQIuzIlSZIKYTCTJEkqRMuO\nMVt//fWzf//+zS5DkiRpiaZMmfJcZvZb0notG8z69+/P5MmTm12GJEnSEkXEkr46DbArU5IkqRgG\nM0mSpEIYzCRJkgrRsmPM2jNv3jxmzJjB3//+92aXoha22mqrsckmm7Dyyis3uxRJ0tvMChXMZsyY\nwVprrUX//v2JiGaXoxaUmcyePZsZM2YwYMCAZpcjSXqbWaG6Mv/+97+z3nrrGcrUZRHBeuutZ6ur\nJKkpVqhgBhjK1G2eQ5KkZlnhgpkkSVKrWqHGmC2q//FX9uj+pp+611JvM2bMGNZcc02+8pWvtLt8\n4sSJbLbZZmy55ZbdLa/pxo0bxx577MG73vWu5f7ap5xyCt/4xjeWaptx48YxefJkfvjDHy6jqiRJ\nWjq2mDXZxIkT+eMf/9jsMnrEuHHj+Otf/9qtfbzxxhtd2u6UU07p1utKklQCg9kyMHbsWDbbbDN2\n3nlnHn74YQDOOecctt9+ewYPHsx+++3Hq6++yq233srll1/OV7/6VYYMGcJjjz3GY489xsiRI9lu\nu+0YMWIEDz30UIevc8UVVzBs2DC22WYbPvShD/HMM88A8Morr3D44YczcOBABg0axGWXXQbA1Vdf\nzbbbbsvgwYPZfffdAXj++efZe++9GTRoEMOHD+fee+8Fqpa+M844Y8Frbb311kyfPp3p06ezxRZb\ncOSRR7LVVluxxx57MHfuXCZMmMDkyZM56KCDGDJkCHPnzm235rvuuouddtqJwYMHs8MOOzBnzhzG\njRvHqFGj2G233RbUdfrpp7P99tszaNAgTjrppAXb77333my33XZstdVWnH322QAcf/zxzJ07lyFD\nhnDQQQcBcNFFF7HDDjswZMgQPvvZz/Lmm28CcP7557PZZpuxww47cMsttyzlb1aSpGXLYNbDpkyZ\nwsUXX8zUqVO56qqruOuuuwDYd999ueuuu5g2bRpbbLEF5557LjvttBOjRo3i9NNPZ+rUqbzvfe/j\nqKOO4gc/+AFTpkzhjDPO4Oijj+7wtXbeeWduv/127rnnHg488EC++93vAvDtb3+btddem/vuu497\n772X3XbbjVmzZnHkkUdy2WWXMW3aNH75y18CcNJJJ7HNNttw7733csopp3DIIYcs8T0+8sgjHHPM\nMTzwwAP07duXyy67jP3335+hQ4cyfvx4pk6dSu/evd+y3euvv84BBxzA//7v/zJt2jSuu+66Bevd\nfffdTJgwgRtuuIFrrrmGRx55hDvvvJOpU6cyZcoUbrzxRgDOO+88pkyZwuTJkznzzDOZPXs2p556\nKr1792bq1KmMHz+eBx98kEsuuYRbbrmFqVOn0qtXL8aPH8/MmTM56aSTuOWWW7j55ptXmJZKSdKK\nY4UeY9YMN910E/vssw+rr746AKNGjQLg/vvv58QTT+TFF1/klVdeYc8993zLtq+88gq33noro0eP\nXjDvtdde6/C1ZsyYwQEHHMDMmTN5/fXXF9x367rrruPiiy9esN4666zDFVdcwS677LJgnXXXXReA\nm2++eUGL2m677cbs2bN5+eWXF/seBwwYwJAhQwDYbrvtmD59+mLXb/Pwww+z0UYbsf322wPQp0+f\nBcs+/OEPL6jpmmuu4ZprrmGbbbYBquPyyCOPsMsuu3DmmWfyq1/9CoAnn3ySRx55hPXWW2+h17n+\n+uuZMmXKgteZO3cuG2ywAXfccQe77ror/fr1A+CAAw7gT3/6U6dqlyRpeTCYLSeHHXYYEydOZPDg\nwYwbN45Jkya9ZZ358+fTt29fpk6d2ql9HnvssXz5y19m1KhRTJo0iTFjxvRYvSuttBLz589f8Lzx\nvl6rrrrqgulevXp12G25NNZYY40F05nJ17/+dT772c8utM6kSZO47rrruO2221h99dXZdddd273f\nWGZy6KGH8p3vfGeh+RMnTux2nZIkLUt2ZfawXXbZhYkTJzJ37lzmzJnDFVdcAcCcOXPYaKONmDdv\nHuPHj1+w/lprrcWcOXOAqgVpwIABC7oZM5Np06Z1+FovvfQSG2+8MQAXXHDBgvkf/vCH+dGPfrTg\n+QsvvMDw4cO58cYbefzxx4FqbBnAiBEjFtQzadIk1l9/ffr06UP//v25++67gaqbsW27xWl8L+3Z\nfPPNmTlz5oLu3Tlz5rQ72H/PPffkvPPO45VXXgHgqaee4tlnn+Wll15inXXWYfXVV+ehhx7i9ttv\nX7DNyiuvzLx58wDYfffdmTBhAs8+++yC9/rEE08wbNgwbrjhBmbPns28efMWHGdJkkqxQreYdeX2\nFt217bbbcsABBzB48GA22GCDBd1p3/72txk2bBj9+vVj2LBhCwLMgQceyJFHHsmZZ57JhAkTGD9+\nPJ///Oc5+eSTmTdvHgceeCCDBw9u97XGjBnD6NGjWWedddhtt90WhKcTTzyRY445hq233ppevXpx\n0kknse+++3L22Wez7777Mn/+fDbYYAOuvfZaxowZw6c//WkGDRrE6quvviDg7bffflx44YVstdVW\nDBs2jM0222yJ7/2www7jc5/7HL179+a22257yzizVVZZhUsuuYRjjz2WuXPn0rt3b6677rq37GeP\nPfbgwQcfZMcddwRgzTXX5KKLLmLkyJGcddZZbLHFFmy++eYMHz58wTZHHXUUgwYNYtttt2X8+PGc\nfPLJ7LHHHsyfP5+VV16ZH/3oRwwfPpwxY8aw44470rdv3wXdsZIklSIys9k1dMnQoUNz8uTJC817\n8MEH2WKLLZpUkVYknkuSpJ4UEVMyc+iS1rMrU5IkqRArdFfmimLs2LFvGQ81evRoTjjhhCZVtGT7\n7LPPW8alnXbaae1ejSpJqvT0N9b0pGYMD3o7Mpi1gBNOOKHoENaetltaSJKkzrMrU5IkqRAGM0mS\npEIYzCRJkgqxYo8xi+jZ/bXorUUkSVJrsMVsGRszZgxnnHFGh8snTpzY5S/TnjVrFsOGDWObbbbh\npptu4iMf+Qgvvvhip7cfN24cf/3rXxe7Tv/+/Xnuuee6VF+jww47jAkTJrxl/mc+8xm/TFySpJrB\nrMm6E8yuv/56Bg4cyD333MOIESO46qqr6Nu370LrZOZC33nZqDPBbFn76U9/ypZbbtnUGiRJKoXB\nbBkYO3Ysm222GTvvvDMPP/wwAOeccw7bb789gwcPZr/99uPVV1/l1ltv5fLLL+erX/0qQ4YM4bHH\nHuOxxx5j5MiRbLfddowYMYKHHnqo3deYOnUqX/va1/j1r3/NkCFDmDt37oLWrenTp7P55ptzyCGH\nsPXWW/Pkk09y2GGHsfXWWzNw4EC+973vMWHCBCZPnsxBBx20YPuOfPe732XgwIHssMMOPProowBM\nnz6d3XbbjUGDBrH77rvzl7/8ZbHzG33zm9/ksMMO480332TXXXel7Rsc1lxzTU444QQGDx7M8OHD\neeaZZwB47LHHGD58OAMHDuTEE09kzTXX7PovR5KkghnMetiUKVO4+OKLmTp1KlddddWCL+zed999\nueuuu5g2bRpbbLEF5557LjvttBOjRo3i9NNPZ+rUqbzvfe/jqKOO4gc/+AFTpkzhjDPO4Oijj273\ndYYMGcJ//dd/ccABBzB16tS3fC/lI488wtFHH80DDzzAc889x1NPPcX999/Pfffdx+GHH87+++/P\n0KFDGT9+fLvbN1p77bW57777+MIXvsCXvvQlAI499lgOPfRQ7r33Xg466CC++MUvLnZ+m69+9avM\nmjWL888/n169ei207G9/+xvDhw9n2rRp7LLLLpxzzjkAHHfccRx33HHcd999bLLJJkvx25AkqbUY\nzHrYTTfdxD777MPqq69Onz59GDVqFAD3338/I0aMYODAgYwfP54HHnjgLdu+8sor3HrrrYwePZoh\nQ4bw2c9+lpkzZ3apjve+970LvuT7n/7pn/jzn//Msccey9VXX02fPn2Wal+f+MQnFvy87bbbALjt\nttv45Cc/CcCnPvUpbr755sXOh+qL3F966SXOOussop0LM1ZZZRU++tGPArDddtsxffr0BfscPXo0\nwIJ9S5K0Ilqxr8osyGGHHcbEiRMZPHgw48aNY9KkSW9ZZ/78+fTt25epU6d2+/XWWGONBdPrrLMO\n06ZN43e/+x1nnXUWl156Keedd16n99UYotoLVJ21/fbbM2XKFJ5//nnWXXfdtyxfeeWVF+y/V69e\nvPHGG11+LUmSWtGK3WKW2bOPTthll12YOHEic+fOZc6cOVxxxRUAzJkzh4022oh58+Yxfvz4Beuv\ntdZazJkzB4A+ffowYMCABd+LmZlMmzat24fhueeeY/78+ey3336cfPLJ3H333W957cW55JJLFvzc\ncccdAdhpp524+OKLARg/fjwjRoxY7HyAkSNHcvzxx7PXXnt16nXbDB8+nMsuuwxgwb4lSVoR2WLW\nw7bddlsOOOAABg8ezAYbbMD2228PVN14w4YNo1+/fgwbNmxBMDnwwAM58sgjOfPMM5kwYQLjx4/n\n85//PCeffDLz5s3jwAMPZPDgwd2q6amnnuLwww9fcHXmd77zHaBqxfvc5z5H7969ue222zocZ/bC\nCy8waNAgVl11VX7xi18A8IMf/IDDDz+c008/nX79+nH++ecvdn6b0aNHM2fOHEaNGsVVV13Vqfq/\n//3vc/DBBzN27FhGjhzJ2muv3aXjIElS6SJb9KapQ4cOzbar+do8+OCDbLHFFk2qSMvKq6++Su/e\nvYkILr74Yn7xi1/w61//epm+pueSpGbof/yVzS6hQ9NP3avZJbS0iJiSmUOXtJ4tZirelClT+MIX\nvkBm0rdv36UaHydJensoOdQuDYNZCxg7duyCcWdtRo8ezQknnNBjr7HPPvvw+OOPLzTvtNNOY889\n9+yx1+iqESNG9MhYO0mSSrfCBbPM7NaVgyU64YQTejSEtedXv/rVMt1/K2nV7n1JUutboa7KXG21\n1Zg9e7b/sarLMpPZs2ez2mqrNbsUSdLb0ArVYrbJJpswY8YMZs2a1exS1MJWW201v2FAktQUK1Qw\nW3nllRkwYECzy5AkSeqSFaorU5IkqZUZzCRJkgphMJMkSSqEwUySJKkQBjNJkqRCGMwkSZIKYTCT\nJEkqhMFMkiSpEAYzSZKkQhjMJEmSCmEwkyRJKoTBTJIkqRAr1JeYa8XR//grm13CYk0/da9mlyAV\nyb9dqXtsMZMkSSqEwUySJKkQBjNJkqRCGMwkSZIKYTCTJEkqhMFMkiSpEAYzSZKkQhjMJEmSCmEw\nkyRJKoTBTJIkqRAGM0mSpEIYzCRJkgphMJMkSSpEp4NZRPSKiHsi4jf183Uj4tqIeKT+uU7Dul+P\niEcj4uGI2LNh/nYRcV+97MyIiHr+qhFxST3/jojo33NvUZIkqTUsTYvZccCDDc+PB67PzE2B6+vn\nRMSWwIHAVsBI4McR0ave5ifAkcCm9WNkPf8I4IXMfD/wPeC0Lr0bSZKkFtapYBYRmwB7AT9tmP0x\n4IJ6+gJg74b5F2fma5n5OPAosENEbAT0yczbMzOBCxfZpm1fE4Dd21rTJEmS3i4622L2feBrwPyG\neRtm5sx6+mlgw3p6Y+DJhvVm1PM2rqcXnb/QNpn5BvASsN6iRUTEURExOSImz5o1q5OlS5IktYYl\nBrOI+CjwbGZO6WidugUse7KwDl7n7MwcmplD+/Xrt6xfTpIkablaqRPrfAAYFREfAVYD+kTERcAz\nEbFRZs6suymfrdd/Cnh3w/ab1POeqqcXnd+4zYyIWAlYG5jdxfckSZLUkpbYYpaZX8/MTTKzP9Wg\n/t9n5sHA5cCh9WqHAr+upy8HDqyvtBxANcj/zrrb8+WIGF6PHztkkW3a9rV//RrLvAVOkiSpJJ1p\nMevIqcClEXEE8ATwcYDMfCAiLgX+CLwBHJOZb9bbHA2MA3oDv60fAOcCP4uIR4HnqQKgJEnS28pS\nBbPMnARMqqdnA7t3sN5YYGw78ycDW7cz/+/A6KWpRZIkaUXjnf8lSZIKYTCTJEkqhMFMkiSpEAYz\nSZKkQhjMJEmSCmEwkyRJKoTBTJIkqRAGM0mSpEIYzCRJkgphMJMkSSqEwUySJKkQBjNJkqRCLNWX\nmKvz+h9/ZbNLWKzpp+7V7BIkSdIibDGTJEkqhMFMkiSpEAYzSZKkQhjMJEmSCmEwkyRJKoTBTJIk\nqRAGM0mSpEIYzCRJkgphMJMkSSqEwUySJKkQBjNJkqRCGMwkSZIKYTCTJEkqhMFMkiSpEAYzSZKk\nQhjMJEmSCmEwkyRJKoTBTJIkqRAGM0mSpEIYzCRJkgphMJMkSSqEwUySJKkQBjNJkqRCGMwkSZIK\nYTCTJEkqhMFMkiSpEAYzSZKkQhjMJEmSCmEwkyRJKoTBTJIkqRAGM0mSpEIYzCRJkgphMJMkSSqE\nwUySJKkQBjNJkqRCGMwkSZIKYTCTJEkqhMFMkiSpEAYzSZKkQhjMJEmSCmEwkyRJKoTBTJIkqRAG\nM0mSpEIYzCRJkgphMJMkSSqEwUySJKkQBjNJkqRCGMwkSZIKYTCTJEkqhMFMkiSpEAYzSZKkQhjM\nJEmSCrFSswuQ1LP6H39ls0tYrOmn7tXsEiSpWAYzSWpgsJXUTHZlSpIkFcJgJkmSVAiDmSRJUiEM\nZpIkSYUwmEmSJBXCYCZJklQIg5kkSVIhDGaSJEmFMJhJkiQVwmAmSZJUCIOZJElSIQxmkiRJhTCY\nSZIkFcJgJkmSVAiDmSRJUiGWGMwiYrWIuDMipkXEgxFxaj1/3Yi4NiIeqX+u07DN1yPi0Yh4OCL2\nbJi/XUTcVy87MyKinr9qRFxSz78jIvr3/FuVJEkqW2dazF4DdsvMwcAg4IMRMQI4Hrg+MzcFrq+f\nExFbAgcCWwEjgR9HRK96Xz8BjgQ2rR8j6/lHAC9k5vuB7wGn9cB7kyRJailLDGZZeaV+ujLQC3gB\n+BhwQT3/AmDvevpjwMWZ+VpmPg48CuwQERsBfTLz9sxM4MJFtmnb1wRg97bWNEmSpLeLTo0xi4he\nETEVeBaYlJn3Axtm5sx6laeBDevpjYEnGzafUc/buJ5edP5C22TmG8BLwHrt1HFUREyOiMmzZs3q\nTOmSJEkto1PBLDPfzMwhwCbAiIj44CLLE8hlUN+idZydmUMzc2i/fv2W9ctJkiQtV0t1VWZmvghc\nCQwFnqm7J6l/Pluv9hTw7obNNqnnPVVPLzp/oW0iYiVgbWD20tQmSZLU6jpzVWa/iOhbT/cGPgxM\nBS4HDq1SLUBuAAAgAElEQVRXOxT4dT19OXBgfaXlAKpB/nfW3Z4vR8TwevzYIYts07av/YHf161w\nkiRJbxsrdWKdjYALIuIdVEHuosy8NiLuBi6NiCOAJ4CPA2TmAxFxKfBH4A3gmMx8s97X0cA4oDfw\n2/oBcC7ws4h4FHie6qpOSZKkt5UlBrPMvBfYpp35s4HdO9hmLDC2nfmTga3bmf93YHQn6pUkSVph\need/SZKkQhjMJEmSCmEwkyRJKoTBTJIkqRAGM0mSpEIYzCRJkgphMJMkSSqEwUySJKkQBjNJkqRC\nGMwkSZIKYTCTJEkqhMFMkiSpEAYzSZKkQhjMJEmSCmEwkyRJKoTBTJIkqRAGM0mSpEIYzCRJkgph\nMJMkSSqEwUySJKkQBjNJkqRCGMwkSZIKYTCTJEkqhMFMkiSpEAYzSZKkQhjMJEmSCmEwkyRJKoTB\nTJIkqRAGM0mSpEIYzCRJkgphMJMkSSqEwUySJKkQBjNJkqRCGMwkSZIKYTCTJEkqhMFMkiSpEAYz\nSZKkQhjMJEmSCmEwkyRJKoTBTJIkqRAGM0mSpEIYzCRJkgphMJMkSSqEwUySJKkQBjNJkqRCGMwk\nSZIKYTCTJEkqhMFMkiSpEAYzSZKkQhjMJEmSCmEwkyRJKoTBTJIkqRAGM0mSpEIYzCRJkgphMJMk\nSSqEwUySJKkQBjNJkqRCGMwkSZIKYTCTJEkqhMFMkiSpEAYzSZKkQhjMJEmSCmEwkyRJKoTBTJIk\nqRAGM0mSpEIYzCRJkgphMJMkSSqEwUySJKkQBjNJkqRCGMwkSZIKYTCTJEkqhMFMkiSpEAYzSZKk\nQhjMJEmSCmEwkyRJKoTBTJIkqRAGM0mSpEIYzCRJkgphMJMkSSqEwUySJKkQBjNJkqRCGMwkSZIK\nscRgFhHvjog/RMQfI+KBiDiunr9uRFwbEY/UP9dp2ObrEfFoRDwcEXs2zN8uIu6rl50ZEVHPXzUi\nLqnn3xER/Xv+rUqSJJWtMy1mbwD/kZlbAsOBYyJiS+B44PrM3BS4vn5OvexAYCtgJPDjiOhV7+sn\nwJHApvVjZD3/COCFzHw/8D3gtB54b5IkSS1licEsM2dm5t319BzgQWBj4GPABfVqFwB719MfAy7O\nzNcy83HgUWCHiNgI6JOZt2dmAhcusk3bviYAu7e1pkmSJL1dLNUYs7qLcRvgDmDDzJxZL3oa2LCe\n3hh4smGzGfW8jevpRecvtE1mvgG8BKzXzusfFRGTI2LyrFmzlqZ0SZKk4nU6mEXEmsBlwJcy8+XG\nZXULWPZwbW+RmWdn5tDMHNqvX79l/XKSJEnLVaeCWUSsTBXKxmfm/9Wzn6m7J6l/PlvPfwp4d8Pm\nm9TznqqnF52/0DYRsRKwNjB7ad+MJElSK+vMVZkBnAs8mJn/07DocuDQevpQ4NcN8w+sr7QcQDXI\n/8662/PliBhe7/OQRbZp29f+wO/rVjhJkqS3jZU6sc4HgE8B90XE1HreN4BTgUsj4gjgCeDjAJn5\nQERcCvyR6orOYzLzzXq7o4FxQG/gt/UDquD3s4h4FHie6qpOSZKkt5UlBrPMvBno6ArJ3TvYZiww\ntp35k4Gt25n/d2D0kmqRJElakXnnf0mSpEIYzCRJkgphMJMkSSqEwUySJKkQBjNJkqRCGMwkSZIK\nYTCTJEkqhMFMkiSpEAYzSZKkQhjMJEmSCmEwkyRJKoTBTJIkqRAGM0mSpEIYzCRJkgphMJMkSSqE\nwUySJKkQBjNJkqRCGMwkSZIKYTCTJEkqhMFMkiSpEAYzSZKkQhjMJEmSCmEwkyRJKoTBTJIkqRAG\nM0mSpEIYzCRJkgphMJMkSSqEwUySJKkQBjNJkqRCGMwkSZIKYTCTJEkqhMFMkiSpEAYzSZKkQhjM\nJEmSCmEwkyRJKoTBTJIkqRAGM0mSpEIYzCRJkgphMJMkSSqEwUySJKkQBjNJkqRCGMwkSZIKYTCT\nJEkqhMFMkiSpEAYzSZKkQhjMJEmSCrFSswuQJKllRfTo7qb34L76/+dvenBvy0DBxw6ad/xsMZMk\nSSqEwUySJKkQBjNJkqRCOMZMkt7OHOcjFcUWM0mSpEIYzCRJkgphMJMkSSqEwUySJKkQDv5v4wBY\nSZLUZLaYSZIkFcJgJkmSVAiDmSRJUiEMZpIkSYUwmEmSJBXCqzLVM7yqVZKkbrPFTJIkqRAGM0mS\npEIYzCRJkgphMJMkSSqEwUySJKkQBjNJkqRCGMwkSZIKYTCTJEkqhMFMkiSpEAYzSZKkQhjMJEmS\nCmEwkyRJKoTBTJIkqRAGM0mSpEIYzCRJkgphMJMkSSqEwUySJKkQBjNJkqRCGMwkSZIKYTCTJEkq\nxEpLWiEizgM+CjybmVvX89YFLgH6A9OBj2fmC/WyrwNHAG8CX8zM39XztwPGAb2Bq4DjMjMjYlXg\nQmA7YDZwQGZO77F3KJUuokd3N71H9wb9//M3PbxHSVJHOtNiNg4Yuci844HrM3NT4Pr6ORGxJXAg\nsFW9zY8jole9zU+AI4FN60fbPo8AXsjM9wPfA07r6puRJElqZUsMZpl5I/D8IrM/BlxQT18A7N0w\n/+LMfC0zHwceBXaIiI2APpl5e2YmVQvZ3u3sawKwe0QPNyFIkiS1gK6OMdswM2fW008DG9bTGwNP\nNqw3o563cT296PyFtsnMN4CXgPXae9GIOCoiJkfE5FmzZnWxdEmSpDJ1e/B/3QKWPVBLZ17r7Mwc\nmplD+/XrtzxeUpIkablZ4uD/DjwTERtl5sy6m/LZev5TwLsb1tuknvdUPb3o/MZtZkTESsDaVBcB\nSNKSefGEpBVIV1vMLgcOracPBX7dMP/AiFg1IgZQDfK/s+72fDkihtfjxw5ZZJu2fe0P/L5uhZMk\nSXpb6cztMn4B7AqsHxEzgJOAU4FLI+II4Ang4wCZ+UBEXAr8EXgDOCYz36x3dTT/uF3Gb+sHwLnA\nzyLiUaqLDA7skXcmSZLUYpYYzDLzEx0s2r2D9ccCY9uZPxnYup35fwdGL6kOSZKkFZ13/pckSSqE\nwUySJKkQBjNJkqRCGMwkSZIKYTCTJEkqhMFMkiSpEAYzSZKkQhjMJEmSCmEwkyRJKoTBTJIkqRAG\nM0mSpEIYzCRJkgphMJMkSSqEwUySJKkQBjNJkqRCGMwkSZIKYTCTJEkqhMFMkiSpEAYzSZKkQhjM\nJEmSCmEwkyRJKoTBTJIkqRAGM0mSpEIYzCRJkgphMJMkSSqEwUySJKkQBjNJkqRCGMwkSZIKYTCT\nJEkqhMFMkiSpEAYzSZKkQhjMJEmSCmEwkyRJKoTBTJIkqRAGM0mSpEIYzCRJkgphMJMkSSqEwUyS\nJKkQBjNJkqRCGMwkSZIKYTCTJEkqhMFMkiSpEAYzSZKkQhjMJEmSCmEwkyRJKoTBTJIkqRAGM0mS\npEIYzCRJkgphMJMkSSqEwUySJKkQBjNJkqRCGMwkSZIKYTCTJEkqhMFMkiSpEAYzSZKkQhjMJEmS\nCmEwkyRJKoTBTJIkqRAGM0mSpEIYzCRJkgphMJMkSSqEwUySJKkQBjNJkqRCGMwkSZIKYTCTJEkq\nhMFMkiSpEAYzSZKkQhjMJEmSCmEwkyRJKoTBTJIkqRAGM0mSpEIYzCRJkgphMJMkSSqEwUySJKkQ\nBjNJkqRCGMwkSZIKYTCTJEkqhMFMkiSpEAYzSZKkQhjMJEmSCmEwkyRJKoTBTJIkqRDFBLOIGBkR\nD0fEoxFxfLPrkSRJWt6KCGYR0Qv4EfCvwJbAJyJiy+ZWJUmStHwVEcyAHYBHM/PPmfk6cDHwsSbX\nJEmStFxFZja7BiJif2BkZn6mfv4pYFhmfmGR9Y4Cjqqfbg48vFwLXTrrA881u4gW5vHrOo9d93j8\nusfj1z0ev64r/di9NzP7LWmllZZHJT0lM88Gzm52HZ0REZMzc2iz62hVHr+u89h1j8evezx+3ePx\n67oV5diV0pX5FPDuhueb1PMkSZLeNkoJZncBm0bEgIhYBTgQuLzJNUmSJC1XRXRlZuYbEfEF4HdA\nL+C8zHygyWV1V0t0uRbM49d1Hrvu8fh1j8evezx+XbdCHLsiBv9LkiSpnK5MSZKktz2DmSRJUiEM\nZpIkSYUwmKkY9VdzScud517XRcR6za6hVUXEJRGxZ0REs2tROQxmPSgi/i8i9ooIj2vXPBIRp/s9\nqUvPc6/bPPe67vaI+GVEfMSAsdTOBz4N/CkiTo6I9ze7oFazIn4w8B/xnvVj4JNU/8ifGhGbN7ug\nFjMY+BPw04i4PSKOiog+zS6qRXjudY/nXtdtRnWbgk9RnX+nRMRmTa6pJWTm1Zl5ANX3RT8N/CEi\nboyIT0VEEbezagEr3AcDb5exDETE2sAngBOAJ4FzgIsyc15TC2shEfEvwM+BvsAE4NuZ+Whzqyqf\n5173ee51XUR8ELgIWAOYBhyfmbc1t6qyRcQ6VB+qDqH6nsefAzsDm2bmh5pZWyuow9iHqFoetwcu\nBcZl5p+aWlg3GMx6WN2sejDVp8e/AuOp/sgGZuauTSytePU4n72Aw4H+wM+ojt8I4JTM9FP4Ynju\ndZ3nXtctct49A5xL9c0tQ4BfZuaAJpZXtIj4JTCQ6lw7PzNnNCy7JzO3aVpxLWhF+WBgU2kPiohf\nAZtT/aP+b5k5s150SURMbl5lLeMR4A/A6Zl5a8P8CRGxS5Nqagmee93mudd1t1Gdd3s3BgtgckSc\n1aSaWsXZwHXZTguJoaxz2vlgcCwNHwyAlvtgYItZD4qID2bmH5pdR6uKiDUz85Vm19GKPPe6x3Ov\n6yIi2gsW6pyI+GdgS2C1tnmZ+fPmVdRaIuJPVB8Mzl/kgwER8Z+ZeVpzKus6g1kPi4iteesf2YXN\nq6h1RMRqwBHAVix8/D7dtKJaiOde13nudV1E9AO+xluP3W5NK6pFRMSJwB7AP1N9V/SewM2ZuW9T\nC2shK+IHA6/K7EERcRLwg/rxQeC7wKimFtVafga8k+ofpxuATYA5Ta2oRXjudZvnXteNBx6i6jL6\nFjAduKuZBbWQA6j+Xmdm5qeorg5eo7kltZz161vdXBURv297NLuo7jCY9az9gd2BpzPzcKo/srWb\nW1JLeX9mfhP4W2ZeQDUYe1iTa2oVnnvd47nXdetl5rnAvMy8oW5ltLWsc+Zm5pvAGxGxFtUtM97b\n5JpazQr3wcBg1rPmZuZ8qj+yPsCzwLubXFMrabulw4t1t9zawAZNrKeVeO51j+de17Udu5n1TY63\nAdZtZkEt5J6I6AucB0wG7qwf6rwV7oOBV2X2rMn1H9k5wBTgFaorltQ5Z9f39Pkm1VU1awL/X3NL\nahmee93judd1J9f3z/sPqq70PsC/N7ek1pCZn60nfxQRvwP6ZObdzaypBS30wYDqVkEt/cHAwf/L\nSET0p/oju7fJpehtxnNPKltEDFrccv92Oy8iPgrcRNVD0PbB4FuZeXlTC+sGg1kPiIhtF7fcT0CL\nFxFfXtzyzPyf5VVLq/Hc6x7Pva6LiB8AHf4HkplfXI7ltJSIuKmeXBXYBngACKorW+/OzB2aVZua\nz67MnvHf9c/VgKFUdxwOYBDVuIEdm1RXq1ir/rk51VdqtH3S+Tccb7Eknnvd47nXdW03Lv4A1W1a\nLqmfjwb+2JSKWkRmjgCIiAnAUZk5tX4+mOrr1LQEK/IHA1vMelBE/B9wUmbeVz/fGhiTmfs3t7LW\nEBE3Antl5pz6+VrAlZnpndeXwHOvezz3ui4ibgd2zsw36ucrAzdl5vDmVla+iHggM7da0jy9VUQc\nWk+2+8EgMz/XlMJ6gC1mPWvztv8YATLz/ojYopkFtZgNgdcbnr9ez9OSee51j+de161DNa7n+fr5\nmvU8LdkD9ddWXVQ/P4iqW1NLUN/Whoj4PAt/MDiLasxZyzKY9ax7I+KnLPxH5iDOzrsQuLP+3keA\nvYELmlhPK7nPc69bPPe67lSq2z78gaobfRdgTFMrah2HAl8A/rN+fiOw2HGPeosV7oOBXZk9qP5a\nl89T/cME1R/ZTzLz782rqrVExHbAzvXTGzPznmbW0yo897rPc6/rIuKd/OOGvHdk5tPNrKcV1be7\neVdmOj5vKUTE4VQfBBb6YNDWotaKDGYqSkT0oupCWtCam5l/aV5F5auP2YWZeVCza2llnntdExEf\nAKZm5t8i4mBgW+B/M/OJJpdWvIi4HtgH6AXcTdXq8/vM/GpTC2sxK9oHA+/83wMi4tL6530Rce+i\nj2bX1yoi4ljgGeBa4DfAlfVPLUb9lS7vjYhVml1Lq/Lc65afAK/WVxR+GXiMqmtYS7ZuZr4M7Atc\nlJnbUX1fqzqp/mAwJzN/TXWV9dcioqW/1soxZj3juPrnR5taRes7jmoQ++xmF9KC/gzcEhGXA39r\nm+l9uDrNc6/r3sjMjIiPAT/KzHMj4ohmF9UiVoqIflRXEvpNE13zE2BwwweDc6k+GPxLU6vqBoNZ\nD8jMmXU3yLjM/GCz62lhTwIvNbuIFvVY/XgH/7g3lzrPc6/r5kTE14GDgV0i4h3Ayk2uqVWMBW4A\nbs7MOyPin4DHm1xTq1nhPhg4xqwH1eMF9s1M/4Hvgog4l+pGn1cCr7XNt9VHy5rnXtfV43s+CdyV\nmTdFxHuAXTPT7kwtcxFxA3A18GlgBPAsMC0zBza1sG6wxaxnvUJ124JrWbg7qWXvQLyc/aV+rFI/\n1En1rQre8ikrM3drQjmtyHOvC+qegl809hTUF0wYyjohIt4P/Ah4Z2YOrr9Dc6/M/E6TS2slB1B9\nMPh0Zj5dfzA4vck1dYstZj2o4U7EC2nly3abISLWBMjMV5pdS6uob/XQZjVgP6om/q81qSS9TdhT\n0HURMQn4BlUX3DYREcD93vl/6dSD/TfNzOsiYnWgV9u3eLQiW8x6QES8JzP/YgDrnvprhH4GrFs/\nfw44JDO9E/YSZOaURWbdEhF+12Mn2eLYLfYUdN0amXlrlcegHis1r8k1tZSIOBI4iur/jfcBGwNn\nAbs3s67uMJj1jIlU9+4hIi7LzP2aXE+rOhv4cmb+ASAidgXOAXZqZlGtICLWbXj6DmA7YO0mldOK\nvtIwvaDFsUm1tJr/qx9aerMjYgD1h4KI2Bto6XtwNcExwA7AHQCZ+UhEbNDckrrHYNYzomH6n5pW\nRetboy2UAWTmpIhYo5kFtZApVP+4B1WgeBxo6SuTlidbHLvOnoJu+QLV7R3+OSKeAGYCn2huSS3n\ntcx8va3VMSJWop3W71ZiMOsZ2cG0ls6fI+KbVN2ZUF1+/+cm1tNKtlj065ciYtVmFdNq2mlxHIot\njp0SEY/TfjewH1KXIDMfBXaLiLWpxny/2OyaWtANEfENoHdEfBg4GriiyTV1i4P/e0BEvEk1tiKA\n3sCrbYuohg30aVZtrSQi1gG+xT++r/Amqu88e6F5VbWGiLg7M7dd0jy1b5Fw8QYwHfivzLy5aUW1\niIhYr+HpalQ3S103M71h6hLUgeItMvOU5V1Lq6rvm3cEsAfV/7m/A36aLRxubDHrAZnZq9k1rAjq\nAOaA4aVQ30NqY6pPi9vwj271PsDqTSusRUTE9sCTmTmgfn4o1fiy6YBfJt0J7XxbwvcjYgreyb4z\n3myYXg3YC/Bip6WQmfOpxiKf0+xaeootZmq6+muEOpSZo5ZXLa2mDhKHUXW9TW5YNIfqmygclL0Y\nEXE38KHMfD4idgEuBo4FhlB1D+/f1AJbQEQ0tsq2dQN/PjMHN6mklhURqwFXZ+auza6lVdTflTkG\neC9VY1NbT1XLdqUbzNR0ETGL6itxfkF1ZU3jxRRk5g3NqKuVRMR+mXlZs+toNRExrS1ARMSPgFmZ\nOaZ+PjUzhzSzvlZQ32qkTVs38BmZ+XBzKmpd9VizKZn5/mbX0ioi4iHg36kugFrQAtnK33trV6ZK\n8E7gw1RXI32S6mtxfuH9yzovMy+LiL2Arai6RNrm/1fzqmoJvSJipcx8g+q+R0c1LPPfx07w+4GX\nXts5FxH38I+xjb2AjQDHly2dlzLzt80uoif5D4+aLjPfpPqus6vrKwk/AUyKiG9l5g+bW11riIiz\nqMaUfRD4KbA/4O0eluwXVFd1PQfMpbrgpO2rcryTfSfUf7P7Af1p+D/FDwWLdSfVvS8bu8rfAJ7O\nzNfa30Qd+ENEnE51L73G77m9u3kldY9dmSpC/Y/7XlShrD9wOXBeZj7VzLpaRUTcm5mDGn6uCfw2\nM0c0u7bSRcRwqpaKazLzb/W8zYA1W/kf9+UlIq6mCrGLdiX9d9OKKlxE3JOZ2zS7jhXBIl3pbbKV\nv7XDFjM1XURcCGwNXAV8KzPvb3JJrWhu/fPViHgX8DxV2NASZObt7cz7UzNqaVGbZObIZhfRYvpF\nxJc7WpiZ/7M8i2llK2JXusFMJTiY6j5wxwFfbLuDM94Hbmn8JiL6At+larmAqktTWtZujYiBmXlf\nswtpIb2ANVnkQid13uKCLbR2uDWYqeky8x3NrqFVNdyH69v18zWB+4CHgO81szat2CLifmA+1f8j\nh0fEn6nG+LR9oBrUzPoKN9MxeN22Vv1zc2B7quEvAP9Gi4+vdYyZ1MK8D5eaJSJeoDrP2pWZTyzH\nclqKY8x6TkTcCOyVmXPq52sBV2bmLs2trOtsMZNaW6/MfL6ePgA4u76f2WURMbWJdWnF97jhq8t2\nb3YBK5ANgdcbnr9ez2tZBjOptXkfLjXLBg5g75qGD1PqvguBOyPiV/XzvYELmlhPt/kPt9TavA+X\nmsUB7Gq6zBwbEb8F2m4NdHhm3tPMmrrLMWZSi/M+XGqGiLg7M7dd8prSshUROwObZub5EdGP6t++\nx5tdV1cZzCRJS80B7CpBRJwEDAU2z8zN6vs4/jIzP9Dk0rrM2xRIkrrCAewqwT7AKKp7YZKZf+Uf\nt9JoSQYzSdJScwC7CvF6Vl1/CRARazS5nm4zmEmSpFZ1aUT8P6BvRBwJXAec0+SausUxZpIkqaVE\nxJeAW4G7gQ8Ce1BdIfy7zLy2mbV1l7fLkCRJrWYT4PvAP1N9Dd0tVEFtyuI2agW2mEmSpJYUEatQ\nXZW5E7Bj/XgxM7dsamHdYIuZJElqVb2BPsDa9eOvVC1oLcsWM0mS1FIi4mxgK2AOcAdwO3B7Zr7Q\n1MJ6gFdlSpKkVvMeYFXgaeApYAbwYlMr6iG2mEmSpJYTEUHVarZT/dgaeB64LTNPamZt3WEwkyRJ\nLSsiNgE+QBXOPgqsl5l9m1tV1xnMJElSS4mIL/KPlrJ5VLfKaHvcl5nzm1het3hVpiRJajX9gV8C\n/56ZM5tcS4+yxUySJKkQXpUpSZJUCIOZJElSIQxmkjotIsZExFcWs3zviOjSV6FERL+IuCMi7omI\nERFxVUR0+sqqiDgsIv7/9u4txKoqjuP492f1YCWRWGFSVnali+YYlSUERUlQClkZFt2hF9Eii+jy\nUkLUS2VFN0q7aDKZdMNKjHBKLUs0yy50hSIiyC6WVMivh71OnQ4z5zjjdJzk94Fh1vzPXpe9Bw5/\n1lp7731bHPOlpGF9GV9DO3MlTekm/khfz79d+usaRMR/I4lZRPSnyUBfE5NTqe6mOtZ2l+0zbf/r\ngZGq9PS9dQnQNDH7r9m+wvaG7TmGiPh/S2IWEU1JulHSJ5LeAA4rsSslrZa0TtIiSbtKGg+cDdwp\naa2kUeXnZUnvSuqSdHgPfYwB7gAmlbqDazM7kg6Q9LGkx4H3gf3KjNX7ktZLurrMXo0DnqrVb3JK\n15V6b0s6uPR/gKTXJL0naZmk/ZvFG8Z+axnPTpJelzSuxDdJml2u0SpJ+5T4qPL3ekm3SdrU5Nrf\nJ+nsUl4s6dFSvkzS7FK+sJzLWkkPStqpxE+XtFLSGkmdknZvaHuwpCWSrmxyrSKizZKYRUSPJHUA\nU4ExwJnAceWjZ20fZ3s08CFwue0VwPPALNtjbH8GPARMt90BXAvc310/ttcCtwALS93NDYccAtxv\n+0hgGDDC9lG2jwYes/0M8A4wrYf69X4q9e4F7iqxOcA828cATwH3tIjXrs+dwF7Apba3NPSzG9W7\n+0YDy4FaAnQ3cHcZw9dNxgnQBUwo5RH8Mxs5AVgu6QjgfOAk22OALcC0slR5E3Ca7bHl2lxT1+7u\nwAvAAtsPtxhDRLRRErOIaGYCsNj2b7Z/pkq8AI4qM2DrgWlUr0X5lzJDMx7olLQWeBAY3sdxfGV7\nVSl/DhwkaY6kicDPvWxrQd3vE0v5RGB+KT8BnNwiDnAzsIftq9z9c4f+AF4s5XepnrtUa7OzlOfT\nXBcwoexb2wB8J2l4aWMF1fJvB7C6XONTgYOAE6iSuDdL/GJgZF27z1EltI+36D8i2iwPmI2IvpgL\nTLa9TtIlwCndHDMI+LHM5GyrX2sF2xsljQbOAK4CzgMu60Vb7qHcW6uBDklDbf/Qzed/1iVsW+jD\n963tb8oNEBOpZt2GUp3vJtu/lHcFzrN9Q309SWcBS21f0EPTbwITJc3vIamMiO0kM2YR0cxyYHLZ\njzQEOKvEhwDfStqFasas5pfyGWWG7QtJ58LfG/dHb+uAyjLdINuLqJbrxjb23cL5db9XlvIKqiVb\nqM6nq0Uc4GXgduClcm221irgnFKe2uzAuuNnUv0vuqiWhGvjWAZMkbQ3gKShkkaWOifV7aHbTdKh\ndW3eAmwE7uvFuCOiDZKYRUSPbK8BFgLrgCVUs0RQLeO9RTXz8lFdlaeBWaoeeTGKKpm5XNI64ANg\nUj8MawTwelmiexKozRbNBR7Yis3/e0p6D5gBXF1i04FLS/yi8lmzOAC2O4GHgedb9FlvJnBNafNg\n4KcWx3cBO9v+FFhDNWvWVfrfQJWcvlraWwoMt/091V2qC0p8JdB448UMYLCkO7Zy3BHRBnklU0RE\nG0naFdhs25KmAhfY7o+ENSJ2ANljFhHRXh3AvWV/2I/0bn9cROzgMmMWEW0l6Ubg3IZwp+3Z/djH\nYlitoZYAAABSSURBVODAhvD1tl/prz76k6Sjqe76rPe77eO3x3giYvtJYhYRERExQGTzf0RERMQA\nkcQsIiIiYoBIYhYRERExQCQxi4iIiBggkphFREREDBB/AXibSs8VzdK0AAAAAElFTkSuQmCC\n",
      "text/plain": [
       "<matplotlib.figure.Figure at 0x11f62fed0>"
      ]
     },
     "metadata": {},
     "output_type": "display_data"
    }
   ],
   "source": [
    "f, ax = plt.subplots(figsize=(10,8))\n",
    "ax = train_test_all.date_account_created.groupby(train_test_all[\"date_account_created_week\"]).count().plot.bar(position=0)\n",
    "ax = train_test_all.date_first_booking.groupby(train_test_all[\"date_first_booking_week\"]).count().plot.bar(color =\"r\")\n",
    "plt.title(\"Account activity aggregated by weekday\")\n",
    "plt.legend()"
   ]
  },
  {
   "cell_type": "markdown",
   "metadata": {},
   "source": [
    "## Comments: From the datetime features of Date of first booking and first creation, as we can see from the aggregated results, the new airbnb accounts were created the most during the weekday, and the month July, August and September, which are the summer months. The first booking is more likely to occur among the month May and June, and weekdays.\n",
    "-----\n"
   ]
  },
  {
   "cell_type": "markdown",
   "metadata": {},
   "source": [
    "### The time difference of data_first_book with date_account_created"
   ]
  },
  {
   "cell_type": "code",
   "execution_count": 35,
   "metadata": {},
   "outputs": [],
   "source": [
    "train_test_all[\"difference_account_created_booking\"] = train_test_all.date_first_booking - train_test_all.date_account_created\n"
   ]
  },
  {
   "cell_type": "code",
   "execution_count": 36,
   "metadata": {},
   "outputs": [
    {
     "data": {
      "text/plain": [
       "Timedelta('44 days 08:41:59.854231')"
      ]
     },
     "execution_count": 36,
     "metadata": {},
     "output_type": "execute_result"
    }
   ],
   "source": [
    "train_test_all.difference_account_created_booking.mean()"
   ]
  },
  {
   "cell_type": "markdown",
   "metadata": {},
   "source": [
    "# Modeling"
   ]
  },
  {
   "cell_type": "code",
   "execution_count": 37,
   "metadata": {},
   "outputs": [
    {
     "data": {
      "text/plain": [
       "213451"
      ]
     },
     "execution_count": 37,
     "metadata": {},
     "output_type": "execute_result"
    }
   ],
   "source": [
    "train.shape[0]"
   ]
  },
  {
   "cell_type": "code",
   "execution_count": 38,
   "metadata": {},
   "outputs": [],
   "source": [
    "## split the data again to train and test\n",
    "train_new = train_test_all[:train.shape[0]]\n",
    "test_new = train_test_all[train.shape[0]:]"
   ]
  },
  {
   "cell_type": "code",
   "execution_count": 39,
   "metadata": {},
   "outputs": [
    {
     "name": "stderr",
     "output_type": "stream",
     "text": [
      "/Users/lexu/Library/Enthought/Canopy_64bit/User/lib/python2.7/site-packages/ipykernel/__main__.py:1: SettingWithCopyWarning: \n",
      "A value is trying to be set on a copy of a slice from a DataFrame.\n",
      "Try using .loc[row_indexer,col_indexer] = value instead\n",
      "\n",
      "See the caveats in the documentation: http://pandas.pydata.org/pandas-docs/stable/indexing.html#indexing-view-versus-copy\n",
      "  if __name__ == '__main__':\n"
     ]
    }
   ],
   "source": [
    "train_new[\"Label\"] = labels"
   ]
  },
  {
   "cell_type": "code",
   "execution_count": 40,
   "metadata": {},
   "outputs": [
    {
     "data": {
      "text/html": [
       "<div>\n",
       "<table border=\"1\" class=\"dataframe\">\n",
       "  <thead>\n",
       "    <tr style=\"text-align: right;\">\n",
       "      <th></th>\n",
       "      <th>date_account_created</th>\n",
       "      <th>date_first_booking</th>\n",
       "      <th>id</th>\n",
       "      <th>timestamp_first_active</th>\n",
       "      <th>affiliate_channel_api</th>\n",
       "      <th>affiliate_channel_content</th>\n",
       "      <th>affiliate_channel_direct</th>\n",
       "      <th>affiliate_channel_other</th>\n",
       "      <th>affiliate_channel_remarketing</th>\n",
       "      <th>affiliate_channel_sem-brand</th>\n",
       "      <th>...</th>\n",
       "      <th>signup_method_basic</th>\n",
       "      <th>signup_method_facebook</th>\n",
       "      <th>signup_method_google</th>\n",
       "      <th>signup_method_weibo</th>\n",
       "      <th>date_account_created_month</th>\n",
       "      <th>date_account_created_week</th>\n",
       "      <th>date_first_booking_month</th>\n",
       "      <th>date_first_booking_week</th>\n",
       "      <th>difference_account_created_booking</th>\n",
       "      <th>Label</th>\n",
       "    </tr>\n",
       "  </thead>\n",
       "  <tbody>\n",
       "    <tr>\n",
       "      <th>0</th>\n",
       "      <td>2010-06-28</td>\n",
       "      <td>NaT</td>\n",
       "      <td>gxn3p5htnn</td>\n",
       "      <td>2009-03-19</td>\n",
       "      <td>0</td>\n",
       "      <td>0</td>\n",
       "      <td>1</td>\n",
       "      <td>0</td>\n",
       "      <td>0</td>\n",
       "      <td>0</td>\n",
       "      <td>...</td>\n",
       "      <td>0</td>\n",
       "      <td>1</td>\n",
       "      <td>0</td>\n",
       "      <td>0</td>\n",
       "      <td>6</td>\n",
       "      <td>Monday</td>\n",
       "      <td>NaN</td>\n",
       "      <td>NaN</td>\n",
       "      <td>NaT</td>\n",
       "      <td>NDF</td>\n",
       "    </tr>\n",
       "    <tr>\n",
       "      <th>1</th>\n",
       "      <td>2011-05-25</td>\n",
       "      <td>NaT</td>\n",
       "      <td>820tgsjxq7</td>\n",
       "      <td>2009-05-23</td>\n",
       "      <td>0</td>\n",
       "      <td>0</td>\n",
       "      <td>0</td>\n",
       "      <td>0</td>\n",
       "      <td>0</td>\n",
       "      <td>0</td>\n",
       "      <td>...</td>\n",
       "      <td>0</td>\n",
       "      <td>1</td>\n",
       "      <td>0</td>\n",
       "      <td>0</td>\n",
       "      <td>5</td>\n",
       "      <td>Wednesday</td>\n",
       "      <td>NaN</td>\n",
       "      <td>NaN</td>\n",
       "      <td>NaT</td>\n",
       "      <td>NDF</td>\n",
       "    </tr>\n",
       "    <tr>\n",
       "      <th>2</th>\n",
       "      <td>2010-09-28</td>\n",
       "      <td>2010-08-02</td>\n",
       "      <td>4ft3gnwmtx</td>\n",
       "      <td>2009-06-09</td>\n",
       "      <td>0</td>\n",
       "      <td>0</td>\n",
       "      <td>1</td>\n",
       "      <td>0</td>\n",
       "      <td>0</td>\n",
       "      <td>0</td>\n",
       "      <td>...</td>\n",
       "      <td>1</td>\n",
       "      <td>0</td>\n",
       "      <td>0</td>\n",
       "      <td>0</td>\n",
       "      <td>9</td>\n",
       "      <td>Tuesday</td>\n",
       "      <td>8.0</td>\n",
       "      <td>Monday</td>\n",
       "      <td>-57 days</td>\n",
       "      <td>US</td>\n",
       "    </tr>\n",
       "    <tr>\n",
       "      <th>3</th>\n",
       "      <td>2011-12-05</td>\n",
       "      <td>2012-09-08</td>\n",
       "      <td>bjjt8pjhuk</td>\n",
       "      <td>2009-10-31</td>\n",
       "      <td>0</td>\n",
       "      <td>0</td>\n",
       "      <td>1</td>\n",
       "      <td>0</td>\n",
       "      <td>0</td>\n",
       "      <td>0</td>\n",
       "      <td>...</td>\n",
       "      <td>0</td>\n",
       "      <td>1</td>\n",
       "      <td>0</td>\n",
       "      <td>0</td>\n",
       "      <td>12</td>\n",
       "      <td>Monday</td>\n",
       "      <td>9.0</td>\n",
       "      <td>Saturday</td>\n",
       "      <td>278 days</td>\n",
       "      <td>other</td>\n",
       "    </tr>\n",
       "    <tr>\n",
       "      <th>4</th>\n",
       "      <td>2010-09-14</td>\n",
       "      <td>2010-02-18</td>\n",
       "      <td>87mebub9p4</td>\n",
       "      <td>2009-12-08</td>\n",
       "      <td>0</td>\n",
       "      <td>0</td>\n",
       "      <td>1</td>\n",
       "      <td>0</td>\n",
       "      <td>0</td>\n",
       "      <td>0</td>\n",
       "      <td>...</td>\n",
       "      <td>1</td>\n",
       "      <td>0</td>\n",
       "      <td>0</td>\n",
       "      <td>0</td>\n",
       "      <td>9</td>\n",
       "      <td>Tuesday</td>\n",
       "      <td>2.0</td>\n",
       "      <td>Thursday</td>\n",
       "      <td>-208 days</td>\n",
       "      <td>US</td>\n",
       "    </tr>\n",
       "  </tbody>\n",
       "</table>\n",
       "<p>5 rows × 245 columns</p>\n",
       "</div>"
      ],
      "text/plain": [
       "  date_account_created date_first_booking          id timestamp_first_active  \\\n",
       "0           2010-06-28                NaT  gxn3p5htnn             2009-03-19   \n",
       "1           2011-05-25                NaT  820tgsjxq7             2009-05-23   \n",
       "2           2010-09-28         2010-08-02  4ft3gnwmtx             2009-06-09   \n",
       "3           2011-12-05         2012-09-08  bjjt8pjhuk             2009-10-31   \n",
       "4           2010-09-14         2010-02-18  87mebub9p4             2009-12-08   \n",
       "\n",
       "   affiliate_channel_api  affiliate_channel_content  affiliate_channel_direct  \\\n",
       "0                      0                          0                         1   \n",
       "1                      0                          0                         0   \n",
       "2                      0                          0                         1   \n",
       "3                      0                          0                         1   \n",
       "4                      0                          0                         1   \n",
       "\n",
       "   affiliate_channel_other  affiliate_channel_remarketing  \\\n",
       "0                        0                              0   \n",
       "1                        0                              0   \n",
       "2                        0                              0   \n",
       "3                        0                              0   \n",
       "4                        0                              0   \n",
       "\n",
       "   affiliate_channel_sem-brand  ...    signup_method_basic  \\\n",
       "0                            0  ...                      0   \n",
       "1                            0  ...                      0   \n",
       "2                            0  ...                      1   \n",
       "3                            0  ...                      0   \n",
       "4                            0  ...                      1   \n",
       "\n",
       "   signup_method_facebook  signup_method_google  signup_method_weibo  \\\n",
       "0                       1                     0                    0   \n",
       "1                       1                     0                    0   \n",
       "2                       0                     0                    0   \n",
       "3                       1                     0                    0   \n",
       "4                       0                     0                    0   \n",
       "\n",
       "   date_account_created_month  date_account_created_week  \\\n",
       "0                           6                     Monday   \n",
       "1                           5                  Wednesday   \n",
       "2                           9                    Tuesday   \n",
       "3                          12                     Monday   \n",
       "4                           9                    Tuesday   \n",
       "\n",
       "   date_first_booking_month  date_first_booking_week  \\\n",
       "0                       NaN                      NaN   \n",
       "1                       NaN                      NaN   \n",
       "2                       8.0                   Monday   \n",
       "3                       9.0                 Saturday   \n",
       "4                       2.0                 Thursday   \n",
       "\n",
       "   difference_account_created_booking  Label  \n",
       "0                                 NaT    NDF  \n",
       "1                                 NaT    NDF  \n",
       "2                            -57 days     US  \n",
       "3                            278 days  other  \n",
       "4                           -208 days     US  \n",
       "\n",
       "[5 rows x 245 columns]"
      ]
     },
     "execution_count": 40,
     "metadata": {},
     "output_type": "execute_result"
    }
   ],
   "source": [
    "train_new.head()"
   ]
  },
  {
   "cell_type": "markdown",
   "metadata": {},
   "source": [
    "## Random Forest"
   ]
  },
  {
   "cell_type": "code",
   "execution_count": 41,
   "metadata": {},
   "outputs": [
    {
     "name": "stderr",
     "output_type": "stream",
     "text": [
      "/Users/lexu/Library/Enthought/Canopy_64bit/User/lib/python2.7/site-packages/ipykernel/__main__.py:1: SettingWithCopyWarning: \n",
      "A value is trying to be set on a copy of a slice from a DataFrame\n",
      "\n",
      "See the caveats in the documentation: http://pandas.pydata.org/pandas-docs/stable/indexing.html#indexing-view-versus-copy\n",
      "  if __name__ == '__main__':\n"
     ]
    }
   ],
   "source": [
    "train_new.drop(['id','date_account_created','timestamp_first_active','date_first_booking'], axis = 1, inplace = True)"
   ]
  },
  {
   "cell_type": "code",
   "execution_count": 42,
   "metadata": {},
   "outputs": [],
   "source": [
    "train_new = pd.get_dummies(train_new, columns=[\"date_account_created_week\",\"date_first_booking_week\",\"date_first_booking_month\"])"
   ]
  },
  {
   "cell_type": "code",
   "execution_count": 43,
   "metadata": {},
   "outputs": [],
   "source": [
    "from sklearn import preprocessing\n",
    "LBL = preprocessing.LabelEncoder()\n",
    "ytrain = LBL.fit_transform(labels)\n",
    "label_map = dict(zip(labels, ytrain))"
   ]
  },
  {
   "cell_type": "code",
   "execution_count": 46,
   "metadata": {},
   "outputs": [],
   "source": [
    "from sklearn.model_selection import train_test_split\n",
    "\n",
    "Y = ytrain\n",
    "X = train_new.drop(['Label'], axis= 1)\n",
    "X.difference_account_created_booking = X.difference_account_created_booking.astype(int)\n",
    "x_train, x_test, y_train, y_test = train_test_split(X, Y, test_size=0.2, random_state=1234)"
   ]
  },
  {
   "cell_type": "code",
   "execution_count": 48,
   "metadata": {},
   "outputs": [
    {
     "name": "stdout",
     "output_type": "stream",
     "text": [
      "             precision    recall  f1-score   support\n",
      "\n",
      "          0       0.00      0.00      0.00       109\n",
      "          1       0.00      0.00      0.00       306\n",
      "          2       0.00      0.00      0.00       204\n",
      "          3       0.00      0.00      0.00       452\n",
      "          4       0.00      0.00      0.00      1009\n",
      "          5       0.00      0.00      0.00       462\n",
      "          6       0.00      0.00      0.00       573\n",
      "          7       0.99      1.00      0.99     25023\n",
      "          8       0.00      0.00      0.00       164\n",
      "          9       0.00      0.00      0.00        44\n",
      "         10       0.70      0.98      0.82     12324\n",
      "         11       0.00      0.00      0.00      2021\n",
      "\n",
      "avg / total       0.78      0.87      0.82     42691\n",
      "\n"
     ]
    },
    {
     "name": "stderr",
     "output_type": "stream",
     "text": [
      "/Users/lexu/Library/Enthought/Canopy_64bit/User/lib/python2.7/site-packages/sklearn/metrics/classification.py:1113: UndefinedMetricWarning: Precision and F-score are ill-defined and being set to 0.0 in labels with no predicted samples.\n",
      "  'precision', 'predicted', average, warn_for)\n"
     ]
    }
   ],
   "source": [
    "from sklearn.ensemble import RandomForestClassifier\n",
    "from sklearn import metrics\n",
    "\n",
    "RF = RandomForestClassifier(n_estimators=10,\n",
    "                                 max_depth=10,\n",
    "                                 random_state=10)\n",
    "RF.fit(x_train, y_train)\n",
    "y_pred = RF.predict(x_test)\n",
    "print (metrics.classification_report(y_test, y_pred))"
   ]
  },
  {
   "cell_type": "code",
   "execution_count": null,
   "metadata": {
    "collapsed": true
   },
   "outputs": [],
   "source": []
  },
  {
   "cell_type": "markdown",
   "metadata": {},
   "source": [
    "## Valuation: "
   ]
  },
  {
   "cell_type": "code",
   "execution_count": 53,
   "metadata": {
    "collapsed": true
   },
   "outputs": [],
   "source": [
    "# From Kaggle Kernels\n",
    "\n",
    "from sklearn.metrics import make_scorer\n",
    "from sklearn.preprocessing import LabelBinarizer\n",
    "\n",
    "def dcg_score(y_true, y_score, k=5):\n",
    "    \n",
    "    \"\"\"\n",
    "    this function is copied from homework solution\n",
    "    y_true : array, shape = [n_samples]\n",
    "        Ground truth (true relevance labels).\n",
    "    y_score : array, shape = [n_samples, n_classes]\n",
    "        Predicted scores.\n",
    "    k : int\n",
    "    \"\"\"\n",
    "    order = np.argsort(y_score)[::-1]\n",
    "    y_true = np.take(y_true, order[:k])\n",
    "\n",
    "    gain = 2 ** y_true - 1\n",
    "\n",
    "    discounts = np.log2(np.arange(len(y_true)) + 2)\n",
    "    return np.sum(gain / discounts)\n",
    "\n",
    "\n",
    "def ndcg_score(ground_truth, predictions, k=5):\n",
    "    \n",
    "    \"\"\"\n",
    "    this function is copied from homework solution\n",
    "    \n",
    "    Parameters\n",
    "    ----------\n",
    "    ground_truth : array, shape = [n_samples]\n",
    "        Ground truth (true labels represended as integers).\n",
    "    predictions : array, shape = [n_samples, n_classes]\n",
    "        Predicted probabilities.\n",
    "    k : int\n",
    "        Rank.\n",
    "        \n",
    "    Example\n",
    "    -------\n",
    "    >>> ground_truth = [1, 0, 2]\n",
    "    >>> predictions = [[0.15, 0.55, 0.2], [0.7, 0.2, 0.1], [0.06, 0.04, 0.9]]\n",
    "    >>> score = ndcg_score(ground_truth, predictions, k=2)\n",
    "    1.0\n",
    "    >>> predictions = [[0.9, 0.5, 0.8], [0.7, 0.2, 0.1], [0.06, 0.04, 0.9]]\n",
    "    >>> score = ndcg_score(ground_truth, predictions, k=2)\n",
    "    0.6666666666\n",
    "    \"\"\"\n",
    "    lb = LabelBinarizer()\n",
    "    lb.fit(range(len(predictions) + 1))\n",
    "    T = lb.transform(ground_truth)\n",
    "\n",
    "    scores = []\n",
    "\n",
    "    # Iterate over each y_true and compute the DCG score\n",
    "    for y_true, y_score in zip(T, predictions):\n",
    "        actual = dcg_score(y_true, y_score, k)\n",
    "        best = dcg_score(y_true, y_true, k)\n",
    "        score = float(actual) / float(best)\n",
    "        scores.append(score)\n",
    "\n",
    "    return np.mean(scores)"
   ]
  },
  {
   "cell_type": "code",
   "execution_count": 54,
   "metadata": {
    "collapsed": true
   },
   "outputs": [],
   "source": [
    "predict = RF.predict_proba(x_train)"
   ]
  },
  {
   "cell_type": "code",
   "execution_count": 55,
   "metadata": {},
   "outputs": [
    {
     "data": {
      "text/plain": [
       "0.91697023925098253"
      ]
     },
     "execution_count": 55,
     "metadata": {},
     "output_type": "execute_result"
    }
   ],
   "source": [
    "k_ndcg = 5\n",
    "train_ndcg_score = ndcg_score(y_train[:1000], predict[:1000], k = k_ndcg)\n",
    "train_ndcg_score"
   ]
  },
  {
   "cell_type": "code",
   "execution_count": null,
   "metadata": {
    "collapsed": true
   },
   "outputs": [],
   "source": []
  }
 ],
 "metadata": {
  "kernelspec": {
   "display_name": "Python 3",
   "language": "python",
   "name": "python3"
  },
  "language_info": {
   "codemirror_mode": {
    "name": "ipython",
    "version": 3
   },
   "file_extension": ".py",
   "mimetype": "text/x-python",
   "name": "python",
   "nbconvert_exporter": "python",
   "pygments_lexer": "ipython3",
   "version": "3.6.1"
  }
 },
 "nbformat": 4,
 "nbformat_minor": 1
}
