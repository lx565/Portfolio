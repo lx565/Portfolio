{
 "cells": [
  {
   "cell_type": "markdown",
   "metadata": {},
   "source": [
    "# NYU CUSP Hackday 11/19/2016\n",
    "## Spatial Data Analysis \n",
    "## Exploratory spatial data analysis of NYC Yellow Cab tipping data using shapely and geopandas"
   ]
  },
  {
   "cell_type": "code",
   "execution_count": null,
   "metadata": {
    "collapsed": true
   },
   "outputs": [],
   "source": [
    "## Author =  \"\""
   ]
  },
  {
   "cell_type": "markdown",
   "metadata": {},
   "source": [
    "## Import initial libraries"
   ]
  },
  {
   "cell_type": "code",
   "execution_count": 352,
   "metadata": {
    "collapsed": false
   },
   "outputs": [],
   "source": [
    "%matplotlib inline\n",
    "import numpy as np\n",
    "import pandas as pd\n",
    "from pandas import DataFrame\n",
    "import statsmodels.api as sm\n",
    "import matplotlib.pylab as plt\n",
    "import pysal as ps\n",
    "import shapely"
   ]
  },
  {
   "cell_type": "code",
   "execution_count": 353,
   "metadata": {
    "collapsed": true
   },
   "outputs": [],
   "source": [
    "np.random.seed(123) # for reproducibility"
   ]
  },
  {
   "cell_type": "markdown",
   "metadata": {},
   "source": [
    "## Working with Shape File"
   ]
  },
  {
   "cell_type": "markdown",
   "metadata": {},
   "source": [
    "### Loading Census Tract Shape File¶"
   ]
  },
  {
   "cell_type": "code",
   "execution_count": 3,
   "metadata": {
    "collapsed": false
   },
   "outputs": [],
   "source": [
    "from geopandas import GeoDataFrame\n",
    "shape_path=\"Data/CT_Shape/ct_shape.shp\"\n",
    "ct_shape = GeoDataFrame.from_file(shape_path)\n",
    "ct_shape.index=ct_shape.BoroCT2010"
   ]
  },
  {
   "cell_type": "markdown",
   "metadata": {},
   "source": [
    "### Coordinate systems, projections, and transformations "
   ]
  },
  {
   "cell_type": "code",
   "execution_count": 4,
   "metadata": {
    "collapsed": false
   },
   "outputs": [
    {
     "name": "stdout",
     "output_type": "stream",
     "text": [
      "total NYC land area: 302.3 (mi^2)\n"
     ]
    }
   ],
   "source": [
    "from fiona.crs import from_epsg\n",
    "ct_shape.crs = from_epsg(4326) # epsg=4326: lat/on | 26918: NAD83/UTM zone 18N | epsg=2263 is US feet\n",
    "NYC_Area=ct_shape.to_crs(epsg=2263).geometry.area.sum()/(2.788*10**7) # from ft2 to mi2 \n",
    "print('total NYC land area: %s (mi^2)'%str(NYC_Area)[:5]) # from ft2 to mi2 #epsg=2263 is US feet"
   ]
  },
  {
   "cell_type": "markdown",
   "metadata": {},
   "source": [
    "#### Load Census Data for 2010"
   ]
  },
  {
   "cell_type": "code",
   "execution_count": 6,
   "metadata": {
    "collapsed": false
   },
   "outputs": [],
   "source": [
    "ct_data=DataFrame.from_csv('Data/ACS_CT2010.csv')\n",
    "#set index to be the BoroCT2010 code\n",
    "ct_data.index=ct_data.BoroCT2010.astype(str)"
   ]
  },
  {
   "cell_type": "markdown",
   "metadata": {},
   "source": [
    "## Load Yellow Cab data on 2016-01"
   ]
  },
  {
   "cell_type": "code",
   "execution_count": 346,
   "metadata": {
    "collapsed": false
   },
   "outputs": [
    {
     "data": {
      "text/html": [
       "<div>\n",
       "<table border=\"1\" class=\"dataframe\">\n",
       "  <thead>\n",
       "    <tr style=\"text-align: right;\">\n",
       "      <th></th>\n",
       "      <th>tpep_pickup_datetime</th>\n",
       "      <th>tpep_dropoff_datetime</th>\n",
       "      <th>passenger_count</th>\n",
       "      <th>trip_distance</th>\n",
       "      <th>pickup_longitude</th>\n",
       "      <th>pickup_latitude</th>\n",
       "      <th>RatecodeID</th>\n",
       "      <th>store_and_fwd_flag</th>\n",
       "      <th>dropoff_longitude</th>\n",
       "      <th>dropoff_latitude</th>\n",
       "      <th>payment_type</th>\n",
       "      <th>fare_amount</th>\n",
       "      <th>extra</th>\n",
       "      <th>mta_tax</th>\n",
       "      <th>tip_amount</th>\n",
       "      <th>tolls_amount</th>\n",
       "      <th>improvement_surcharge</th>\n",
       "      <th>total_amount</th>\n",
       "    </tr>\n",
       "    <tr>\n",
       "      <th>VendorID</th>\n",
       "      <th></th>\n",
       "      <th></th>\n",
       "      <th></th>\n",
       "      <th></th>\n",
       "      <th></th>\n",
       "      <th></th>\n",
       "      <th></th>\n",
       "      <th></th>\n",
       "      <th></th>\n",
       "      <th></th>\n",
       "      <th></th>\n",
       "      <th></th>\n",
       "      <th></th>\n",
       "      <th></th>\n",
       "      <th></th>\n",
       "      <th></th>\n",
       "      <th></th>\n",
       "      <th></th>\n",
       "    </tr>\n",
       "  </thead>\n",
       "  <tbody>\n",
       "    <tr>\n",
       "      <th>2</th>\n",
       "      <td>2016-01-01 00:00:00</td>\n",
       "      <td>2016-01-01 00:00:00</td>\n",
       "      <td>2</td>\n",
       "      <td>1.10</td>\n",
       "      <td>-73.990372</td>\n",
       "      <td>40.734695</td>\n",
       "      <td>1</td>\n",
       "      <td>N</td>\n",
       "      <td>-73.981842</td>\n",
       "      <td>40.732407</td>\n",
       "      <td>2</td>\n",
       "      <td>7.5</td>\n",
       "      <td>0.5</td>\n",
       "      <td>0.5</td>\n",
       "      <td>0.0</td>\n",
       "      <td>0.0</td>\n",
       "      <td>0.3</td>\n",
       "      <td>8.8</td>\n",
       "    </tr>\n",
       "    <tr>\n",
       "      <th>2</th>\n",
       "      <td>2016-01-01 00:00:00</td>\n",
       "      <td>2016-01-01 00:00:00</td>\n",
       "      <td>5</td>\n",
       "      <td>4.90</td>\n",
       "      <td>-73.980782</td>\n",
       "      <td>40.729912</td>\n",
       "      <td>1</td>\n",
       "      <td>N</td>\n",
       "      <td>-73.944473</td>\n",
       "      <td>40.716679</td>\n",
       "      <td>1</td>\n",
       "      <td>18.0</td>\n",
       "      <td>0.5</td>\n",
       "      <td>0.5</td>\n",
       "      <td>0.0</td>\n",
       "      <td>0.0</td>\n",
       "      <td>0.3</td>\n",
       "      <td>19.3</td>\n",
       "    </tr>\n",
       "    <tr>\n",
       "      <th>2</th>\n",
       "      <td>2016-01-01 00:00:00</td>\n",
       "      <td>2016-01-01 00:00:00</td>\n",
       "      <td>1</td>\n",
       "      <td>10.54</td>\n",
       "      <td>-73.984550</td>\n",
       "      <td>40.679565</td>\n",
       "      <td>1</td>\n",
       "      <td>N</td>\n",
       "      <td>-73.950272</td>\n",
       "      <td>40.788925</td>\n",
       "      <td>1</td>\n",
       "      <td>33.0</td>\n",
       "      <td>0.5</td>\n",
       "      <td>0.5</td>\n",
       "      <td>0.0</td>\n",
       "      <td>0.0</td>\n",
       "      <td>0.3</td>\n",
       "      <td>34.3</td>\n",
       "    </tr>\n",
       "    <tr>\n",
       "      <th>2</th>\n",
       "      <td>2016-01-01 00:00:00</td>\n",
       "      <td>2016-01-01 00:00:00</td>\n",
       "      <td>1</td>\n",
       "      <td>4.75</td>\n",
       "      <td>-73.993469</td>\n",
       "      <td>40.718990</td>\n",
       "      <td>1</td>\n",
       "      <td>N</td>\n",
       "      <td>-73.962242</td>\n",
       "      <td>40.657333</td>\n",
       "      <td>2</td>\n",
       "      <td>16.5</td>\n",
       "      <td>0.0</td>\n",
       "      <td>0.5</td>\n",
       "      <td>0.0</td>\n",
       "      <td>0.0</td>\n",
       "      <td>0.3</td>\n",
       "      <td>17.3</td>\n",
       "    </tr>\n",
       "    <tr>\n",
       "      <th>2</th>\n",
       "      <td>2016-01-01 00:00:00</td>\n",
       "      <td>2016-01-01 00:00:00</td>\n",
       "      <td>3</td>\n",
       "      <td>1.76</td>\n",
       "      <td>-73.960625</td>\n",
       "      <td>40.781330</td>\n",
       "      <td>1</td>\n",
       "      <td>N</td>\n",
       "      <td>-73.977264</td>\n",
       "      <td>40.758514</td>\n",
       "      <td>2</td>\n",
       "      <td>8.0</td>\n",
       "      <td>0.0</td>\n",
       "      <td>0.5</td>\n",
       "      <td>0.0</td>\n",
       "      <td>0.0</td>\n",
       "      <td>0.3</td>\n",
       "      <td>8.8</td>\n",
       "    </tr>\n",
       "  </tbody>\n",
       "</table>\n",
       "</div>"
      ],
      "text/plain": [
       "         tpep_pickup_datetime tpep_dropoff_datetime  passenger_count  \\\n",
       "VendorID                                                               \n",
       "2         2016-01-01 00:00:00   2016-01-01 00:00:00                2   \n",
       "2         2016-01-01 00:00:00   2016-01-01 00:00:00                5   \n",
       "2         2016-01-01 00:00:00   2016-01-01 00:00:00                1   \n",
       "2         2016-01-01 00:00:00   2016-01-01 00:00:00                1   \n",
       "2         2016-01-01 00:00:00   2016-01-01 00:00:00                3   \n",
       "\n",
       "          trip_distance  pickup_longitude  pickup_latitude  RatecodeID  \\\n",
       "VendorID                                                                 \n",
       "2                  1.10        -73.990372        40.734695           1   \n",
       "2                  4.90        -73.980782        40.729912           1   \n",
       "2                 10.54        -73.984550        40.679565           1   \n",
       "2                  4.75        -73.993469        40.718990           1   \n",
       "2                  1.76        -73.960625        40.781330           1   \n",
       "\n",
       "         store_and_fwd_flag  dropoff_longitude  dropoff_latitude  \\\n",
       "VendorID                                                           \n",
       "2                         N         -73.981842         40.732407   \n",
       "2                         N         -73.944473         40.716679   \n",
       "2                         N         -73.950272         40.788925   \n",
       "2                         N         -73.962242         40.657333   \n",
       "2                         N         -73.977264         40.758514   \n",
       "\n",
       "          payment_type  fare_amount  extra  mta_tax  tip_amount  tolls_amount  \\\n",
       "VendorID                                                                        \n",
       "2                    2          7.5    0.5      0.5         0.0           0.0   \n",
       "2                    1         18.0    0.5      0.5         0.0           0.0   \n",
       "2                    1         33.0    0.5      0.5         0.0           0.0   \n",
       "2                    2         16.5    0.0      0.5         0.0           0.0   \n",
       "2                    2          8.0    0.0      0.5         0.0           0.0   \n",
       "\n",
       "          improvement_surcharge  total_amount  \n",
       "VendorID                                       \n",
       "2                           0.3           8.8  \n",
       "2                           0.3          19.3  \n",
       "2                           0.3          34.3  \n",
       "2                           0.3          17.3  \n",
       "2                           0.3           8.8  "
      ]
     },
     "execution_count": 346,
     "metadata": {},
     "output_type": "execute_result"
    }
   ],
   "source": [
    "taxi_data=DataFrame.from_csv(\"https://s3.amazonaws.com/nyc-tlc/trip+data/yellow_tripdata_2016-01.csv\")\n",
    "taxi_data.head()"
   ]
  },
  {
   "cell_type": "markdown",
   "metadata": {},
   "source": [
    "## Let's take the credit card transactions only, which provides us complete tip amount."
   ]
  },
  {
   "cell_type": "code",
   "execution_count": 347,
   "metadata": {
    "collapsed": false
   },
   "outputs": [
    {
     "data": {
      "text/html": [
       "<div>\n",
       "<table border=\"1\" class=\"dataframe\">\n",
       "  <thead>\n",
       "    <tr style=\"text-align: right;\">\n",
       "      <th></th>\n",
       "      <th>tpep_pickup_datetime</th>\n",
       "      <th>tpep_dropoff_datetime</th>\n",
       "      <th>passenger_count</th>\n",
       "      <th>trip_distance</th>\n",
       "      <th>pickup_longitude</th>\n",
       "      <th>pickup_latitude</th>\n",
       "      <th>RatecodeID</th>\n",
       "      <th>store_and_fwd_flag</th>\n",
       "      <th>dropoff_longitude</th>\n",
       "      <th>dropoff_latitude</th>\n",
       "      <th>payment_type</th>\n",
       "      <th>fare_amount</th>\n",
       "      <th>extra</th>\n",
       "      <th>mta_tax</th>\n",
       "      <th>tip_amount</th>\n",
       "      <th>tolls_amount</th>\n",
       "      <th>improvement_surcharge</th>\n",
       "      <th>total_amount</th>\n",
       "    </tr>\n",
       "    <tr>\n",
       "      <th>VendorID</th>\n",
       "      <th></th>\n",
       "      <th></th>\n",
       "      <th></th>\n",
       "      <th></th>\n",
       "      <th></th>\n",
       "      <th></th>\n",
       "      <th></th>\n",
       "      <th></th>\n",
       "      <th></th>\n",
       "      <th></th>\n",
       "      <th></th>\n",
       "      <th></th>\n",
       "      <th></th>\n",
       "      <th></th>\n",
       "      <th></th>\n",
       "      <th></th>\n",
       "      <th></th>\n",
       "      <th></th>\n",
       "    </tr>\n",
       "  </thead>\n",
       "  <tbody>\n",
       "    <tr>\n",
       "      <th>2</th>\n",
       "      <td>2016-01-01 00:00:00</td>\n",
       "      <td>2016-01-01 00:00:00</td>\n",
       "      <td>5</td>\n",
       "      <td>4.90</td>\n",
       "      <td>-73.980782</td>\n",
       "      <td>40.729912</td>\n",
       "      <td>1</td>\n",
       "      <td>N</td>\n",
       "      <td>-73.944473</td>\n",
       "      <td>40.716679</td>\n",
       "      <td>1</td>\n",
       "      <td>18.0</td>\n",
       "      <td>0.5</td>\n",
       "      <td>0.5</td>\n",
       "      <td>0.00</td>\n",
       "      <td>0.0</td>\n",
       "      <td>0.3</td>\n",
       "      <td>19.30</td>\n",
       "    </tr>\n",
       "    <tr>\n",
       "      <th>2</th>\n",
       "      <td>2016-01-01 00:00:00</td>\n",
       "      <td>2016-01-01 00:00:00</td>\n",
       "      <td>1</td>\n",
       "      <td>10.54</td>\n",
       "      <td>-73.984550</td>\n",
       "      <td>40.679565</td>\n",
       "      <td>1</td>\n",
       "      <td>N</td>\n",
       "      <td>-73.950272</td>\n",
       "      <td>40.788925</td>\n",
       "      <td>1</td>\n",
       "      <td>33.0</td>\n",
       "      <td>0.5</td>\n",
       "      <td>0.5</td>\n",
       "      <td>0.00</td>\n",
       "      <td>0.0</td>\n",
       "      <td>0.3</td>\n",
       "      <td>34.30</td>\n",
       "    </tr>\n",
       "    <tr>\n",
       "      <th>2</th>\n",
       "      <td>2016-01-01 00:00:03</td>\n",
       "      <td>2016-01-01 00:15:49</td>\n",
       "      <td>6</td>\n",
       "      <td>2.43</td>\n",
       "      <td>-73.969330</td>\n",
       "      <td>40.763538</td>\n",
       "      <td>1</td>\n",
       "      <td>N</td>\n",
       "      <td>-73.995689</td>\n",
       "      <td>40.744251</td>\n",
       "      <td>1</td>\n",
       "      <td>12.0</td>\n",
       "      <td>0.5</td>\n",
       "      <td>0.5</td>\n",
       "      <td>3.99</td>\n",
       "      <td>0.0</td>\n",
       "      <td>0.3</td>\n",
       "      <td>17.29</td>\n",
       "    </tr>\n",
       "    <tr>\n",
       "      <th>1</th>\n",
       "      <td>2016-01-01 00:00:04</td>\n",
       "      <td>2016-01-01 00:14:32</td>\n",
       "      <td>1</td>\n",
       "      <td>3.70</td>\n",
       "      <td>-74.004303</td>\n",
       "      <td>40.742241</td>\n",
       "      <td>1</td>\n",
       "      <td>N</td>\n",
       "      <td>-74.007362</td>\n",
       "      <td>40.706936</td>\n",
       "      <td>1</td>\n",
       "      <td>14.0</td>\n",
       "      <td>0.5</td>\n",
       "      <td>0.5</td>\n",
       "      <td>3.05</td>\n",
       "      <td>0.0</td>\n",
       "      <td>0.3</td>\n",
       "      <td>18.35</td>\n",
       "    </tr>\n",
       "    <tr>\n",
       "      <th>1</th>\n",
       "      <td>2016-01-01 00:00:05</td>\n",
       "      <td>2016-01-01 00:14:27</td>\n",
       "      <td>2</td>\n",
       "      <td>2.20</td>\n",
       "      <td>-73.991997</td>\n",
       "      <td>40.718578</td>\n",
       "      <td>1</td>\n",
       "      <td>N</td>\n",
       "      <td>-74.005135</td>\n",
       "      <td>40.739944</td>\n",
       "      <td>1</td>\n",
       "      <td>11.0</td>\n",
       "      <td>0.5</td>\n",
       "      <td>0.5</td>\n",
       "      <td>1.50</td>\n",
       "      <td>0.0</td>\n",
       "      <td>0.3</td>\n",
       "      <td>13.80</td>\n",
       "    </tr>\n",
       "  </tbody>\n",
       "</table>\n",
       "</div>"
      ],
      "text/plain": [
       "         tpep_pickup_datetime tpep_dropoff_datetime  passenger_count  \\\n",
       "VendorID                                                               \n",
       "2         2016-01-01 00:00:00   2016-01-01 00:00:00                5   \n",
       "2         2016-01-01 00:00:00   2016-01-01 00:00:00                1   \n",
       "2         2016-01-01 00:00:03   2016-01-01 00:15:49                6   \n",
       "1         2016-01-01 00:00:04   2016-01-01 00:14:32                1   \n",
       "1         2016-01-01 00:00:05   2016-01-01 00:14:27                2   \n",
       "\n",
       "          trip_distance  pickup_longitude  pickup_latitude  RatecodeID  \\\n",
       "VendorID                                                                 \n",
       "2                  4.90        -73.980782        40.729912           1   \n",
       "2                 10.54        -73.984550        40.679565           1   \n",
       "2                  2.43        -73.969330        40.763538           1   \n",
       "1                  3.70        -74.004303        40.742241           1   \n",
       "1                  2.20        -73.991997        40.718578           1   \n",
       "\n",
       "         store_and_fwd_flag  dropoff_longitude  dropoff_latitude  \\\n",
       "VendorID                                                           \n",
       "2                         N         -73.944473         40.716679   \n",
       "2                         N         -73.950272         40.788925   \n",
       "2                         N         -73.995689         40.744251   \n",
       "1                         N         -74.007362         40.706936   \n",
       "1                         N         -74.005135         40.739944   \n",
       "\n",
       "          payment_type  fare_amount  extra  mta_tax  tip_amount  tolls_amount  \\\n",
       "VendorID                                                                        \n",
       "2                    1         18.0    0.5      0.5        0.00           0.0   \n",
       "2                    1         33.0    0.5      0.5        0.00           0.0   \n",
       "2                    1         12.0    0.5      0.5        3.99           0.0   \n",
       "1                    1         14.0    0.5      0.5        3.05           0.0   \n",
       "1                    1         11.0    0.5      0.5        1.50           0.0   \n",
       "\n",
       "          improvement_surcharge  total_amount  \n",
       "VendorID                                       \n",
       "2                           0.3         19.30  \n",
       "2                           0.3         34.30  \n",
       "2                           0.3         17.29  \n",
       "1                           0.3         18.35  \n",
       "1                           0.3         13.80  "
      ]
     },
     "execution_count": 347,
     "metadata": {},
     "output_type": "execute_result"
    }
   ],
   "source": [
    "data1_new = taxi_data[df_bike_monthly.payment_type ==1] # 1 means credit card\n",
    "data1_new.head()"
   ]
  },
  {
   "cell_type": "code",
   "execution_count": 12,
   "metadata": {
    "collapsed": false
   },
   "outputs": [
    {
     "name": "stderr",
     "output_type": "stream",
     "text": [
      "/opt/rh/anaconda/root/envs/PUI2016_Python2/lib/python2.7/site-packages/ipykernel/__main__.py:1: SettingWithCopyWarning: \n",
      "A value is trying to be set on a copy of a slice from a DataFrame.\n",
      "Try using .loc[row_indexer,col_indexer] = value instead\n",
      "\n",
      "See the caveats in the documentation: http://pandas.pydata.org/pandas-docs/stable/indexing.html#indexing-view-versus-copy\n",
      "  if __name__ == '__main__':\n",
      "/opt/rh/anaconda/root/envs/PUI2016_Python2/lib/python2.7/site-packages/ipykernel/__main__.py:2: SettingWithCopyWarning: \n",
      "A value is trying to be set on a copy of a slice from a DataFrame.\n",
      "Try using .loc[row_indexer,col_indexer] = value instead\n",
      "\n",
      "See the caveats in the documentation: http://pandas.pydata.org/pandas-docs/stable/indexing.html#indexing-view-versus-copy\n",
      "  from ipykernel import kernelapp as app\n"
     ]
    },
    {
     "data": {
      "text/html": [
       "<div>\n",
       "<table border=\"1\" class=\"dataframe\">\n",
       "  <thead>\n",
       "    <tr style=\"text-align: right;\">\n",
       "      <th></th>\n",
       "      <th>tpep_pickup_datetime</th>\n",
       "      <th>tpep_dropoff_datetime</th>\n",
       "      <th>passenger_count</th>\n",
       "      <th>trip_distance</th>\n",
       "      <th>pickup_longitude</th>\n",
       "      <th>pickup_latitude</th>\n",
       "      <th>RatecodeID</th>\n",
       "      <th>store_and_fwd_flag</th>\n",
       "      <th>dropoff_longitude</th>\n",
       "      <th>dropoff_latitude</th>\n",
       "      <th>payment_type</th>\n",
       "      <th>fare_amount</th>\n",
       "      <th>extra</th>\n",
       "      <th>mta_tax</th>\n",
       "      <th>tip_amount</th>\n",
       "      <th>tolls_amount</th>\n",
       "      <th>improvement_surcharge</th>\n",
       "      <th>total_amount</th>\n",
       "      <th>lonlat</th>\n",
       "      <th>geometry</th>\n",
       "    </tr>\n",
       "    <tr>\n",
       "      <th>VendorID</th>\n",
       "      <th></th>\n",
       "      <th></th>\n",
       "      <th></th>\n",
       "      <th></th>\n",
       "      <th></th>\n",
       "      <th></th>\n",
       "      <th></th>\n",
       "      <th></th>\n",
       "      <th></th>\n",
       "      <th></th>\n",
       "      <th></th>\n",
       "      <th></th>\n",
       "      <th></th>\n",
       "      <th></th>\n",
       "      <th></th>\n",
       "      <th></th>\n",
       "      <th></th>\n",
       "      <th></th>\n",
       "      <th></th>\n",
       "      <th></th>\n",
       "    </tr>\n",
       "  </thead>\n",
       "  <tbody>\n",
       "    <tr>\n",
       "      <th>2</th>\n",
       "      <td>2016-01-01 00:00:00</td>\n",
       "      <td>2016-01-01 00:00:00</td>\n",
       "      <td>5</td>\n",
       "      <td>4.90</td>\n",
       "      <td>-73.980782</td>\n",
       "      <td>40.729912</td>\n",
       "      <td>1</td>\n",
       "      <td>N</td>\n",
       "      <td>-73.944473</td>\n",
       "      <td>40.716679</td>\n",
       "      <td>1</td>\n",
       "      <td>18.0</td>\n",
       "      <td>0.5</td>\n",
       "      <td>0.5</td>\n",
       "      <td>0.00</td>\n",
       "      <td>0.0</td>\n",
       "      <td>0.3</td>\n",
       "      <td>19.30</td>\n",
       "      <td>(-73.9444732666, 40.7166786194)</td>\n",
       "      <td>POINT (-73.94447326660156 40.71667861938477)</td>\n",
       "    </tr>\n",
       "    <tr>\n",
       "      <th>2</th>\n",
       "      <td>2016-01-01 00:00:00</td>\n",
       "      <td>2016-01-01 00:00:00</td>\n",
       "      <td>1</td>\n",
       "      <td>10.54</td>\n",
       "      <td>-73.984550</td>\n",
       "      <td>40.679565</td>\n",
       "      <td>1</td>\n",
       "      <td>N</td>\n",
       "      <td>-73.950272</td>\n",
       "      <td>40.788925</td>\n",
       "      <td>1</td>\n",
       "      <td>33.0</td>\n",
       "      <td>0.5</td>\n",
       "      <td>0.5</td>\n",
       "      <td>0.00</td>\n",
       "      <td>0.0</td>\n",
       "      <td>0.3</td>\n",
       "      <td>34.30</td>\n",
       "      <td>(-73.9502716064, 40.7889251709)</td>\n",
       "      <td>POINT (-73.95027160644531 40.78892517089844)</td>\n",
       "    </tr>\n",
       "    <tr>\n",
       "      <th>2</th>\n",
       "      <td>2016-01-01 00:00:03</td>\n",
       "      <td>2016-01-01 00:15:49</td>\n",
       "      <td>6</td>\n",
       "      <td>2.43</td>\n",
       "      <td>-73.969330</td>\n",
       "      <td>40.763538</td>\n",
       "      <td>1</td>\n",
       "      <td>N</td>\n",
       "      <td>-73.995689</td>\n",
       "      <td>40.744251</td>\n",
       "      <td>1</td>\n",
       "      <td>12.0</td>\n",
       "      <td>0.5</td>\n",
       "      <td>0.5</td>\n",
       "      <td>3.99</td>\n",
       "      <td>0.0</td>\n",
       "      <td>0.3</td>\n",
       "      <td>17.29</td>\n",
       "      <td>(-73.9956893921, 40.7442512512)</td>\n",
       "      <td>POINT (-73.99568939208984 40.7442512512207)</td>\n",
       "    </tr>\n",
       "    <tr>\n",
       "      <th>1</th>\n",
       "      <td>2016-01-01 00:00:04</td>\n",
       "      <td>2016-01-01 00:14:32</td>\n",
       "      <td>1</td>\n",
       "      <td>3.70</td>\n",
       "      <td>-74.004303</td>\n",
       "      <td>40.742241</td>\n",
       "      <td>1</td>\n",
       "      <td>N</td>\n",
       "      <td>-74.007362</td>\n",
       "      <td>40.706936</td>\n",
       "      <td>1</td>\n",
       "      <td>14.0</td>\n",
       "      <td>0.5</td>\n",
       "      <td>0.5</td>\n",
       "      <td>3.05</td>\n",
       "      <td>0.0</td>\n",
       "      <td>0.3</td>\n",
       "      <td>18.35</td>\n",
       "      <td>(-74.0073623657, 40.7069358826)</td>\n",
       "      <td>POINT (-74.00736236572266 40.70693588256836)</td>\n",
       "    </tr>\n",
       "    <tr>\n",
       "      <th>1</th>\n",
       "      <td>2016-01-01 00:00:05</td>\n",
       "      <td>2016-01-01 00:14:27</td>\n",
       "      <td>2</td>\n",
       "      <td>2.20</td>\n",
       "      <td>-73.991997</td>\n",
       "      <td>40.718578</td>\n",
       "      <td>1</td>\n",
       "      <td>N</td>\n",
       "      <td>-74.005135</td>\n",
       "      <td>40.739944</td>\n",
       "      <td>1</td>\n",
       "      <td>11.0</td>\n",
       "      <td>0.5</td>\n",
       "      <td>0.5</td>\n",
       "      <td>1.50</td>\n",
       "      <td>0.0</td>\n",
       "      <td>0.3</td>\n",
       "      <td>13.80</td>\n",
       "      <td>(-74.0051345825, 40.739944458)</td>\n",
       "      <td>POINT (-74.00513458251955 40.73994445800781)</td>\n",
       "    </tr>\n",
       "  </tbody>\n",
       "</table>\n",
       "</div>"
      ],
      "text/plain": [
       "         tpep_pickup_datetime tpep_dropoff_datetime  passenger_count  \\\n",
       "VendorID                                                               \n",
       "2         2016-01-01 00:00:00   2016-01-01 00:00:00                5   \n",
       "2         2016-01-01 00:00:00   2016-01-01 00:00:00                1   \n",
       "2         2016-01-01 00:00:03   2016-01-01 00:15:49                6   \n",
       "1         2016-01-01 00:00:04   2016-01-01 00:14:32                1   \n",
       "1         2016-01-01 00:00:05   2016-01-01 00:14:27                2   \n",
       "\n",
       "          trip_distance  pickup_longitude  pickup_latitude  RatecodeID  \\\n",
       "VendorID                                                                 \n",
       "2                  4.90        -73.980782        40.729912           1   \n",
       "2                 10.54        -73.984550        40.679565           1   \n",
       "2                  2.43        -73.969330        40.763538           1   \n",
       "1                  3.70        -74.004303        40.742241           1   \n",
       "1                  2.20        -73.991997        40.718578           1   \n",
       "\n",
       "         store_and_fwd_flag  dropoff_longitude  dropoff_latitude  \\\n",
       "VendorID                                                           \n",
       "2                         N         -73.944473         40.716679   \n",
       "2                         N         -73.950272         40.788925   \n",
       "2                         N         -73.995689         40.744251   \n",
       "1                         N         -74.007362         40.706936   \n",
       "1                         N         -74.005135         40.739944   \n",
       "\n",
       "          payment_type  fare_amount  extra  mta_tax  tip_amount  tolls_amount  \\\n",
       "VendorID                                                                        \n",
       "2                    1         18.0    0.5      0.5        0.00           0.0   \n",
       "2                    1         33.0    0.5      0.5        0.00           0.0   \n",
       "2                    1         12.0    0.5      0.5        3.99           0.0   \n",
       "1                    1         14.0    0.5      0.5        3.05           0.0   \n",
       "1                    1         11.0    0.5      0.5        1.50           0.0   \n",
       "\n",
       "          improvement_surcharge  total_amount  \\\n",
       "VendorID                                        \n",
       "2                           0.3         19.30   \n",
       "2                           0.3         34.30   \n",
       "2                           0.3         17.29   \n",
       "1                           0.3         18.35   \n",
       "1                           0.3         13.80   \n",
       "\n",
       "                                   lonlat  \\\n",
       "VendorID                                    \n",
       "2         (-73.9444732666, 40.7166786194)   \n",
       "2         (-73.9502716064, 40.7889251709)   \n",
       "2         (-73.9956893921, 40.7442512512)   \n",
       "1         (-74.0073623657, 40.7069358826)   \n",
       "1          (-74.0051345825, 40.739944458)   \n",
       "\n",
       "                                              geometry  \n",
       "VendorID                                                \n",
       "2         POINT (-73.94447326660156 40.71667861938477)  \n",
       "2         POINT (-73.95027160644531 40.78892517089844)  \n",
       "2          POINT (-73.99568939208984 40.7442512512207)  \n",
       "1         POINT (-74.00736236572266 40.70693588256836)  \n",
       "1         POINT (-74.00513458251955 40.73994445800781)  "
      ]
     },
     "execution_count": 12,
     "metadata": {},
     "output_type": "execute_result"
    }
   ],
   "source": [
    "data1_new['lonlat']=zip(data1_new.dropoff_longitude,data1_new.dropoff_latitude)\n",
    "data1_new['geometry']=data1_new[['lonlat']].applymap(lambda x:shapely.geometry.Point(x))\n",
    "data1_new.head()"
   ]
  },
  {
   "cell_type": "code",
   "execution_count": 13,
   "metadata": {
    "collapsed": false
   },
   "outputs": [],
   "source": [
    "tax1_tip = data1_new.iloc[:,(11,14,-3,-1)] "
   ]
  },
  {
   "cell_type": "code",
   "execution_count": 14,
   "metadata": {
    "collapsed": false
   },
   "outputs": [],
   "source": [
    "tax1_tip.reset_index(0,inplace = True)"
   ]
  },
  {
   "cell_type": "code",
   "execution_count": 15,
   "metadata": {
    "collapsed": false
   },
   "outputs": [
    {
     "data": {
      "text/html": [
       "<div>\n",
       "<table border=\"1\" class=\"dataframe\">\n",
       "  <thead>\n",
       "    <tr style=\"text-align: right;\">\n",
       "      <th></th>\n",
       "      <th>VendorID</th>\n",
       "      <th>fare_amount</th>\n",
       "      <th>tip_amount</th>\n",
       "      <th>total_amount</th>\n",
       "      <th>geometry</th>\n",
       "    </tr>\n",
       "  </thead>\n",
       "  <tbody>\n",
       "    <tr>\n",
       "      <th>0</th>\n",
       "      <td>2</td>\n",
       "      <td>18.0</td>\n",
       "      <td>0.00</td>\n",
       "      <td>19.30</td>\n",
       "      <td>POINT (-73.94447326660156 40.71667861938477)</td>\n",
       "    </tr>\n",
       "    <tr>\n",
       "      <th>1</th>\n",
       "      <td>2</td>\n",
       "      <td>33.0</td>\n",
       "      <td>0.00</td>\n",
       "      <td>34.30</td>\n",
       "      <td>POINT (-73.95027160644531 40.78892517089844)</td>\n",
       "    </tr>\n",
       "    <tr>\n",
       "      <th>2</th>\n",
       "      <td>2</td>\n",
       "      <td>12.0</td>\n",
       "      <td>3.99</td>\n",
       "      <td>17.29</td>\n",
       "      <td>POINT (-73.99568939208984 40.7442512512207)</td>\n",
       "    </tr>\n",
       "    <tr>\n",
       "      <th>3</th>\n",
       "      <td>1</td>\n",
       "      <td>14.0</td>\n",
       "      <td>3.05</td>\n",
       "      <td>18.35</td>\n",
       "      <td>POINT (-74.00736236572266 40.70693588256836)</td>\n",
       "    </tr>\n",
       "    <tr>\n",
       "      <th>4</th>\n",
       "      <td>1</td>\n",
       "      <td>11.0</td>\n",
       "      <td>1.50</td>\n",
       "      <td>13.80</td>\n",
       "      <td>POINT (-74.00513458251955 40.73994445800781)</td>\n",
       "    </tr>\n",
       "  </tbody>\n",
       "</table>\n",
       "</div>"
      ],
      "text/plain": [
       "   VendorID  fare_amount  tip_amount  total_amount  \\\n",
       "0         2         18.0        0.00         19.30   \n",
       "1         2         33.0        0.00         34.30   \n",
       "2         2         12.0        3.99         17.29   \n",
       "3         1         14.0        3.05         18.35   \n",
       "4         1         11.0        1.50         13.80   \n",
       "\n",
       "                                       geometry  \n",
       "0  POINT (-73.94447326660156 40.71667861938477)  \n",
       "1  POINT (-73.95027160644531 40.78892517089844)  \n",
       "2   POINT (-73.99568939208984 40.7442512512207)  \n",
       "3  POINT (-74.00736236572266 40.70693588256836)  \n",
       "4  POINT (-74.00513458251955 40.73994445800781)  "
      ]
     },
     "execution_count": 15,
     "metadata": {},
     "output_type": "execute_result"
    }
   ],
   "source": [
    "tax1_tip.head()"
   ]
  },
  {
   "cell_type": "code",
   "execution_count": 16,
   "metadata": {
    "collapsed": false
   },
   "outputs": [
    {
     "name": "stderr",
     "output_type": "stream",
     "text": [
      "/opt/rh/anaconda/root/envs/PUI2016_Python2/lib/python2.7/site-packages/ipykernel/__main__.py:1: SettingWithCopyWarning: \n",
      "A value is trying to be set on a copy of a slice from a DataFrame.\n",
      "Try using .loc[row_indexer,col_indexer] = value instead\n",
      "\n",
      "See the caveats in the documentation: http://pandas.pydata.org/pandas-docs/stable/indexing.html#indexing-view-versus-copy\n",
      "  if __name__ == '__main__':\n"
     ]
    }
   ],
   "source": [
    "tax1_tip[\"tip_percentage\"] =  100*tax1_tip[\"tip_amount\"]/tax1_tip[\"fare_amount\"]"
   ]
  },
  {
   "cell_type": "code",
   "execution_count": 18,
   "metadata": {
    "collapsed": false
   },
   "outputs": [
    {
     "data": {
      "text/plain": [
       "7181476"
      ]
     },
     "execution_count": 18,
     "metadata": {},
     "output_type": "execute_result"
    }
   ],
   "source": [
    "len(tax1_tip)"
   ]
  },
  {
   "cell_type": "code",
   "execution_count": 343,
   "metadata": {
    "collapsed": false
   },
   "outputs": [
    {
     "data": {
      "text/html": [
       "<div>\n",
       "<table border=\"1\" class=\"dataframe\">\n",
       "  <thead>\n",
       "    <tr style=\"text-align: right;\">\n",
       "      <th></th>\n",
       "      <th>VendorID</th>\n",
       "      <th>fare_amount</th>\n",
       "      <th>tip_amount</th>\n",
       "      <th>total_amount</th>\n",
       "      <th>geometry</th>\n",
       "      <th>tip_percentage</th>\n",
       "    </tr>\n",
       "  </thead>\n",
       "  <tbody>\n",
       "    <tr>\n",
       "      <th>0</th>\n",
       "      <td>2</td>\n",
       "      <td>18.0</td>\n",
       "      <td>0.00</td>\n",
       "      <td>19.30</td>\n",
       "      <td>POINT (-73.94447326660156 40.71667861938477)</td>\n",
       "      <td>0.000000</td>\n",
       "    </tr>\n",
       "    <tr>\n",
       "      <th>1</th>\n",
       "      <td>2</td>\n",
       "      <td>33.0</td>\n",
       "      <td>0.00</td>\n",
       "      <td>34.30</td>\n",
       "      <td>POINT (-73.95027160644531 40.78892517089844)</td>\n",
       "      <td>0.000000</td>\n",
       "    </tr>\n",
       "    <tr>\n",
       "      <th>2</th>\n",
       "      <td>2</td>\n",
       "      <td>12.0</td>\n",
       "      <td>3.99</td>\n",
       "      <td>17.29</td>\n",
       "      <td>POINT (-73.99568939208984 40.7442512512207)</td>\n",
       "      <td>33.250000</td>\n",
       "    </tr>\n",
       "    <tr>\n",
       "      <th>3</th>\n",
       "      <td>1</td>\n",
       "      <td>14.0</td>\n",
       "      <td>3.05</td>\n",
       "      <td>18.35</td>\n",
       "      <td>POINT (-74.00736236572266 40.70693588256836)</td>\n",
       "      <td>21.785714</td>\n",
       "    </tr>\n",
       "    <tr>\n",
       "      <th>4</th>\n",
       "      <td>1</td>\n",
       "      <td>11.0</td>\n",
       "      <td>1.50</td>\n",
       "      <td>13.80</td>\n",
       "      <td>POINT (-74.00513458251955 40.73994445800781)</td>\n",
       "      <td>13.636364</td>\n",
       "    </tr>\n",
       "  </tbody>\n",
       "</table>\n",
       "</div>"
      ],
      "text/plain": [
       "   VendorID  fare_amount  tip_amount  total_amount  \\\n",
       "0         2         18.0        0.00         19.30   \n",
       "1         2         33.0        0.00         34.30   \n",
       "2         2         12.0        3.99         17.29   \n",
       "3         1         14.0        3.05         18.35   \n",
       "4         1         11.0        1.50         13.80   \n",
       "\n",
       "                                       geometry  tip_percentage  \n",
       "0  POINT (-73.94447326660156 40.71667861938477)        0.000000  \n",
       "1  POINT (-73.95027160644531 40.78892517089844)        0.000000  \n",
       "2   POINT (-73.99568939208984 40.7442512512207)       33.250000  \n",
       "3  POINT (-74.00736236572266 40.70693588256836)       21.785714  \n",
       "4  POINT (-74.00513458251955 40.73994445800781)       13.636364  "
      ]
     },
     "execution_count": 343,
     "metadata": {},
     "output_type": "execute_result"
    }
   ],
   "source": [
    "tax1_tip.head()"
   ]
  },
  {
   "cell_type": "markdown",
   "metadata": {},
   "source": [
    "## Map  Tip_percentage to CT level"
   ]
  },
  {
   "cell_type": "markdown",
   "metadata": {},
   "source": [
    "### Intersect the two geometries"
   ]
  },
  {
   "cell_type": "code",
   "execution_count": 348,
   "metadata": {
    "collapsed": false
   },
   "outputs": [
    {
     "data": {
      "text/html": [
       "<div>\n",
       "<table border=\"1\" class=\"dataframe\">\n",
       "  <thead>\n",
       "    <tr style=\"text-align: right;\">\n",
       "      <th></th>\n",
       "      <th>BoroCT2010</th>\n",
       "      <th>BoroCode</th>\n",
       "      <th>BoroName</th>\n",
       "      <th>CDEligibil</th>\n",
       "      <th>CT2010</th>\n",
       "      <th>CTLabel</th>\n",
       "      <th>NTACode</th>\n",
       "      <th>NTAName</th>\n",
       "      <th>PUMA</th>\n",
       "      <th>Shape_Area</th>\n",
       "      <th>Shape_Leng</th>\n",
       "      <th>geometry</th>\n",
       "    </tr>\n",
       "    <tr>\n",
       "      <th>BoroCT2010</th>\n",
       "      <th></th>\n",
       "      <th></th>\n",
       "      <th></th>\n",
       "      <th></th>\n",
       "      <th></th>\n",
       "      <th></th>\n",
       "      <th></th>\n",
       "      <th></th>\n",
       "      <th></th>\n",
       "      <th></th>\n",
       "      <th></th>\n",
       "      <th></th>\n",
       "    </tr>\n",
       "  </thead>\n",
       "  <tbody>\n",
       "    <tr>\n",
       "      <th>5000900</th>\n",
       "      <td>5000900</td>\n",
       "      <td>5</td>\n",
       "      <td>Staten Island</td>\n",
       "      <td>I</td>\n",
       "      <td>000900</td>\n",
       "      <td>9</td>\n",
       "      <td>SI22</td>\n",
       "      <td>West New Brighton-New Brighton-St. George</td>\n",
       "      <td>3903</td>\n",
       "      <td>2.497010e+06</td>\n",
       "      <td>7729.016729</td>\n",
       "      <td>POLYGON ((-74.07920577013245 40.64343078374566...</td>\n",
       "    </tr>\n",
       "    <tr>\n",
       "      <th>5012500</th>\n",
       "      <td>5012500</td>\n",
       "      <td>5</td>\n",
       "      <td>Staten Island</td>\n",
       "      <td>I</td>\n",
       "      <td>012500</td>\n",
       "      <td>125</td>\n",
       "      <td>SI22</td>\n",
       "      <td>West New Brighton-New Brighton-St. George</td>\n",
       "      <td>3903</td>\n",
       "      <td>4.954936e+06</td>\n",
       "      <td>10582.855530</td>\n",
       "      <td>POLYGON ((-74.11618948747538 40.62894119691981...</td>\n",
       "    </tr>\n",
       "    <tr>\n",
       "      <th>5013301</th>\n",
       "      <td>5013301</td>\n",
       "      <td>5</td>\n",
       "      <td>Staten Island</td>\n",
       "      <td>E</td>\n",
       "      <td>013301</td>\n",
       "      <td>133.01</td>\n",
       "      <td>SI22</td>\n",
       "      <td>West New Brighton-New Brighton-St. George</td>\n",
       "      <td>3903</td>\n",
       "      <td>7.217847e+05</td>\n",
       "      <td>3428.312676</td>\n",
       "      <td>POLYGON ((-74.11719947139957 40.63456809812987...</td>\n",
       "    </tr>\n",
       "    <tr>\n",
       "      <th>5019700</th>\n",
       "      <td>5019700</td>\n",
       "      <td>5</td>\n",
       "      <td>Staten Island</td>\n",
       "      <td>I</td>\n",
       "      <td>019700</td>\n",
       "      <td>197</td>\n",
       "      <td>SI07</td>\n",
       "      <td>Westerleigh</td>\n",
       "      <td>3903</td>\n",
       "      <td>3.231720e+06</td>\n",
       "      <td>9097.697226</td>\n",
       "      <td>POLYGON ((-74.13122302263596 40.61726518212697...</td>\n",
       "    </tr>\n",
       "    <tr>\n",
       "      <th>5002002</th>\n",
       "      <td>5002002</td>\n",
       "      <td>5</td>\n",
       "      <td>Staten Island</td>\n",
       "      <td>I</td>\n",
       "      <td>002002</td>\n",
       "      <td>20.02</td>\n",
       "      <td>SI14</td>\n",
       "      <td>Grasmere-Arrochar-Ft. Wadsworth</td>\n",
       "      <td>3902</td>\n",
       "      <td>8.501224e+06</td>\n",
       "      <td>12591.725901</td>\n",
       "      <td>POLYGON ((-74.0635056566019 40.60215005483046,...</td>\n",
       "    </tr>\n",
       "  </tbody>\n",
       "</table>\n",
       "</div>"
      ],
      "text/plain": [
       "           BoroCT2010 BoroCode       BoroName CDEligibil  CT2010 CTLabel  \\\n",
       "BoroCT2010                                                                 \n",
       "5000900       5000900        5  Staten Island          I  000900       9   \n",
       "5012500       5012500        5  Staten Island          I  012500     125   \n",
       "5013301       5013301        5  Staten Island          E  013301  133.01   \n",
       "5019700       5019700        5  Staten Island          I  019700     197   \n",
       "5002002       5002002        5  Staten Island          I  002002   20.02   \n",
       "\n",
       "           NTACode                                    NTAName  PUMA  \\\n",
       "BoroCT2010                                                            \n",
       "5000900       SI22  West New Brighton-New Brighton-St. George  3903   \n",
       "5012500       SI22  West New Brighton-New Brighton-St. George  3903   \n",
       "5013301       SI22  West New Brighton-New Brighton-St. George  3903   \n",
       "5019700       SI07                                Westerleigh  3903   \n",
       "5002002       SI14            Grasmere-Arrochar-Ft. Wadsworth  3902   \n",
       "\n",
       "              Shape_Area    Shape_Leng  \\\n",
       "BoroCT2010                               \n",
       "5000900     2.497010e+06   7729.016729   \n",
       "5012500     4.954936e+06  10582.855530   \n",
       "5013301     7.217847e+05   3428.312676   \n",
       "5019700     3.231720e+06   9097.697226   \n",
       "5002002     8.501224e+06  12591.725901   \n",
       "\n",
       "                                                     geometry  \n",
       "BoroCT2010                                                     \n",
       "5000900     POLYGON ((-74.07920577013245 40.64343078374566...  \n",
       "5012500     POLYGON ((-74.11618948747538 40.62894119691981...  \n",
       "5013301     POLYGON ((-74.11719947139957 40.63456809812987...  \n",
       "5019700     POLYGON ((-74.13122302263596 40.61726518212697...  \n",
       "5002002     POLYGON ((-74.0635056566019 40.60215005483046,...  "
      ]
     },
     "execution_count": 348,
     "metadata": {},
     "output_type": "execute_result"
    }
   ],
   "source": [
    "ct_shape.head()"
   ]
  },
  {
   "cell_type": "markdown",
   "metadata": {},
   "source": [
    "## Let's take random 10000 numbers"
   ]
  },
  {
   "cell_type": "code",
   "execution_count": 354,
   "metadata": {
    "collapsed": false
   },
   "outputs": [],
   "source": [
    "taxi2 = np.random.choice(tax1_tip.index,10000, replace=True)\n"
   ]
  },
  {
   "cell_type": "code",
   "execution_count": 355,
   "metadata": {
    "collapsed": false
   },
   "outputs": [],
   "source": [
    "tax1_rand = tax1_tip.iloc[taxi2,:]"
   ]
  },
  {
   "cell_type": "code",
   "execution_count": 356,
   "metadata": {
    "collapsed": false
   },
   "outputs": [
    {
     "data": {
      "text/html": [
       "<div>\n",
       "<table border=\"1\" class=\"dataframe\">\n",
       "  <thead>\n",
       "    <tr style=\"text-align: right;\">\n",
       "      <th></th>\n",
       "      <th>VendorID</th>\n",
       "      <th>fare_amount</th>\n",
       "      <th>tip_amount</th>\n",
       "      <th>total_amount</th>\n",
       "      <th>geometry</th>\n",
       "      <th>tip_percentage</th>\n",
       "    </tr>\n",
       "  </thead>\n",
       "  <tbody>\n",
       "    <tr>\n",
       "      <th>4967934</th>\n",
       "      <td>2</td>\n",
       "      <td>9.0</td>\n",
       "      <td>2.06</td>\n",
       "      <td>12.36</td>\n",
       "      <td>POINT (-73.95562744140625 40.76935958862305)</td>\n",
       "      <td>22.888889</td>\n",
       "    </tr>\n",
       "    <tr>\n",
       "      <th>277869</th>\n",
       "      <td>2</td>\n",
       "      <td>19.0</td>\n",
       "      <td>3.00</td>\n",
       "      <td>22.80</td>\n",
       "      <td>POINT (-73.98857879638672 40.74804306030273)</td>\n",
       "      <td>15.789474</td>\n",
       "    </tr>\n",
       "    <tr>\n",
       "      <th>4222334</th>\n",
       "      <td>2</td>\n",
       "      <td>7.0</td>\n",
       "      <td>1.56</td>\n",
       "      <td>9.36</td>\n",
       "      <td>POINT (-73.98845672607422 40.73218154907227)</td>\n",
       "      <td>22.285714</td>\n",
       "    </tr>\n",
       "    <tr>\n",
       "      <th>3163458</th>\n",
       "      <td>1</td>\n",
       "      <td>17.0</td>\n",
       "      <td>3.75</td>\n",
       "      <td>22.55</td>\n",
       "      <td>POINT (-73.97713470458984 40.76444625854492)</td>\n",
       "      <td>22.058824</td>\n",
       "    </tr>\n",
       "    <tr>\n",
       "      <th>1241052</th>\n",
       "      <td>1</td>\n",
       "      <td>7.5</td>\n",
       "      <td>1.65</td>\n",
       "      <td>9.95</td>\n",
       "      <td>POINT (-73.95912170410156 40.77190780639648)</td>\n",
       "      <td>22.000000</td>\n",
       "    </tr>\n",
       "  </tbody>\n",
       "</table>\n",
       "</div>"
      ],
      "text/plain": [
       "         VendorID  fare_amount  tip_amount  total_amount  \\\n",
       "4967934         2          9.0        2.06         12.36   \n",
       "277869          2         19.0        3.00         22.80   \n",
       "4222334         2          7.0        1.56          9.36   \n",
       "3163458         1         17.0        3.75         22.55   \n",
       "1241052         1          7.5        1.65          9.95   \n",
       "\n",
       "                                             geometry  tip_percentage  \n",
       "4967934  POINT (-73.95562744140625 40.76935958862305)       22.888889  \n",
       "277869   POINT (-73.98857879638672 40.74804306030273)       15.789474  \n",
       "4222334  POINT (-73.98845672607422 40.73218154907227)       22.285714  \n",
       "3163458  POINT (-73.97713470458984 40.76444625854492)       22.058824  \n",
       "1241052  POINT (-73.95912170410156 40.77190780639648)       22.000000  "
      ]
     },
     "execution_count": 356,
     "metadata": {},
     "output_type": "execute_result"
    }
   ],
   "source": [
    "tax1_rand.head()"
   ]
  },
  {
   "cell_type": "code",
   "execution_count": 357,
   "metadata": {
    "collapsed": false
   },
   "outputs": [
    {
     "data": {
      "text/plain": [
       "10000"
      ]
     },
     "execution_count": 357,
     "metadata": {},
     "output_type": "execute_result"
    }
   ],
   "source": [
    "len(tax1_rand)"
   ]
  },
  {
   "cell_type": "code",
   "execution_count": 358,
   "metadata": {
    "collapsed": false
   },
   "outputs": [],
   "source": [
    "tax1_rand.index = range(10000)"
   ]
  },
  {
   "cell_type": "code",
   "execution_count": 359,
   "metadata": {
    "collapsed": false
   },
   "outputs": [
    {
     "data": {
      "text/html": [
       "<div>\n",
       "<table border=\"1\" class=\"dataframe\">\n",
       "  <thead>\n",
       "    <tr style=\"text-align: right;\">\n",
       "      <th></th>\n",
       "      <th>VendorID</th>\n",
       "      <th>fare_amount</th>\n",
       "      <th>tip_amount</th>\n",
       "      <th>total_amount</th>\n",
       "      <th>geometry</th>\n",
       "      <th>tip_percentage</th>\n",
       "    </tr>\n",
       "  </thead>\n",
       "  <tbody>\n",
       "    <tr>\n",
       "      <th>0</th>\n",
       "      <td>2</td>\n",
       "      <td>9.0</td>\n",
       "      <td>2.06</td>\n",
       "      <td>12.36</td>\n",
       "      <td>POINT (-73.95562744140625 40.76935958862305)</td>\n",
       "      <td>22.888889</td>\n",
       "    </tr>\n",
       "    <tr>\n",
       "      <th>1</th>\n",
       "      <td>2</td>\n",
       "      <td>19.0</td>\n",
       "      <td>3.00</td>\n",
       "      <td>22.80</td>\n",
       "      <td>POINT (-73.98857879638672 40.74804306030273)</td>\n",
       "      <td>15.789474</td>\n",
       "    </tr>\n",
       "    <tr>\n",
       "      <th>2</th>\n",
       "      <td>2</td>\n",
       "      <td>7.0</td>\n",
       "      <td>1.56</td>\n",
       "      <td>9.36</td>\n",
       "      <td>POINT (-73.98845672607422 40.73218154907227)</td>\n",
       "      <td>22.285714</td>\n",
       "    </tr>\n",
       "    <tr>\n",
       "      <th>3</th>\n",
       "      <td>1</td>\n",
       "      <td>17.0</td>\n",
       "      <td>3.75</td>\n",
       "      <td>22.55</td>\n",
       "      <td>POINT (-73.97713470458984 40.76444625854492)</td>\n",
       "      <td>22.058824</td>\n",
       "    </tr>\n",
       "    <tr>\n",
       "      <th>4</th>\n",
       "      <td>1</td>\n",
       "      <td>7.5</td>\n",
       "      <td>1.65</td>\n",
       "      <td>9.95</td>\n",
       "      <td>POINT (-73.95912170410156 40.77190780639648)</td>\n",
       "      <td>22.000000</td>\n",
       "    </tr>\n",
       "  </tbody>\n",
       "</table>\n",
       "</div>"
      ],
      "text/plain": [
       "   VendorID  fare_amount  tip_amount  total_amount  \\\n",
       "0         2          9.0        2.06         12.36   \n",
       "1         2         19.0        3.00         22.80   \n",
       "2         2          7.0        1.56          9.36   \n",
       "3         1         17.0        3.75         22.55   \n",
       "4         1          7.5        1.65          9.95   \n",
       "\n",
       "                                       geometry  tip_percentage  \n",
       "0  POINT (-73.95562744140625 40.76935958862305)       22.888889  \n",
       "1  POINT (-73.98857879638672 40.74804306030273)       15.789474  \n",
       "2  POINT (-73.98845672607422 40.73218154907227)       22.285714  \n",
       "3  POINT (-73.97713470458984 40.76444625854492)       22.058824  \n",
       "4  POINT (-73.95912170410156 40.77190780639648)       22.000000  "
      ]
     },
     "execution_count": 359,
     "metadata": {},
     "output_type": "execute_result"
    }
   ],
   "source": [
    "tax1_rand.head()"
   ]
  },
  {
   "cell_type": "code",
   "execution_count": 360,
   "metadata": {
    "collapsed": false
   },
   "outputs": [
    {
     "name": "stdout",
     "output_type": "stream",
     "text": [
      "% 100.\n"
     ]
    },
    {
     "name": "stderr",
     "output_type": "stream",
     "text": [
      "/opt/rh/anaconda/root/envs/PUI2016_Python2/lib/python2.7/site-packages/ipykernel/__main__.py:6: SettingWithCopyWarning: \n",
      "A value is trying to be set on a copy of a slice from a DataFrame.\n",
      "Try using .loc[row_indexer,col_indexer] = value instead\n",
      "\n",
      "See the caveats in the documentation: http://pandas.pydata.org/pandas-docs/stable/indexing.html#indexing-view-versus-copy\n"
     ]
    }
   ],
   "source": [
    "a=[]\n",
    "# check for each citibike stations to see what CT they are belong to\n",
    "for i in range(len(tax1_rand)):\n",
    "    a.append(ct_shape[ct_shape.geometry.intersects(tax1_rand.iloc[i].geometry)].BoroCT2010.values)\n",
    "    print '\\r',\"%\",str((i+1)*100./len(tax1_rand))[:4],\n",
    "tax1_rand['BoroCT2010']=a"
   ]
  },
  {
   "cell_type": "code",
   "execution_count": 31,
   "metadata": {
    "collapsed": false,
    "scrolled": true
   },
   "outputs": [
    {
     "name": "stderr",
     "output_type": "stream",
     "text": [
      "/opt/rh/anaconda/root/envs/PUI2016_Python2/lib/python2.7/site-packages/pandas/core/generic.py:2701: SettingWithCopyWarning: \n",
      "A value is trying to be set on a copy of a slice from a DataFrame.\n",
      "Try using .loc[row_indexer,col_indexer] = value instead\n",
      "\n",
      "See the caveats in the documentation: http://pandas.pydata.org/pandas-docs/stable/indexing.html#indexing-view-versus-copy\n",
      "  self[name] = value\n"
     ]
    }
   ],
   "source": [
    "tax1_rand.BoroCT2010 = tax1_rand.BoroCT2010.apply(lambda x: str(x)[3:10])"
   ]
  },
  {
   "cell_type": "code",
   "execution_count": 32,
   "metadata": {
    "collapsed": false
   },
   "outputs": [],
   "source": [
    "tipmean = tax1_rand.tip_percentage.groupby(tax1_rand.BoroCT2010).mean()"
   ]
  },
  {
   "cell_type": "code",
   "execution_count": 33,
   "metadata": {
    "collapsed": false
   },
   "outputs": [],
   "source": [
    "tipmean = pd.DataFrame(tipmean)"
   ]
  },
  {
   "cell_type": "code",
   "execution_count": 35,
   "metadata": {
    "collapsed": false
   },
   "outputs": [
    {
     "data": {
      "text/html": [
       "<div>\n",
       "<table border=\"1\" class=\"dataframe\">\n",
       "  <thead>\n",
       "    <tr style=\"text-align: right;\">\n",
       "      <th></th>\n",
       "      <th>tip_percentage</th>\n",
       "    </tr>\n",
       "    <tr>\n",
       "      <th>BoroCT2010</th>\n",
       "      <th></th>\n",
       "    </tr>\n",
       "  </thead>\n",
       "  <tbody>\n",
       "    <tr>\n",
       "      <th></th>\n",
       "      <td>20.757676</td>\n",
       "    </tr>\n",
       "    <tr>\n",
       "      <th>1000201</th>\n",
       "      <td>25.384615</td>\n",
       "    </tr>\n",
       "    <tr>\n",
       "      <th>1000202</th>\n",
       "      <td>24.107143</td>\n",
       "    </tr>\n",
       "    <tr>\n",
       "      <th>1000600</th>\n",
       "      <td>19.136006</td>\n",
       "    </tr>\n",
       "    <tr>\n",
       "      <th>1000700</th>\n",
       "      <td>19.327208</td>\n",
       "    </tr>\n",
       "  </tbody>\n",
       "</table>\n",
       "</div>"
      ],
      "text/plain": [
       "            tip_percentage\n",
       "BoroCT2010                \n",
       "                 20.757676\n",
       "1000201          25.384615\n",
       "1000202          24.107143\n",
       "1000600          19.136006\n",
       "1000700          19.327208"
      ]
     },
     "execution_count": 35,
     "metadata": {},
     "output_type": "execute_result"
    }
   ],
   "source": [
    "tipmean.head()"
   ]
  },
  {
   "cell_type": "code",
   "execution_count": 36,
   "metadata": {
    "collapsed": true
   },
   "outputs": [],
   "source": [
    "tipmean.reset_index(inplace = True)\n"
   ]
  },
  {
   "cell_type": "code",
   "execution_count": 37,
   "metadata": {
    "collapsed": false
   },
   "outputs": [
    {
     "data": {
      "text/html": [
       "<div>\n",
       "<table border=\"1\" class=\"dataframe\">\n",
       "  <thead>\n",
       "    <tr style=\"text-align: right;\">\n",
       "      <th></th>\n",
       "      <th>BoroCT2010</th>\n",
       "      <th>tip_percentage</th>\n",
       "    </tr>\n",
       "  </thead>\n",
       "  <tbody>\n",
       "    <tr>\n",
       "      <th>0</th>\n",
       "      <td></td>\n",
       "      <td>20.757676</td>\n",
       "    </tr>\n",
       "    <tr>\n",
       "      <th>1</th>\n",
       "      <td>1000201</td>\n",
       "      <td>25.384615</td>\n",
       "    </tr>\n",
       "    <tr>\n",
       "      <th>2</th>\n",
       "      <td>1000202</td>\n",
       "      <td>24.107143</td>\n",
       "    </tr>\n",
       "    <tr>\n",
       "      <th>3</th>\n",
       "      <td>1000600</td>\n",
       "      <td>19.136006</td>\n",
       "    </tr>\n",
       "    <tr>\n",
       "      <th>4</th>\n",
       "      <td>1000700</td>\n",
       "      <td>19.327208</td>\n",
       "    </tr>\n",
       "  </tbody>\n",
       "</table>\n",
       "</div>"
      ],
      "text/plain": [
       "  BoroCT2010  tip_percentage\n",
       "0                  20.757676\n",
       "1    1000201       25.384615\n",
       "2    1000202       24.107143\n",
       "3    1000600       19.136006\n",
       "4    1000700       19.327208"
      ]
     },
     "execution_count": 37,
     "metadata": {},
     "output_type": "execute_result"
    }
   ],
   "source": [
    "tipmean.head()"
   ]
  },
  {
   "cell_type": "markdown",
   "metadata": {},
   "source": [
    "### Add the tip average to the CT shapefile "
   ]
  },
  {
   "cell_type": "code",
   "execution_count": 252,
   "metadata": {
    "collapsed": false,
    "scrolled": true
   },
   "outputs": [],
   "source": [
    "ct_shape.BoroCT2010 = ct_shape.BoroCT2010.astype(str)"
   ]
  },
  {
   "cell_type": "code",
   "execution_count": 253,
   "metadata": {
    "collapsed": false
   },
   "outputs": [],
   "source": [
    "ct_shape_tip = ct_shape.merge(tipmean, on = \"BoroCT2010\", how = \"inner\")"
   ]
  },
  {
   "cell_type": "code",
   "execution_count": 361,
   "metadata": {
    "collapsed": false
   },
   "outputs": [
    {
     "data": {
      "text/html": [
       "<div>\n",
       "<table border=\"1\" class=\"dataframe\">\n",
       "  <thead>\n",
       "    <tr style=\"text-align: right;\">\n",
       "      <th></th>\n",
       "      <th>BoroCT2010</th>\n",
       "      <th>BoroCode</th>\n",
       "      <th>BoroName</th>\n",
       "      <th>CDEligibil</th>\n",
       "      <th>CT2010</th>\n",
       "      <th>CTLabel</th>\n",
       "      <th>NTACode</th>\n",
       "      <th>NTAName</th>\n",
       "      <th>PUMA</th>\n",
       "      <th>Shape_Area</th>\n",
       "      <th>Shape_Leng</th>\n",
       "      <th>geometry</th>\n",
       "      <th>tip_percentage</th>\n",
       "      <th>label</th>\n",
       "    </tr>\n",
       "  </thead>\n",
       "  <tbody>\n",
       "    <tr>\n",
       "      <th>0</th>\n",
       "      <td>1002202</td>\n",
       "      <td>1</td>\n",
       "      <td>Manhattan</td>\n",
       "      <td>I</td>\n",
       "      <td>002202</td>\n",
       "      <td>22.02</td>\n",
       "      <td>MN28</td>\n",
       "      <td>Lower East Side</td>\n",
       "      <td>3809</td>\n",
       "      <td>6.039223e+05</td>\n",
       "      <td>3817.391631</td>\n",
       "      <td>POLYGON ((-73.97823073299477 40.72067428669261...</td>\n",
       "      <td>19.204650</td>\n",
       "      <td>2</td>\n",
       "    </tr>\n",
       "    <tr>\n",
       "      <th>1</th>\n",
       "      <td>1003200</td>\n",
       "      <td>1</td>\n",
       "      <td>Manhattan</td>\n",
       "      <td>I</td>\n",
       "      <td>003200</td>\n",
       "      <td>32</td>\n",
       "      <td>MN22</td>\n",
       "      <td>East Village</td>\n",
       "      <td>3809</td>\n",
       "      <td>2.334190e+06</td>\n",
       "      <td>6358.386684</td>\n",
       "      <td>POLYGON ((-73.97990650235904 40.72686577300233...</td>\n",
       "      <td>22.823317</td>\n",
       "      <td>3</td>\n",
       "    </tr>\n",
       "    <tr>\n",
       "      <th>2</th>\n",
       "      <td>1006800</td>\n",
       "      <td>1</td>\n",
       "      <td>Manhattan</td>\n",
       "      <td>I</td>\n",
       "      <td>006800</td>\n",
       "      <td>68</td>\n",
       "      <td>MN21</td>\n",
       "      <td>Gramercy</td>\n",
       "      <td>3808</td>\n",
       "      <td>1.877943e+06</td>\n",
       "      <td>5723.883037</td>\n",
       "      <td>POLYGON ((-73.98085965412409 40.7419697680819,...</td>\n",
       "      <td>20.344389</td>\n",
       "      <td>3</td>\n",
       "    </tr>\n",
       "    <tr>\n",
       "      <th>3</th>\n",
       "      <td>1008900</td>\n",
       "      <td>1</td>\n",
       "      <td>Manhattan</td>\n",
       "      <td>I</td>\n",
       "      <td>008900</td>\n",
       "      <td>89</td>\n",
       "      <td>MN13</td>\n",
       "      <td>Hudson Yards-Chelsea-Flatiron-Union Square</td>\n",
       "      <td>3807</td>\n",
       "      <td>1.782279e+06</td>\n",
       "      <td>5578.769499</td>\n",
       "      <td>POLYGON ((-73.99897237419262 40.74463005524836...</td>\n",
       "      <td>22.712052</td>\n",
       "      <td>3</td>\n",
       "    </tr>\n",
       "    <tr>\n",
       "      <th>4</th>\n",
       "      <td>1009600</td>\n",
       "      <td>1</td>\n",
       "      <td>Manhattan</td>\n",
       "      <td>E</td>\n",
       "      <td>009600</td>\n",
       "      <td>96</td>\n",
       "      <td>MN17</td>\n",
       "      <td>Midtown-Midtown South</td>\n",
       "      <td>3807</td>\n",
       "      <td>1.887288e+06</td>\n",
       "      <td>5737.356247</td>\n",
       "      <td>POLYGON ((-73.9776548272757 40.75791142377995,...</td>\n",
       "      <td>21.103517</td>\n",
       "      <td>3</td>\n",
       "    </tr>\n",
       "  </tbody>\n",
       "</table>\n",
       "</div>"
      ],
      "text/plain": [
       "  BoroCT2010 BoroCode   BoroName CDEligibil  CT2010 CTLabel NTACode  \\\n",
       "0    1002202        1  Manhattan          I  002202   22.02    MN28   \n",
       "1    1003200        1  Manhattan          I  003200      32    MN22   \n",
       "2    1006800        1  Manhattan          I  006800      68    MN21   \n",
       "3    1008900        1  Manhattan          I  008900      89    MN13   \n",
       "4    1009600        1  Manhattan          E  009600      96    MN17   \n",
       "\n",
       "                                      NTAName  PUMA    Shape_Area  \\\n",
       "0                             Lower East Side  3809  6.039223e+05   \n",
       "1                                East Village  3809  2.334190e+06   \n",
       "2                                    Gramercy  3808  1.877943e+06   \n",
       "3  Hudson Yards-Chelsea-Flatiron-Union Square  3807  1.782279e+06   \n",
       "4                       Midtown-Midtown South  3807  1.887288e+06   \n",
       "\n",
       "    Shape_Leng                                           geometry  \\\n",
       "0  3817.391631  POLYGON ((-73.97823073299477 40.72067428669261...   \n",
       "1  6358.386684  POLYGON ((-73.97990650235904 40.72686577300233...   \n",
       "2  5723.883037  POLYGON ((-73.98085965412409 40.7419697680819,...   \n",
       "3  5578.769499  POLYGON ((-73.99897237419262 40.74463005524836...   \n",
       "4  5737.356247  POLYGON ((-73.9776548272757 40.75791142377995,...   \n",
       "\n",
       "   tip_percentage label  \n",
       "0       19.204650     2  \n",
       "1       22.823317     3  \n",
       "2       20.344389     3  \n",
       "3       22.712052     3  \n",
       "4       21.103517     3  "
      ]
     },
     "execution_count": 361,
     "metadata": {},
     "output_type": "execute_result"
    }
   ],
   "source": [
    "ct_shape_tip.head()"
   ]
  },
  {
   "cell_type": "markdown",
   "metadata": {},
   "source": [
    "# Using the Mean and Std to understand the tip amount"
   ]
  },
  {
   "cell_type": "code",
   "execution_count": 255,
   "metadata": {
    "collapsed": false
   },
   "outputs": [
    {
     "name": "stdout",
     "output_type": "stream",
     "text": [
      "The mean of the tip amount: 19.70 dollars\n"
     ]
    }
   ],
   "source": [
    "temp = ct_shape_tip.iloc[:,(0,-1)]\n",
    "print (\"The mean of the tip amount: %.2f dollars\"%(temp[\"tip_percentage\"].mean()))"
   ]
  },
  {
   "cell_type": "code",
   "execution_count": 256,
   "metadata": {
    "collapsed": false
   },
   "outputs": [
    {
     "name": "stdout",
     "output_type": "stream",
     "text": [
      "The standard deviation of the tip amount: 9.84 dollars\n"
     ]
    }
   ],
   "source": [
    "temp[\"tip_percentage\"].std()\n",
    "print (\"The standard deviation of the tip amount: %.2f dollars\"%(temp[\"tip_percentage\"].std()))"
   ]
  },
  {
   "cell_type": "code",
   "execution_count": 372,
   "metadata": {
    "collapsed": false,
    "scrolled": false
   },
   "outputs": [
    {
     "data": {
      "image/png": "[encoded data removed]",
      "text/plain": [
       "<matplotlib.figure.Figure at 0x7f5dd5686650>"
      ]
     },
     "metadata": {},
     "output_type": "display_data"
    }
   ],
   "source": [
    "import matplotlib.pylab as plt\n",
    "f = plt.figure(figsize=(25,10))\n",
    "ax = f.add_subplot(121)\n",
    "ct_shape_tip_clean.plot(column='tip_percentage', alpha=0.5, linewidth=0.1, ax=ax, cmap='hot')\n",
    "ax.set_title(\"Tip percentage\")\n",
    "plt.legend()"
   ]
  },
  {
   "cell_type": "markdown",
   "metadata": {},
   "source": [
    "## This is the heat map from amount low to high as from color black to yellow through red. \n"
   ]
  },
  {
   "cell_type": "markdown",
   "metadata": {},
   "source": [
    "---"
   ]
  },
  {
   "cell_type": "markdown",
   "metadata": {},
   "source": [
    "## Import the Median age Data:"
   ]
  },
  {
   "cell_type": "code",
   "execution_count": 417,
   "metadata": {
    "collapsed": false
   },
   "outputs": [],
   "source": [
    "medianage = pd.read_csv(\"ttp1.csv\")"
   ]
  },
  {
   "cell_type": "code",
   "execution_count": 418,
   "metadata": {
    "collapsed": false
   },
   "outputs": [],
   "source": [
    "medianage = medianage.iloc[:,(0,3)]"
   ]
  },
  {
   "cell_type": "code",
   "execution_count": 419,
   "metadata": {
    "collapsed": false
   },
   "outputs": [],
   "source": [
    "medianage.dropna(inplace = True)"
   ]
  },
  {
   "cell_type": "code",
   "execution_count": 420,
   "metadata": {
    "collapsed": false
   },
   "outputs": [
    {
     "data": {
      "text/html": [
       "<div>\n",
       "<table border=\"1\" class=\"dataframe\">\n",
       "  <thead>\n",
       "    <tr style=\"text-align: right;\">\n",
       "      <th></th>\n",
       "      <th>BoroCT2010</th>\n",
       "      <th>tip_percentage</th>\n",
       "    </tr>\n",
       "  </thead>\n",
       "  <tbody>\n",
       "    <tr>\n",
       "      <th>0</th>\n",
       "      <td></td>\n",
       "      <td>20.757676</td>\n",
       "    </tr>\n",
       "    <tr>\n",
       "      <th>1</th>\n",
       "      <td>1000201</td>\n",
       "      <td>25.384615</td>\n",
       "    </tr>\n",
       "    <tr>\n",
       "      <th>2</th>\n",
       "      <td>1000202</td>\n",
       "      <td>24.107143</td>\n",
       "    </tr>\n",
       "    <tr>\n",
       "      <th>3</th>\n",
       "      <td>1000600</td>\n",
       "      <td>19.136006</td>\n",
       "    </tr>\n",
       "    <tr>\n",
       "      <th>4</th>\n",
       "      <td>1000700</td>\n",
       "      <td>19.327208</td>\n",
       "    </tr>\n",
       "  </tbody>\n",
       "</table>\n",
       "</div>"
      ],
      "text/plain": [
       "  BoroCT2010  tip_percentage\n",
       "0                  20.757676\n",
       "1    1000201       25.384615\n",
       "2    1000202       24.107143\n",
       "3    1000600       19.136006\n",
       "4    1000700       19.327208"
      ]
     },
     "execution_count": 420,
     "metadata": {},
     "output_type": "execute_result"
    }
   ],
   "source": [
    "tipmean.head()"
   ]
  },
  {
   "cell_type": "code",
   "execution_count": 421,
   "metadata": {
    "collapsed": true
   },
   "outputs": [],
   "source": [
    "medianage[\"BoroCT2010\"] = medianage['Census Tract'].apply(lambda x: str(x)[4:-4])"
   ]
  },
  {
   "cell_type": "code",
   "execution_count": 426,
   "metadata": {
    "collapsed": false
   },
   "outputs": [],
   "source": [
    "medianage_merge = medianage.merge(tipmean, on = \"BoroCT2010\", how = \"inner\")"
   ]
  },
  {
   "cell_type": "code",
   "execution_count": 427,
   "metadata": {
    "collapsed": false
   },
   "outputs": [
    {
     "data": {
      "text/html": [
       "<div>\n",
       "<table border=\"1\" class=\"dataframe\">\n",
       "  <thead>\n",
       "    <tr style=\"text-align: right;\">\n",
       "      <th></th>\n",
       "      <th>Census Tract</th>\n",
       "      <th>Estimated typical (median) age of all people between 2010-2014.</th>\n",
       "      <th>BoroCT2010</th>\n",
       "      <th>tip_percentage</th>\n",
       "    </tr>\n",
       "  </thead>\n",
       "  <tbody>\n",
       "    <tr>\n",
       "      <th>0</th>\n",
       "      <td>36085017700, NY</td>\n",
       "      <td>47.0</td>\n",
       "      <td>5017700</td>\n",
       "      <td>17.921260</td>\n",
       "    </tr>\n",
       "    <tr>\n",
       "      <th>1</th>\n",
       "      <td>36061024000, NY</td>\n",
       "      <td>47.0</td>\n",
       "      <td>1024000</td>\n",
       "      <td>20.370370</td>\n",
       "    </tr>\n",
       "    <tr>\n",
       "      <th>2</th>\n",
       "      <td>36081024000, NY</td>\n",
       "      <td>34.0</td>\n",
       "      <td>1024000</td>\n",
       "      <td>20.370370</td>\n",
       "    </tr>\n",
       "    <tr>\n",
       "      <th>3</th>\n",
       "      <td>36061009900, NY</td>\n",
       "      <td>33.0</td>\n",
       "      <td>1009900</td>\n",
       "      <td>21.974352</td>\n",
       "    </tr>\n",
       "    <tr>\n",
       "      <th>4</th>\n",
       "      <td>36081019900, NY</td>\n",
       "      <td>35.0</td>\n",
       "      <td>1019900</td>\n",
       "      <td>20.652656</td>\n",
       "    </tr>\n",
       "  </tbody>\n",
       "</table>\n",
       "</div>"
      ],
      "text/plain": [
       "      Census Tract  \\\n",
       "0  36085017700, NY   \n",
       "1  36061024000, NY   \n",
       "2  36081024000, NY   \n",
       "3  36061009900, NY   \n",
       "4  36081019900, NY   \n",
       "\n",
       "   Estimated typical (median) age of all people between 2010-2014. BoroCT2010  \\\n",
       "0                                               47.0                  5017700   \n",
       "1                                               47.0                  1024000   \n",
       "2                                               34.0                  1024000   \n",
       "3                                               33.0                  1009900   \n",
       "4                                               35.0                  1019900   \n",
       "\n",
       "   tip_percentage  \n",
       "0       17.921260  \n",
       "1       20.370370  \n",
       "2       20.370370  \n",
       "3       21.974352  \n",
       "4       20.652656  "
      ]
     },
     "execution_count": 427,
     "metadata": {},
     "output_type": "execute_result"
    }
   ],
   "source": [
    "medianage_merge.head()"
   ]
  },
  {
   "cell_type": "code",
   "execution_count": 428,
   "metadata": {
    "collapsed": true
   },
   "outputs": [],
   "source": [
    "medianage_merge=medianage_merge.rename(columns = {'Estimated typical (median) age of all people between 2010-2014.':'age'})"
   ]
  },
  {
   "cell_type": "code",
   "execution_count": 430,
   "metadata": {
    "collapsed": false
   },
   "outputs": [
    {
     "data": {
      "text/html": [
       "<div>\n",
       "<table border=\"1\" class=\"dataframe\">\n",
       "  <thead>\n",
       "    <tr style=\"text-align: right;\">\n",
       "      <th></th>\n",
       "      <th>Census Tract</th>\n",
       "      <th>age</th>\n",
       "      <th>BoroCT2010</th>\n",
       "      <th>tip_percentage</th>\n",
       "    </tr>\n",
       "  </thead>\n",
       "  <tbody>\n",
       "    <tr>\n",
       "      <th>0</th>\n",
       "      <td>36085017700, NY</td>\n",
       "      <td>47.0</td>\n",
       "      <td>5017700</td>\n",
       "      <td>17.921260</td>\n",
       "    </tr>\n",
       "    <tr>\n",
       "      <th>1</th>\n",
       "      <td>36061024000, NY</td>\n",
       "      <td>47.0</td>\n",
       "      <td>1024000</td>\n",
       "      <td>20.370370</td>\n",
       "    </tr>\n",
       "    <tr>\n",
       "      <th>2</th>\n",
       "      <td>36081024000, NY</td>\n",
       "      <td>34.0</td>\n",
       "      <td>1024000</td>\n",
       "      <td>20.370370</td>\n",
       "    </tr>\n",
       "    <tr>\n",
       "      <th>3</th>\n",
       "      <td>36061009900, NY</td>\n",
       "      <td>33.0</td>\n",
       "      <td>1009900</td>\n",
       "      <td>21.974352</td>\n",
       "    </tr>\n",
       "    <tr>\n",
       "      <th>4</th>\n",
       "      <td>36081019900, NY</td>\n",
       "      <td>35.0</td>\n",
       "      <td>1019900</td>\n",
       "      <td>20.652656</td>\n",
       "    </tr>\n",
       "  </tbody>\n",
       "</table>\n",
       "</div>"
      ],
      "text/plain": [
       "      Census Tract   age BoroCT2010  tip_percentage\n",
       "0  36085017700, NY  47.0    5017700       17.921260\n",
       "1  36061024000, NY  47.0    1024000       20.370370\n",
       "2  36081024000, NY  34.0    1024000       20.370370\n",
       "3  36061009900, NY  33.0    1009900       21.974352\n",
       "4  36081019900, NY  35.0    1019900       20.652656"
      ]
     },
     "execution_count": 430,
     "metadata": {},
     "output_type": "execute_result"
    }
   ],
   "source": [
    "medianage_merge.head()"
   ]
  },
  {
   "cell_type": "code",
   "execution_count": 433,
   "metadata": {
    "collapsed": true
   },
   "outputs": [],
   "source": [
    "medianage_merge_clean = medianage_merge.loc[medianage_merge.tip_percentage < 50]"
   ]
  },
  {
   "cell_type": "code",
   "execution_count": 441,
   "metadata": {
    "collapsed": false
   },
   "outputs": [
    {
     "data": {
      "text/plain": [
       "<matplotlib.legend.Legend at 0x7f5e40fa7b10>"
      ]
     },
     "execution_count": 441,
     "metadata": {},
     "output_type": "execute_result"
    },
    {
     "data": {
      "image/png": "[encoded data removed]",
      "text/plain": [
       "<matplotlib.figure.Figure at 0x7f5e40fa7950>"
      ]
     },
     "metadata": {},
     "output_type": "display_data"
    }
   ],
   "source": [
    "plt.scatter(medianage_merge_clean.age, medianage_merge_clean.tip_percentage)\n",
    "plt.legend(loc = \"best\")"
   ]
  },
  {
   "cell_type": "code",
   "execution_count": 442,
   "metadata": {
    "collapsed": true
   },
   "outputs": [],
   "source": [
    "medianincome = pd.read_csv(\"ttp2.csv\")"
   ]
  },
  {
   "cell_type": "code",
   "execution_count": 448,
   "metadata": {
    "collapsed": false
   },
   "outputs": [
    {
     "data": {
      "text/html": [
       "<div>\n",
       "<table border=\"1\" class=\"dataframe\">\n",
       "  <thead>\n",
       "    <tr style=\"text-align: right;\">\n",
       "      <th></th>\n",
       "      <th>Census Tract</th>\n",
       "      <th>FIPS Code</th>\n",
       "      <th>Formatted FIPS</th>\n",
       "      <th>Estimated per capita income between 2010-2014.</th>\n",
       "    </tr>\n",
       "  </thead>\n",
       "  <tbody>\n",
       "    <tr>\n",
       "      <th>6</th>\n",
       "      <td>36005050400, NY</td>\n",
       "      <td>3.600505e+10</td>\n",
       "      <td>3.600505e+10</td>\n",
       "      <td>83146.0</td>\n",
       "    </tr>\n",
       "    <tr>\n",
       "      <th>7</th>\n",
       "      <td>36085022800, NY</td>\n",
       "      <td>3.608502e+10</td>\n",
       "      <td>3.608502e+10</td>\n",
       "      <td>69008.0</td>\n",
       "    </tr>\n",
       "    <tr>\n",
       "      <th>8</th>\n",
       "      <td>36085029102, NY</td>\n",
       "      <td>3.608503e+10</td>\n",
       "      <td>3.608503e+10</td>\n",
       "      <td>33233.0</td>\n",
       "    </tr>\n",
       "    <tr>\n",
       "      <th>9</th>\n",
       "      <td>36085019800, NY</td>\n",
       "      <td>3.608502e+10</td>\n",
       "      <td>3.608502e+10</td>\n",
       "      <td>42397.0</td>\n",
       "    </tr>\n",
       "    <tr>\n",
       "      <th>10</th>\n",
       "      <td>36085022600, NY</td>\n",
       "      <td>3.608502e+10</td>\n",
       "      <td>3.608502e+10</td>\n",
       "      <td>35721.0</td>\n",
       "    </tr>\n",
       "    <tr>\n",
       "      <th>12</th>\n",
       "      <td>36005051600, NY</td>\n",
       "      <td>3.600505e+10</td>\n",
       "      <td>3.600505e+10</td>\n",
       "      <td>42790.0</td>\n",
       "    </tr>\n",
       "    <tr>\n",
       "      <th>13</th>\n",
       "      <td>36081091601, NY</td>\n",
       "      <td>3.608109e+10</td>\n",
       "      <td>3.608109e+10</td>\n",
       "      <td>39540.0</td>\n",
       "    </tr>\n",
       "    <tr>\n",
       "      <th>14</th>\n",
       "      <td>36047005300, NY</td>\n",
       "      <td>3.604701e+10</td>\n",
       "      <td>3.604701e+10</td>\n",
       "      <td>39125.0</td>\n",
       "    </tr>\n",
       "    <tr>\n",
       "      <th>15</th>\n",
       "      <td>36047070202, NY</td>\n",
       "      <td>3.604707e+10</td>\n",
       "      <td>3.604707e+10</td>\n",
       "      <td>32331.0</td>\n",
       "    </tr>\n",
       "    <tr>\n",
       "      <th>16</th>\n",
       "      <td>36005043500, NY</td>\n",
       "      <td>3.600504e+10</td>\n",
       "      <td>3.600504e+10</td>\n",
       "      <td>14927.0</td>\n",
       "    </tr>\n",
       "  </tbody>\n",
       "</table>\n",
       "</div>"
      ],
      "text/plain": [
       "       Census Tract     FIPS Code  Formatted FIPS  \\\n",
       "6   36005050400, NY  3.600505e+10    3.600505e+10   \n",
       "7   36085022800, NY  3.608502e+10    3.608502e+10   \n",
       "8   36085029102, NY  3.608503e+10    3.608503e+10   \n",
       "9   36085019800, NY  3.608502e+10    3.608502e+10   \n",
       "10  36085022600, NY  3.608502e+10    3.608502e+10   \n",
       "12  36005051600, NY  3.600505e+10    3.600505e+10   \n",
       "13  36081091601, NY  3.608109e+10    3.608109e+10   \n",
       "14  36047005300, NY  3.604701e+10    3.604701e+10   \n",
       "15  36047070202, NY  3.604707e+10    3.604707e+10   \n",
       "16  36005043500, NY  3.600504e+10    3.600504e+10   \n",
       "\n",
       "    Estimated per capita income between 2010-2014.  \n",
       "6                                          83146.0  \n",
       "7                                          69008.0  \n",
       "8                                          33233.0  \n",
       "9                                          42397.0  \n",
       "10                                         35721.0  \n",
       "12                                         42790.0  \n",
       "13                                         39540.0  \n",
       "14                                         39125.0  \n",
       "15                                         32331.0  \n",
       "16                                         14927.0  "
      ]
     },
     "execution_count": 448,
     "metadata": {},
     "output_type": "execute_result"
    }
   ],
   "source": [
    "medianincome.head(10)"
   ]
  },
  {
   "cell_type": "code",
   "execution_count": 445,
   "metadata": {
    "collapsed": true
   },
   "outputs": [],
   "source": [
    "medianincome.dropna(inplace = True)"
   ]
  },
  {
   "cell_type": "code",
   "execution_count": 449,
   "metadata": {
    "collapsed": true
   },
   "outputs": [],
   "source": [
    "medianincome[\"BoroCT2010\"] = medianincome['Census Tract'].apply(lambda x: str(x)[4:-4])"
   ]
  },
  {
   "cell_type": "code",
   "execution_count": 451,
   "metadata": {
    "collapsed": false
   },
   "outputs": [
    {
     "data": {
      "text/plain": [
       "Index([u'Census Tract', u'FIPS Code', u'Formatted FIPS',\n",
       "       u'Estimated per capita income between 2010-2014.', u'BoroCT2010'],\n",
       "      dtype='object')"
      ]
     },
     "execution_count": 451,
     "metadata": {},
     "output_type": "execute_result"
    }
   ],
   "source": [
    "medianincome.columns"
   ]
  },
  {
   "cell_type": "code",
   "execution_count": 452,
   "metadata": {
    "collapsed": true
   },
   "outputs": [],
   "source": [
    "medianincome_merge = medianincome.merge(tipmean, on = \"BoroCT2010\", how = \"inner\")"
   ]
  },
  {
   "cell_type": "code",
   "execution_count": 453,
   "metadata": {
    "collapsed": true
   },
   "outputs": [],
   "source": [
    "medianincome_merge=medianincome_merge.rename(columns = {'Estimated per capita income between 2010-2014.':'income per capita'})"
   ]
  },
  {
   "cell_type": "code",
   "execution_count": 455,
   "metadata": {
    "collapsed": false
   },
   "outputs": [
    {
     "data": {
      "text/html": [
       "<div>\n",
       "<table border=\"1\" class=\"dataframe\">\n",
       "  <thead>\n",
       "    <tr style=\"text-align: right;\">\n",
       "      <th></th>\n",
       "      <th>Census Tract</th>\n",
       "      <th>FIPS Code</th>\n",
       "      <th>Formatted FIPS</th>\n",
       "      <th>income per capita</th>\n",
       "      <th>BoroCT2010</th>\n",
       "      <th>tip_percentage</th>\n",
       "    </tr>\n",
       "  </thead>\n",
       "  <tbody>\n",
       "    <tr>\n",
       "      <th>0</th>\n",
       "      <td>36085017700, NY</td>\n",
       "      <td>3.608502e+10</td>\n",
       "      <td>3.608502e+10</td>\n",
       "      <td>53314.0</td>\n",
       "      <td>5017700</td>\n",
       "      <td>17.921260</td>\n",
       "    </tr>\n",
       "    <tr>\n",
       "      <th>1</th>\n",
       "      <td>36061024000, NY</td>\n",
       "      <td>3.606102e+10</td>\n",
       "      <td>3.606102e+10</td>\n",
       "      <td>5171.0</td>\n",
       "      <td>1024000</td>\n",
       "      <td>20.370370</td>\n",
       "    </tr>\n",
       "    <tr>\n",
       "      <th>2</th>\n",
       "      <td>36081024000, NY</td>\n",
       "      <td>3.608102e+10</td>\n",
       "      <td>3.608102e+10</td>\n",
       "      <td>18151.0</td>\n",
       "      <td>1024000</td>\n",
       "      <td>20.370370</td>\n",
       "    </tr>\n",
       "    <tr>\n",
       "      <th>3</th>\n",
       "      <td>36061009900, NY</td>\n",
       "      <td>3.606101e+10</td>\n",
       "      <td>3.606101e+10</td>\n",
       "      <td>123604.0</td>\n",
       "      <td>1009900</td>\n",
       "      <td>21.974352</td>\n",
       "    </tr>\n",
       "    <tr>\n",
       "      <th>4</th>\n",
       "      <td>36081019900, NY</td>\n",
       "      <td>3.608102e+10</td>\n",
       "      <td>3.608102e+10</td>\n",
       "      <td>15463.0</td>\n",
       "      <td>1019900</td>\n",
       "      <td>20.652656</td>\n",
       "    </tr>\n",
       "  </tbody>\n",
       "</table>\n",
       "</div>"
      ],
      "text/plain": [
       "      Census Tract     FIPS Code  Formatted FIPS  income per capita  \\\n",
       "0  36085017700, NY  3.608502e+10    3.608502e+10            53314.0   \n",
       "1  36061024000, NY  3.606102e+10    3.606102e+10             5171.0   \n",
       "2  36081024000, NY  3.608102e+10    3.608102e+10            18151.0   \n",
       "3  36061009900, NY  3.606101e+10    3.606101e+10           123604.0   \n",
       "4  36081019900, NY  3.608102e+10    3.608102e+10            15463.0   \n",
       "\n",
       "  BoroCT2010  tip_percentage  \n",
       "0    5017700       17.921260  \n",
       "1    1024000       20.370370  \n",
       "2    1024000       20.370370  \n",
       "3    1009900       21.974352  \n",
       "4    1019900       20.652656  "
      ]
     },
     "execution_count": 455,
     "metadata": {},
     "output_type": "execute_result"
    }
   ],
   "source": [
    "medianincome_merge.head()"
   ]
  },
  {
   "cell_type": "code",
   "execution_count": 456,
   "metadata": {
    "collapsed": true
   },
   "outputs": [],
   "source": [
    "medianincome_merge_clean = medianincome_merge.loc[medianincome_merge.tip_percentage < 50]"
   ]
  },
  {
   "cell_type": "code",
   "execution_count": 461,
   "metadata": {
    "collapsed": false
   },
   "outputs": [
    {
     "data": {
      "text/plain": [
       "<matplotlib.legend.Legend at 0x7f5e31244990>"
      ]
     },
     "execution_count": 461,
     "metadata": {},
     "output_type": "execute_result"
    },
    {
     "data": {
      "image/png": "[encoded data removed]",
      "text/plain": [
       "<matplotlib.figure.Figure at 0x7f5e3636f1d0>"
      ]
     },
     "metadata": {},
     "output_type": "display_data"
    }
   ],
   "source": [
    "plt.scatter(medianincome_merge_clean[\"income per capita\"], medianincome_merge_clean.tip_percentage)\n",
    "plt.ylabel(\"Tip percentage\")\n",
    "plt.xlabel(\"Income per capita, 2010-2014\")\n",
    "plt.title(\"Tip vs Income\")\n",
    "plt.legend(loc = \"best\")\n"
   ]
  },
  {
   "cell_type": "markdown",
   "metadata": {},
   "source": []
  },
  {
   "cell_type": "code",
   "execution_count": null,
   "metadata": {
    "collapsed": true
   },
   "outputs": [],
   "source": []
  }
 ],
 "metadata": {
  "kernelspec": {
   "display_name": "PUI2016_Python2",
   "language": "python",
   "name": "pui2016_python2"
  },
  "language_info": {
   "codemirror_mode": {
    "name": "ipython",
    "version": 2
   },
   "file_extension": ".py",
   "mimetype": "text/x-python",
   "name": "python",
   "nbconvert_exporter": "python",
   "pygments_lexer": "ipython2",
   "version": "2.7.12"
  }
 },
 "nbformat": 4,
 "nbformat_minor": 0
}
