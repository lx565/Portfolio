{
 "cells": [
  {
   "cell_type": "markdown",
   "metadata": {},
   "source": [
    "    In order to learn about how to use BeautifulSoup. I did a mini project on Scraping for the data scientist job description on Indeed.com"
   ]
  },
  {
   "cell_type": "code",
   "execution_count": 19,
   "metadata": {
    "collapsed": true
   },
   "outputs": [],
   "source": [
    "from bs4 import BeautifulSoup\n",
    "import urllib.request"
   ]
  },
  {
   "cell_type": "code",
   "execution_count": 33,
   "metadata": {},
   "outputs": [],
   "source": [
    "# feed the link of the website with the search initiated as data scientist job in San Francisco\n",
    "url = \"https://www.indeed.com/m/jobs?q=data%20scientist&l=San%20Francisco%2C%20CA\"\n",
    "\n",
    "page = urllib.request.urlopen(url)\n",
    "soup = BeautifulSoup(page, 'lxml') "
   ]
  },
  {
   "cell_type": "code",
   "execution_count": 35,
   "metadata": {},
   "outputs": [
    {
     "data": {
      "text/plain": [
       "<!DOCTYPE html PUBLIC \"-//WAPFORUM//DTD XHTML Mobile 1.0//EN\" \"http://www.wapforum.org/DTD/xhtml-mobile10.dtd\">\n",
       "<html xmlns=\"http://www.w3.org/1999/xhtml\">\n",
       "<head>\n",
       "<title>Data Scientist Jobs, Employment in San Francisco, CA | Indeed Mobile</title>\n",
       "<meta content=\"1,785  Data Scientist Jobs available in San Francisco, CA on Indeed.com.  one search.  all jobs.\" name=\"description\"/>\n",
       "<meta content=\"text/html; charset=utf-8\" http-equiv=\"content-type\"/>\n",
       "<meta content=\"origin\" name=\"referrer\"/>\n",
       "<link href=\"jobs?q=data+scientist&amp;l=San+Francisco%2C+CA&amp;start=10&amp;pp=AAoAAAAAAAAAAAAAAAEagedVAQADBVwSacvILJCAqZax-2tRiS3D5T_XjzjmkEwTyIA\" rel=\"next\"/>\n",
       "<link href=\"/q-Data-Scientist-l-San-Francisco,-CA-jobs.html\" rel=\"canonical\"/>\n",
       "<link href=\"android-app://com.indeed.android.jobsearch/https/www.indeed.com/m/jobs?l=San+Francisco%2C+CA&amp;q=data+scientist\" rel=\"alternate\"/>\n",
       "<style type=\"text/css\"><!--\n",
       "/* global */\n",
       "body{font-family:sans-serif;font-size:12px}\n",
       "a img { border:0; }\n",
       ".source{color:#080}\n",
       ".location{color:#666}\n",
       ".salary{color:#666}\n",
       ".date{color:#666}\n",
       "\n",
       "/* home */\n",
       ".label{color:#666}\n",
       ".label b{color:#f60}\n",
       "\n",
       "/* results */\n",
       "hr{height:1px;border:none;border-top:1px solid #ccc}\n",
       "\n",
       "h1.serpHeading{font-size:12px}\n",
       "h2.jobTitle{font-size:12px;font-weight:normal;display:inline}\n",
       "\n",
       "/* job */\n",
       ".expired ul,\n",
       ".metaList { padding: 0; margin: 1em 0; list-style-type:none; }\n",
       ".expiresDate { color: #f60; }\n",
       ".expiredNotice { color: #c00; }\n",
       ".metaLabel { color: #666; }\n",
       "\n",
       "/* alerts */\n",
       ".error {color:#f00}\n",
       ".caption {color:#666666; font-size:11px;}\n",
       "\n",
       "--></style>\n",
       "</head>\n",
       "<body>\n",
       "<div><a href=\"/m/\"><img alt=\"Indeed Mobile Job Search\" height=\"26\" src=\"/m/_xhtmlmp/images/indeed_r.gif\" width=\"99\"/></a></div>\n",
       "<h1 class=\"serpHeading\">data scientist jobs in San Francisco, CA</h1>\n",
       "<p>Jobs 1-10 of 1,785: <a href=\"/m/jobalerts?q=data+scientist&amp;l=San+Francisco%2C+CA&amp;dest=%2Fm%2Fjobs%3Fq%3Ddata%2Bscientist%26l%3DSan%2BFrancisco%252C%2BCA\">Be the first to see new jobs</a>\n",
       "</p>\n",
       "<p></p><h2 class=\"jobTitle\"><a href=\"viewjob?jk=9d40ca70a20f8d13\" rel=\"nofollow\">Data Scientist</a></h2><br/>\n",
       "Intelletec - <span class=\"location\">San Francisco, CA</span><br/>\n",
       "<span class=\"salary\">$150,000 - $170,000 a year</span><br/><span class=\"date\">20 days ago</span>\n",
       "<hr/>\n",
       "<p></p><h2 class=\"jobTitle\"><a href=\"viewjob?jk=a6738267f038ca63\" rel=\"nofollow\">Data Scientist</a></h2><br/>\n",
       "Intelletec's Client - <span class=\"location\">San Francisco Bay Area, CA</span><br/>\n",
       "<span class=\"salary\">$120,000 - $165,000 a year</span><br/><span class=\"date\">16 days ago</span>\n",
       "<hr/>\n",
       "<p></p><h2 class=\"jobTitle\"><a href=\"viewjob?jk=5ed10143d014e847\" rel=\"nofollow\">Data Scientist/Quantitative Analyst, Engineering</a></h2><br/>\n",
       "Google - <span class=\"location\">San Francisco, CA</span><br/>\n",
       "<span class=\"date\">27 days ago</span>\n",
       "<hr/>\n",
       "<p></p><h2 class=\"jobTitle\"><a href=\"viewjob?jk=ceb2b2dd3be27eab\" rel=\"nofollow\">Data Scientist</a></h2><br/>\n",
       "Twitter - <span class=\"location\">San Francisco, CA 94103</span><br/>\n",
       "<span class=\"date\">28 days ago</span>\n",
       "<hr/>\n",
       "<p></p><h2 class=\"jobTitle\"><a href=\"viewjob?jk=6adde09399efde7f\" rel=\"nofollow\">Data Scientist: Modeling/Forecasting</a></h2><br/>\n",
       "Twitter - <span class=\"location\">San Francisco, CA 94103</span><br/>\n",
       "<span class=\"date\">8 days ago</span>\n",
       "<hr/>\n",
       "<p></p><h2 class=\"jobTitle\"><a href=\"viewjob?jk=7d8b5d79746e2b45\" rel=\"nofollow\">Data Scientist</a></h2><br/>\n",
       "World Wide Technology, Inc. - <span class=\"location\">San Francisco, CA 94105</span><br/>\n",
       "<span class=\"date\">1 day ago</span>\n",
       "<hr/>\n",
       "<p></p><h2 class=\"jobTitle\"><a href=\"viewjob?jk=cde7856845b70f7e\" rel=\"nofollow\">Data Scientist / Quantitative Analyst Technical Lead, Engine...</a></h2><br/>\n",
       "Google - <span class=\"location\">San Bruno, CA</span><br/>\n",
       "<span class=\"date\">11 days ago</span>\n",
       "<hr/>\n",
       "<p></p><h2 class=\"jobTitle\"><a href=\"viewjob?jk=4a0590fb87076cda\" rel=\"nofollow\">Data Scientist - AWS Professional Services</a></h2><br/>\n",
       "Amazon Web Services, Inc. - <span class=\"location\">San Francisco, CA</span><br/>\n",
       "<span class=\"date\">12 days ago</span>\n",
       "<hr/>\n",
       "<p></p><h2 class=\"jobTitle\"><a href=\"viewjob?jk=f8c952b4cb6719ee\" rel=\"nofollow\">Data Scientist</a></h2><br/>\n",
       "Metabiota - <span class=\"location\">San Francisco, CA 94104</span><br/>\n",
       "<span class=\"date\">23 hours ago</span>\n",
       "<hr/>\n",
       "<p></p><h2 class=\"jobTitle\"><a href=\"viewjob?jk=ce1f392146a6bb6c\" rel=\"nofollow\">Data Scientist</a></h2><br/>\n",
       "Radius - <span class=\"location\">San Francisco, CA</span><br/>\n",
       "<span class=\"date\">6 days ago</span>\n",
       "<hr/>\n",
       "<p>Jobs 1-10 of 1,785:\n",
       "<a href=\"jobs?q=data+scientist&amp;l=San+Francisco%2C+CA&amp;start=10&amp;pp=AAoAAAAAAAAAAAAAAAEagedVAQADBVwSacvILJCAqZax-2tRiS3D5T_XjzjmkEwTyIA\">Next</a>\n",
       "</p>\n",
       "<p><b>New Search</b></p>\n",
       "<form action=\"/m/jobs\" method=\"get\">\n",
       "<p><span class=\"label\"><b>what</b> job title, keywords, or company</span><br/>\n",
       "<input name=\"q\" type=\"text\" value=\"data scientist\"/></p>\n",
       "<p><span class=\"label\"><b>where</b> city, state, or zip code</span><br/>\n",
       "<input name=\"l\" type=\"text\" value=\"San Francisco, CA\"/></p>\n",
       "<p><input type=\"submit\" value=\"Find Jobs\"/></p>\n",
       "</form><p>View Indeed in: <span aria-hidden=\"true\"><b>Mobile</b> - </span><a href=\"/stc?m=1&amp;dest=%2Fjobs%3Fq%3Ddata%2520scientist%26l%3DSan%2520Francisco%252C%2520CA\">Classic</a></p><script async=\"\" type=\"text/javascript\">var ga_domains = ['indeed.com', 'indeed.com.au', 'indeed.com.br', 'indeed.ca', 'indeed.ch', 'indeed.cl', 'indeed.com.co', 'indeed.de', 'indeed.es', 'indeed.fr', 'indeed.co.uk', 'indeed.hk', 'indeed.ie', 'indeed.co.in', 'indeed.jp', 'indeed.com.mx', 'indeed.nl', 'indeed.com.sg', 'indeed.co.za', 'indeed.ae', 'indeed.fi', 'indeed.lu', 'indeed.com.my', 'indeed.com.pe', 'indeed.com.ph', 'indeed.com.pk', 'indeed.pt', 'indeed.co.ve'];\n",
       "(function(i, s, o, g, r, a, m) {\n",
       "    i['GoogleAnalyticsObject'] = r;\n",
       "    i[r] = i[r] || function() {\n",
       "        (i[r].q = i[r].q || []).push(arguments)\n",
       "    }, i[r].l = 1 * new Date();\n",
       "    a = s.createElement(o),\n",
       "        m = s.getElementsByTagName(o)[0];\n",
       "        a.async = 1;\n",
       "        a.src = g;\n",
       "        m.parentNode.insertBefore(a, m)\n",
       "})(window, document, 'script', '//www.google-analytics.com/analytics.js', 'ga');\n",
       "\n",
       "var ga = ga || [];\n",
       "ga('create', 'UA-90780-1', 'auto', {\n",
       "    'allowLinker': true\n",
       "});\n",
       "ga('require', 'linkid');  \n",
       "ga('require', 'linker');\n",
       "ga('linker:autoLink', ga_domains, false, true);\n",
       "ga('require', 'displayfeatures');\n",
       "ga('send', 'pageview');\n",
       "             \n",
       "(function () {\n",
       "   if (window.PENDING_ANALYTICS_VARS && window.PENDING_ANALYTICS_VARS.length > 0) {\n",
       "       for (var i in PENDING_ANALYTICS_VARS) {\n",
       "           ga('set', PENDING_ANALYTICS_VARS[i][2], PENDING_ANALYTICS_VARS[i][3]);\n",
       "       }\n",
       "   }\n",
       "})();\n",
       "            </script><script><!--\n",
       "var _comscore = _comscore || []; _comscore.push({ c1: \"2\", c2: \"6486505\", c4:\"http:\\/\\/www.indeed.com\\/m\\/jobs?q\\x3ddata%20scientist\\x26l\\x3dSan%20Francisco%2C%20CA\", c15:\"\"});(function() { var s = document.createElement(\"script\"), el = document.getElementsByTagName(\"script\")[0]; s.async = true; s.src = (document.location.protocol == \"https:\" ? \"https://sb\" : \"http://b\") + \".scorecardresearch.com/beacon.js\"; el.parentNode.insertBefore(s, el); })(); // --></script><noscript><img alt=\"\" height=\"0\" src=\"//b.scorecardresearch.com/p?c1=2&amp;c2=6486505&amp;c4=http%3A%2F%2Fwww.indeed.com%2Fm%2Fjobs%3Fq%3Ddata%2520scientist%26l%3DSan%2520Francisco%252C%2520CA&amp;c15=&amp;cv=2.0&amp;cj=1\" style=\"display:none\" width=\"0\"/></noscript></body>\n",
       "</html>"
      ]
     },
     "execution_count": 35,
     "metadata": {},
     "output_type": "execute_result"
    }
   ],
   "source": [
    "soup"
   ]
  },
  {
   "cell_type": "code",
   "execution_count": 30,
   "metadata": {},
   "outputs": [],
   "source": [
    "match = soup.find_all(name=\"a\", attrs= {'rel':'nofollow'})"
   ]
  },
  {
   "cell_type": "code",
   "execution_count": 32,
   "metadata": {},
   "outputs": [
    {
     "data": {
      "text/plain": [
       "[<a href=\"viewjob?jk=9d40ca70a20f8d13\" rel=\"nofollow\">Data Scientist</a>,\n",
       " <a href=\"viewjob?jk=a6738267f038ca63\" rel=\"nofollow\">Data Scientist</a>,\n",
       " <a href=\"viewjob?jk=5ed10143d014e847\" rel=\"nofollow\">Data Scientist/Quantitative Analyst, Engineering</a>,\n",
       " <a href=\"viewjob?jk=ceb2b2dd3be27eab\" rel=\"nofollow\">Data Scientist</a>,\n",
       " <a href=\"viewjob?jk=6adde09399efde7f\" rel=\"nofollow\">Data Scientist: Modeling/Forecasting</a>,\n",
       " <a href=\"viewjob?jk=7d8b5d79746e2b45\" rel=\"nofollow\">Data Scientist</a>,\n",
       " <a href=\"viewjob?jk=cde7856845b70f7e\" rel=\"nofollow\">Data Scientist / Quantitative Analyst Technical Lead, Engine...</a>,\n",
       " <a href=\"viewjob?jk=4a0590fb87076cda\" rel=\"nofollow\">Data Scientist - AWS Professional Services</a>,\n",
       " <a href=\"viewjob?jk=f8c952b4cb6719ee\" rel=\"nofollow\">Data Scientist</a>,\n",
       " <a href=\"viewjob?jk=ce1f392146a6bb6c\" rel=\"nofollow\">Data Scientist</a>]"
      ]
     },
     "execution_count": 32,
     "metadata": {},
     "output_type": "execute_result"
    }
   ],
   "source": [
    "match # each page we get 10 posts of jobs"
   ]
  },
  {
   "cell_type": "code",
   "execution_count": 42,
   "metadata": {},
   "outputs": [
    {
     "name": "stdout",
     "output_type": "stream",
     "text": [
      "viewjob?jk=9d40ca70a20f8d13\n",
      "https://www.indeed.com/m/viewjob?jk=9d40ca70a20f8d13\n",
      "viewjob?jk=a6738267f038ca63\n",
      "https://www.indeed.com/m/viewjob?jk=a6738267f038ca63\n",
      "viewjob?jk=5ed10143d014e847\n",
      "https://www.indeed.com/m/viewjob?jk=5ed10143d014e847\n",
      "viewjob?jk=ceb2b2dd3be27eab\n",
      "https://www.indeed.com/m/viewjob?jk=ceb2b2dd3be27eab\n",
      "viewjob?jk=6adde09399efde7f\n",
      "https://www.indeed.com/m/viewjob?jk=6adde09399efde7f\n",
      "viewjob?jk=7d8b5d79746e2b45\n",
      "https://www.indeed.com/m/viewjob?jk=7d8b5d79746e2b45\n",
      "viewjob?jk=cde7856845b70f7e\n",
      "https://www.indeed.com/m/viewjob?jk=cde7856845b70f7e\n",
      "viewjob?jk=4a0590fb87076cda\n",
      "https://www.indeed.com/m/viewjob?jk=4a0590fb87076cda\n",
      "viewjob?jk=f8c952b4cb6719ee\n",
      "https://www.indeed.com/m/viewjob?jk=f8c952b4cb6719ee\n",
      "viewjob?jk=ce1f392146a6bb6c\n",
      "https://www.indeed.com/m/viewjob?jk=ce1f392146a6bb6c\n"
     ]
    }
   ],
   "source": [
    "for i in match:\n",
    "    # get the links of each job post\n",
    "    print (i[\"href\"])\n",
    "    print (\"https://www.indeed.com/m/\"+i[\"href\"])# create the links"
   ]
  },
  {
   "cell_type": "markdown",
   "metadata": {},
   "source": [
    "    one level further for getting into each job link to get the description"
   ]
  },
  {
   "cell_type": "code",
   "execution_count": 53,
   "metadata": {},
   "outputs": [
    {
     "name": "stdout",
     "output_type": "stream",
     "text": [
      "Data Scientist - San Francisco, CA - Indeed Mobile\n",
      "Data Scientist - San Francisco Bay Area, CA - Indeed Mobile\n",
      "Data Scientist/Quantitative Analyst, Engineering - San Francisco, CA - Indeed Mobile\n",
      "Data Scientist - San Francisco, CA 94103 - Indeed Mobile\n",
      "Data Scientist: Modeling/Forecasting - San Francisco, CA 94103 - Indeed Mobile\n",
      "Data Scientist - San Francisco, CA 94105 - Indeed Mobile\n",
      "Data Scientist / Quantitative Analyst Technical Lead, Engineering - San Bruno, CA - Indeed Mobile\n",
      "Data Scientist - AWS Professional Services - San Francisco, CA - Indeed Mobile\n",
      "Data Scientist - San Francisco, CA 94104 - Indeed Mobile\n",
      "Data Scientist - San Francisco, CA - Indeed Mobile\n"
     ]
    }
   ],
   "source": [
    "f = open(\"scraping.txt\", \"w\")\n",
    "for i in match:\n",
    "\n",
    "    url_d = \"https://www.indeed.com/m/\"+i[\"href\"] # update each links\n",
    "    page_d = urllib.request.urlopen(url_d)\n",
    "    soup_d = BeautifulSoup(page_d, 'lxml') \n",
    "    match_d = soup_d.findAll('div', attrs={\"id\": \"desc\"})\n",
    "    \n",
    "    \n",
    "    title = soup_d.html.head.title\n",
    "    \n",
    "    print (title.string)\n",
    "    f.write(title.string)\n",
    "    f.write(str(match_d))\n",
    "    f.write(\"\\n#######\\n\")"
   ]
  },
  {
   "cell_type": "code",
   "execution_count": null,
   "metadata": {
    "collapsed": true
   },
   "outputs": [],
   "source": []
  }
 ],
 "metadata": {
  "kernelspec": {
   "display_name": "Python 3",
   "language": "python",
   "name": "python3"
  },
  "language_info": {
   "codemirror_mode": {
    "name": "ipython",
    "version": 3
   },
   "file_extension": ".py",
   "mimetype": "text/x-python",
   "name": "python",
   "nbconvert_exporter": "python",
   "pygments_lexer": "ipython3",
   "version": "3.6.1"
  }
 },
 "nbformat": 4,
 "nbformat_minor": 2
}
